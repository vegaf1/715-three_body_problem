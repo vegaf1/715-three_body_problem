{
 "cells": [
  {
   "cell_type": "code",
   "execution_count": 4,
   "id": "d1955b25",
   "metadata": {},
   "outputs": [],
   "source": [
    "#Finding Lagrange Points\n",
    "using LinearAlgebra\n",
    "using ForwardDiff"
   ]
  },
  {
   "cell_type": "code",
   "execution_count": 5,
   "id": "352e3be4",
   "metadata": {},
   "outputs": [
    {
     "data": {
      "text/plain": [
       "0.01215"
      ]
     },
     "execution_count": 5,
     "metadata": {},
     "output_type": "execute_result"
    }
   ],
   "source": [
    "#mass parameter for Earth Moon system\n",
    "μ = 1.215e-2"
   ]
  },
  {
   "cell_type": "code",
   "execution_count": 6,
   "id": "3157cd60",
   "metadata": {},
   "outputs": [
    {
     "data": {
      "text/plain": [
       "quintic_residual_L1 (generic function with 1 method)"
      ]
     },
     "execution_count": 6,
     "metadata": {},
     "output_type": "execute_result"
    }
   ],
   "source": [
    "function quintic_residual_L1(x)\n",
    "    \n",
    "    r = x^5-(3-μ)*x^4+(3-2*μ)*x^3 - μ*x^2 + 2*μ*x - μ\n",
    "    \n",
    "    return r\n",
    "end"
   ]
  },
  {
   "cell_type": "code",
   "execution_count": 7,
   "id": "86877114",
   "metadata": {},
   "outputs": [
    {
     "data": {
      "text/plain": [
       "quintic_residual_L2 (generic function with 1 method)"
      ]
     },
     "execution_count": 7,
     "metadata": {},
     "output_type": "execute_result"
    }
   ],
   "source": [
    "function quintic_residual_L2(x)\n",
    "    \n",
    "    r = x^5+(3-μ)*x^4+(3-2*μ)*x^3 - μ*x^2 - 2*μ*x - μ\n",
    "    \n",
    "    return r\n",
    "end"
   ]
  },
  {
   "cell_type": "code",
   "execution_count": 8,
   "id": "c5ec18a6",
   "metadata": {},
   "outputs": [
    {
     "data": {
      "text/plain": [
       "0.16741810963732096"
      ]
     },
     "execution_count": 8,
     "metadata": {},
     "output_type": "execute_result"
    }
   ],
   "source": [
    "#Series expansion as initial guess\n",
    "rh = (μ/3)^(1/3) #Hill radius\n",
    "\n",
    "y1_1 = rh*(1-(1/3)*rh-(1/9)*rh^2)\n",
    "y2_1 = rh*(1+(1/3)*rh-(1/9)*rh^2)"
   ]
  },
  {
   "cell_type": "code",
   "execution_count": 9,
   "id": "d6eb8b6b",
   "metadata": {},
   "outputs": [],
   "source": [
    "#Finding y1\n",
    "\n",
    "# vectors for storing the x_k's and r(x_k)'s\n",
    "X_1 = NaN*ones(10)\n",
    "R_1 = NaN*ones(10)\n",
    "    \n",
    "# initial guess from the 3rd order Hills Taylor Expansion\n",
    "X_1[1] = y1_1 #initial guess\n",
    "R_1[1] = quintic_residual_L1(X_1[1]) #initial residual\n",
    "    \n",
    "# store x values in X, R values in R \n",
    "    \n",
    "#maximum iterations\n",
    "max_iters = 10\n",
    "tol = 1e-12\n",
    "    \n",
    "trim = 0\n",
    "    \n",
    "for i=1:max_iters-1\n",
    "        \n",
    "    #find the residual\n",
    "    R_1[i] = quintic_residual_L1(X_1[i])\n",
    "        \n",
    "    if abs(R_1[i])<tol\n",
    "            \n",
    "        trim = i\n",
    "        break\n",
    "            \n",
    "    end\n",
    "        \n",
    "    #Find the derivative\n",
    "    J_1 = ForwardDiff.derivative(quintic_residual_L1, X_1[i])\n",
    "        \n",
    "    delta_x1 = J_1\\-R_1[i]\n",
    "        \n",
    "    X_1[i+1] = X_1[i] + delta_x1\n",
    "        \n",
    "end"
   ]
  },
  {
   "cell_type": "code",
   "execution_count": 10,
   "id": "063a64b3",
   "metadata": {},
   "outputs": [
    {
     "data": {
      "text/plain": [
       "0.1509319926830696"
      ]
     },
     "execution_count": 10,
     "metadata": {},
     "output_type": "execute_result"
    }
   ],
   "source": [
    "R_y1 = R_1[1:trim]\n",
    "X_y1 = X_1[1:trim]\n",
    "\n",
    "y1 = X_y1[end]"
   ]
  },
  {
   "cell_type": "code",
   "execution_count": 11,
   "id": "98490b5b",
   "metadata": {},
   "outputs": [],
   "source": [
    "#Finding y1\n",
    "\n",
    "# vectors for storing the x_k's and r(x_k)'s\n",
    "X_2 = NaN*ones(10)\n",
    "R_2 = NaN*ones(10)\n",
    "    \n",
    "# initial guess from the 3rd order Hills Taylor Expansion\n",
    "X_2[1] = y2_1 #initial guess\n",
    "R_2[1] = quintic_residual_L2(X_2[1]) #initial residual\n",
    "    \n",
    "# store x values in X, R values in R \n",
    "    \n",
    "#maximum iterations\n",
    "max_iters = 10\n",
    "tol = 1e-12\n",
    "    \n",
    "trim = 0\n",
    "    \n",
    "for i=1:max_iters-1\n",
    "        \n",
    "    #find the residual\n",
    "    R_2[i] = quintic_residual_L2(X_2[i])\n",
    "        \n",
    "    if abs(R_2[i])<tol\n",
    "            \n",
    "        trim = i\n",
    "        break\n",
    "            \n",
    "    end\n",
    "        \n",
    "    #Find the derivative\n",
    "    J_2 = ForwardDiff.derivative(quintic_residual_L2, X_2[i])\n",
    "        \n",
    "    delta_x2 = J_2\\-R_2[i]\n",
    "        \n",
    "    X_2[i+1] = X_2[i] + delta_x2\n",
    "        \n",
    "end"
   ]
  },
  {
   "cell_type": "code",
   "execution_count": 12,
   "id": "a248fc95",
   "metadata": {},
   "outputs": [
    {
     "data": {
      "text/plain": [
       "0.16782991309473538"
      ]
     },
     "execution_count": 12,
     "metadata": {},
     "output_type": "execute_result"
    }
   ],
   "source": [
    "R_y2= R_2[1:trim]\n",
    "X_y2 = X_2[1:trim]\n",
    "\n",
    "y2 = X_y2[end]"
   ]
  },
  {
   "cell_type": "code",
   "execution_count": 13,
   "id": "6859770d",
   "metadata": {},
   "outputs": [
    {
     "name": "stdout",
     "output_type": "stream",
     "text": [
      "0.1509319926830696"
     ]
    }
   ],
   "source": [
    "print(y1)"
   ]
  },
  {
   "cell_type": "code",
   "execution_count": 14,
   "id": "dfbc9b1a",
   "metadata": {},
   "outputs": [
    {
     "data": {
      "text/plain": [
       "0.8369180073169304"
      ]
     },
     "metadata": {},
     "output_type": "display_data"
    },
    {
     "data": {
      "text/plain": [
       "1.1556799130947355"
      ]
     },
     "metadata": {},
     "output_type": "display_data"
    }
   ],
   "source": [
    "#both points are on either side of m2\n",
    "\n",
    "#x position of L1\n",
    "XL1 = (1-μ) - y1\n",
    "display(XL1)\n",
    "\n",
    "#x position of L2\n",
    "XL2 = (1-μ) + y2\n",
    "display(XL2)"
   ]
  },
  {
   "cell_type": "code",
   "execution_count": 15,
   "id": "2999be8f",
   "metadata": {},
   "outputs": [
    {
     "data": {
      "text/plain": [
       "4×4 Matrix{Float64}:\n",
       "  0.0      0.0       1.0  0.0\n",
       "  0.0      0.0       0.0  1.0\n",
       " 11.2951   0.0       0.0  2.0\n",
       "  0.0     -4.14757  -2.0  0.0"
      ]
     },
     "execution_count": 15,
     "metadata": {},
     "output_type": "execute_result"
    }
   ],
   "source": [
    "#checking stability near Equilibria\n",
    "#evaluating at L1\n",
    "x_e = XL1\n",
    "\n",
    "μ_bar = μ*abs(x_e - 1+μ)^(-3) + (1-μ)*abs(x_e+μ)^(-3)\n",
    "\n",
    "a = 2*μ_bar+1\n",
    "b = μ_bar-1\n",
    "\n",
    "L_left = [a 0; 0 -b]\n",
    "L_right = [0 2; -2 0]\n",
    "A = [zeros((2,2)) I; L_left L_right]"
   ]
  },
  {
   "cell_type": "code",
   "execution_count": 16,
   "id": "4051b4ad",
   "metadata": {},
   "outputs": [
    {
     "data": {
      "text/plain": [
       "4-element Vector{ComplexF64}:\n",
       "     -2.9320486822959824 + 0.0im\n",
       " -2.7755575615628914e-17 - 2.334381315836003im\n",
       " -2.7755575615628914e-17 + 2.334381315836003im\n",
       "      2.9320486822959824 + 0.0im"
      ]
     },
     "execution_count": 16,
     "metadata": {},
     "output_type": "execute_result"
    }
   ],
   "source": [
    "eigvals(A)"
   ]
  },
  {
   "cell_type": "code",
   "execution_count": 17,
   "id": "b74e0d56",
   "metadata": {},
   "outputs": [
    {
     "data": {
      "text/plain": [
       "4×4 Matrix{Float64}:\n",
       " 0.0       0.0       1.0  0.0\n",
       " 0.0       0.0       0.0  1.0\n",
       " 7.38087   0.0       0.0  2.0\n",
       " 0.0      -2.19044  -2.0  0.0"
      ]
     },
     "execution_count": 17,
     "metadata": {},
     "output_type": "execute_result"
    }
   ],
   "source": [
    "#checking stability near Equilibria\n",
    "#evaluating at L2\n",
    "x_e = XL2\n",
    "\n",
    "μ_bar = μ*abs(x_e - 1+μ)^(-3) + (1-μ)*abs(x_e+μ)^(-3)\n",
    "\n",
    "a = 2*μ_bar+1\n",
    "b = μ_bar-1\n",
    "\n",
    "L_left = [a 0; 0 -b]\n",
    "L_right = [0 2; -2 0]\n",
    "A = [zeros((2,2)) I; L_left L_right]"
   ]
  },
  {
   "cell_type": "code",
   "execution_count": 18,
   "id": "3e24313a",
   "metadata": {},
   "outputs": [
    {
     "data": {
      "text/plain": [
       "4-element Vector{ComplexF64}:\n",
       "     -2.1586796524643663 + 0.0im\n",
       " -1.1102230246251565e-16 - 1.8626489826065766im\n",
       " -1.1102230246251565e-16 + 1.8626489826065766im\n",
       "      2.1586796524643663 + 0.0im"
      ]
     },
     "execution_count": 18,
     "metadata": {},
     "output_type": "execute_result"
    }
   ],
   "source": [
    "eigvals(A)"
   ]
  },
  {
   "cell_type": "code",
   "execution_count": 19,
   "id": "d2d38525",
   "metadata": {},
   "outputs": [
    {
     "data": {
      "text/plain": [
       "2.361e6"
      ]
     },
     "execution_count": 19,
     "metadata": {},
     "output_type": "execute_result"
    }
   ],
   "source": [
    "#parameters for the Earth Moon system \n",
    "\n",
    "μ = 1.215e-2 #gravitational parameter\n",
    "μ1 = 1-μ\n",
    "μ2 = μ\n",
    "\n",
    "pose_m1 = [-μ, 0]\n",
    "pose_m2 = [1-μ, 0]\n",
    "\n",
    "L = 3.850e5 #in km\n",
    "V = 1.025 #in km/s\n",
    "T = 2.361e6 #in seconds "
   ]
  },
  {
   "cell_type": "code",
   "execution_count": 20,
   "id": "f156eec0",
   "metadata": {},
   "outputs": [
    {
     "data": {
      "text/plain": [
       "6"
      ]
     },
     "execution_count": 20,
     "metadata": {},
     "output_type": "execute_result"
    }
   ],
   "source": [
    "state_num = 6"
   ]
  },
  {
   "cell_type": "code",
   "execution_count": 21,
   "id": "ef31e8bc",
   "metadata": {},
   "outputs": [
    {
     "data": {
      "text/plain": [
       "effective_potential (generic function with 1 method)"
      ]
     },
     "execution_count": 21,
     "metadata": {},
     "output_type": "execute_result"
    }
   ],
   "source": [
    "function effective_potential(X)\n",
    "    x = X[1]\n",
    "    y = X[2]\n",
    "    z = X[3]\n",
    "    \n",
    "    r1 = sqrt((x+μ2)^2 + y^2+z^2) \n",
    "    r2 = sqrt((x-μ1)^2 + y^2+z^2)\n",
    "    \n",
    "    Ū = -0.5*(μ1*r1^2+μ2*r2^2)-(μ1/r1)-(μ2/r2)\n",
    "    \n",
    "end"
   ]
  },
  {
   "cell_type": "code",
   "execution_count": 22,
   "id": "6ad34807",
   "metadata": {},
   "outputs": [
    {
     "data": {
      "text/plain": [
       "non_linear_dynamics (generic function with 1 method)"
      ]
     },
     "execution_count": 22,
     "metadata": {},
     "output_type": "execute_result"
    }
   ],
   "source": [
    "function non_linear_dynamics(X)\n",
    "    \n",
    "    #position\n",
    "    q = X[1:3]\n",
    "    \n",
    "    #velocity\n",
    "    v = X[4:6]\n",
    "    \n",
    "    #acceleration\n",
    "    a = zeros(eltype(X), 3)\n",
    "    \n",
    "    #effective potential gradient\n",
    "    U_q = (ForwardDiff.gradient(_x -> effective_potential(_x), q)) \n",
    "    \n",
    "    #3 body problem nonlinear dynamics\n",
    "    a[1] = 2*v[2] - U_q[1]\n",
    "    a[2] = -2*v[1] - U_q[2]\n",
    "    a[3] = -U_q[3]\n",
    "    \n",
    "    ẋ = [v;a]\n",
    "\n",
    "    return ẋ\n",
    "    \n",
    "end"
   ]
  },
  {
   "cell_type": "code",
   "execution_count": 23,
   "id": "c69a48fa",
   "metadata": {},
   "outputs": [
    {
     "name": "stdout",
     "output_type": "stream",
     "text": [
      "0.8369180073169304"
     ]
    }
   ],
   "source": [
    "print(XL1)"
   ]
  },
  {
   "cell_type": "code",
   "execution_count": 24,
   "id": "8bb93abd",
   "metadata": {},
   "outputs": [
    {
     "data": {
      "text/plain": [
       "6×6 Matrix{Float64}:\n",
       "  0.0      0.0       0.0       1.0  0.0  0.0\n",
       "  0.0      0.0       0.0       0.0  1.0  0.0\n",
       "  0.0      0.0       0.0       0.0  0.0  1.0\n",
       " 11.2951   0.0       0.0       0.0  2.0  0.0\n",
       " -0.0     -4.14757   0.0      -2.0  0.0  0.0\n",
       " -0.0      0.0      -4.14757   0.0  0.0  0.0"
      ]
     },
     "execution_count": 24,
     "metadata": {},
     "output_type": "execute_result"
    }
   ],
   "source": [
    "L1 = [XL1, 0, 0, 0, 0, 0]\n",
    "\n",
    "\n",
    "\n",
    "#\n",
    "A = ForwardDiff.jacobian(_X -> non_linear_dynamics(_X), L1) "
   ]
  },
  {
   "cell_type": "code",
   "execution_count": 25,
   "id": "539758de",
   "metadata": {},
   "outputs": [
    {
     "data": {
      "text/plain": [
       "6-element Vector{ComplexF64}:\n",
       "     -2.9320486822959824 + 0.0im\n",
       " -2.7755575615628914e-17 - 2.334381315836003im\n",
       " -2.7755575615628914e-17 + 2.334381315836003im\n",
       "                     0.0 - 2.036559193254489im\n",
       "                     0.0 + 2.036559193254489im\n",
       "      2.9320486822959824 + 0.0im"
      ]
     },
     "execution_count": 25,
     "metadata": {},
     "output_type": "execute_result"
    }
   ],
   "source": [
    "eigvals(A)"
   ]
  },
  {
   "cell_type": "code",
   "execution_count": 26,
   "id": "17329627",
   "metadata": {},
   "outputs": [
    {
     "data": {
      "text/plain": [
       "6×6 Matrix{ComplexF64}:\n",
       "  0.293247+0.0im     -0.105758-2.26957e-18im  …  -0.293247+0.0im\n",
       "  0.134931+0.0im    4.3473e-17+0.379302im         0.134931+0.0im\n",
       "       0.0+0.0im           0.0+0.0im                   0.0+0.0im\n",
       " -0.859814+0.0im  -1.13792e-16+0.24688im         -0.859814+0.0im\n",
       " -0.395625+0.0im      0.885435-0.0im              0.395625+0.0im\n",
       "       0.0+0.0im           0.0+0.0im          …        0.0+0.0im"
      ]
     },
     "execution_count": 26,
     "metadata": {},
     "output_type": "execute_result"
    }
   ],
   "source": [
    "eigvecs(A)"
   ]
  },
  {
   "cell_type": "code",
   "execution_count": 27,
   "id": "b9ed232e",
   "metadata": {},
   "outputs": [
    {
     "data": {
      "text/plain": [
       "Eigen{ComplexF64, ComplexF64, Matrix{ComplexF64}, Vector{ComplexF64}}\n",
       "values:\n",
       "6-element Vector{ComplexF64}:\n",
       "     -2.9320486822959824 + 0.0im\n",
       " -2.7755575615628914e-17 - 2.334381315836003im\n",
       " -2.7755575615628914e-17 + 2.334381315836003im\n",
       "                     0.0 - 2.036559193254489im\n",
       "                     0.0 + 2.036559193254489im\n",
       "      2.9320486822959824 + 0.0im\n",
       "vectors:\n",
       "6×6 Matrix{ComplexF64}:\n",
       "  0.293247+0.0im     -0.105758-2.26957e-18im  …  -0.293247+0.0im\n",
       "  0.134931+0.0im    4.3473e-17+0.379302im         0.134931+0.0im\n",
       "       0.0+0.0im           0.0+0.0im                   0.0+0.0im\n",
       " -0.859814+0.0im  -1.13792e-16+0.24688im         -0.859814+0.0im\n",
       " -0.395625+0.0im      0.885435-0.0im              0.395625+0.0im\n",
       "       0.0+0.0im           0.0+0.0im          …        0.0+0.0im"
      ]
     },
     "execution_count": 27,
     "metadata": {},
     "output_type": "execute_result"
    }
   ],
   "source": [
    "F = eigen(A)"
   ]
  },
  {
   "cell_type": "code",
   "execution_count": 28,
   "id": "5273c815",
   "metadata": {},
   "outputs": [
    {
     "data": {
      "text/plain": [
       "6×6 Matrix{ComplexF64}:\n",
       "  0.293247+0.0im     -0.105758-2.26957e-18im  …  -0.293247+0.0im\n",
       "  0.134931+0.0im    4.3473e-17+0.379302im         0.134931+0.0im\n",
       "       0.0+0.0im           0.0+0.0im                   0.0+0.0im\n",
       " -0.859814+0.0im  -1.13792e-16+0.24688im         -0.859814+0.0im\n",
       " -0.395625+0.0im      0.885435-0.0im              0.395625+0.0im\n",
       "       0.0+0.0im           0.0+0.0im          …        0.0+0.0im"
      ]
     },
     "execution_count": 28,
     "metadata": {},
     "output_type": "execute_result"
    }
   ],
   "source": [
    "eigenvectors = F.vectors"
   ]
  },
  {
   "cell_type": "code",
   "execution_count": 29,
   "id": "a8da8007",
   "metadata": {},
   "outputs": [
    {
     "name": "stdout",
     "output_type": "stream",
     "text": [
      "direction 1"
     ]
    },
    {
     "data": {
      "text/plain": [
       "6-element Vector{Float64}:\n",
       "  0.29324695409126805\n",
       "  0.13493122589173287\n",
       "  0.0\n",
       " -0.8598143453306133\n",
       " -0.3956249230764371\n",
       "  0.0"
      ]
     },
     "metadata": {},
     "output_type": "display_data"
    },
    {
     "name": "stdout",
     "output_type": "stream",
     "text": [
      "direction 2"
     ]
    },
    {
     "data": {
      "text/plain": [
       "6-element Vector{ComplexF64}:\n",
       "  -0.10575842807466374 - 2.2695663090919023e-18im\n",
       "  4.34729505884631e-17 + 0.37930182405690027im\n",
       "                   0.0 + 0.0im\n",
       " -1.13791964035151e-16 + 0.246880498489681im\n",
       "    0.8854350911409435 - 0.0im\n",
       "                   0.0 + 0.0im"
      ]
     },
     "metadata": {},
     "output_type": "display_data"
    },
    {
     "name": "stdout",
     "output_type": "stream",
     "text": [
      "direction 3"
     ]
    },
    {
     "data": {
      "text/plain": [
       "6-element Vector{ComplexF64}:\n",
       "  -0.10575842807466374 + 2.2695663090919023e-18im\n",
       "  4.34729505884631e-17 - 0.37930182405690027im\n",
       "                   0.0 - 0.0im\n",
       " -1.13791964035151e-16 - 0.246880498489681im\n",
       "    0.8854350911409435 + 0.0im\n",
       "                   0.0 - 0.0im"
      ]
     },
     "metadata": {},
     "output_type": "display_data"
    },
    {
     "name": "stdout",
     "output_type": "stream",
     "text": [
      "direction 4"
     ]
    },
    {
     "data": {
      "text/plain": [
       "6-element Vector{ComplexF64}:\n",
       "               0.0 - 0.0im\n",
       "               0.0 - 0.0im\n",
       "               0.0 + 0.44075650252413245im\n",
       "               0.0 - 0.0im\n",
       "               0.0 - 0.0im\n",
       " 0.897626707202217 - 0.0im"
      ]
     },
     "metadata": {},
     "output_type": "display_data"
    },
    {
     "name": "stdout",
     "output_type": "stream",
     "text": [
      "direction 5"
     ]
    },
    {
     "data": {
      "text/plain": [
       "6-element Vector{ComplexF64}:\n",
       "               0.0 + 0.0im\n",
       "               0.0 + 0.0im\n",
       "               0.0 - 0.44075650252413245im\n",
       "               0.0 + 0.0im\n",
       "               0.0 + 0.0im\n",
       " 0.897626707202217 + 0.0im"
      ]
     },
     "metadata": {},
     "output_type": "display_data"
    },
    {
     "name": "stdout",
     "output_type": "stream",
     "text": [
      "direction 6"
     ]
    },
    {
     "data": {
      "text/plain": [
       "6-element Vector{ComplexF64}:\n",
       " -0.29324695409126805 + 0.0im\n",
       "  0.13493122589173287 + 0.0im\n",
       "                  0.0 + 0.0im\n",
       "  -0.8598143453306133 + 0.0im\n",
       "   0.3956249230764371 + 0.0im\n",
       "                  0.0 + 0.0im"
      ]
     },
     "metadata": {},
     "output_type": "display_data"
    }
   ],
   "source": [
    "#print eigen vectors\n",
    "direction1_L1 = F.vectors[:, 1]\n",
    "direction2_L1 = F.vectors[:, 2]\n",
    "direction3_L1 = F.vectors[:, 3]\n",
    "direction4_L1 = F.vectors[:, 4]\n",
    "direction5_L1 = F.vectors[:, 5]\n",
    "direction6_L1 = F.vectors[:, 6]\n",
    "\n",
    "print(\"direction 1\")\n",
    "display(real(direction1_L1))\n",
    "\n",
    "print(\"direction 2\")\n",
    "display(direction2_L1)\n",
    "\n",
    "print(\"direction 3\")\n",
    "display(direction3_L1)\n",
    "\n",
    "print(\"direction 4\")\n",
    "display(direction4_L1)\n",
    "\n",
    "print(\"direction 5\")\n",
    "display(direction5_L1)\n",
    "\n",
    "print(\"direction 6\")\n",
    "display(direction6_L1)"
   ]
  },
  {
   "cell_type": "code",
   "execution_count": 30,
   "id": "42d1ed76",
   "metadata": {},
   "outputs": [
    {
     "data": {
      "text/plain": [
       "6-element Vector{Float64}:\n",
       " -0.10575842807466374\n",
       "  4.34729505884631e-17\n",
       "  0.0\n",
       " -1.13791964035151e-16\n",
       "  0.8854350911409435\n",
       "  0.0"
      ]
     },
     "execution_count": 30,
     "metadata": {},
     "output_type": "execute_result"
    }
   ],
   "source": [
    "real(direction2_L1)"
   ]
  },
  {
   "cell_type": "code",
   "execution_count": 31,
   "id": "e2cf43ef",
   "metadata": {},
   "outputs": [
    {
     "data": {
      "text/plain": [
       "6-element Vector{Float64}:\n",
       " 0.8369180073169304\n",
       " 0.0\n",
       " 0.0\n",
       " 0.0\n",
       " 0.0\n",
       " 0.0"
      ]
     },
     "execution_count": 31,
     "metadata": {},
     "output_type": "execute_result"
    }
   ],
   "source": [
    "xl1 = [XL1, 0,0,0,0,0]"
   ]
  },
  {
   "cell_type": "code",
   "execution_count": 32,
   "id": "acfbab9a",
   "metadata": {},
   "outputs": [
    {
     "data": {
      "text/plain": [
       "6-element Vector{Float64}:\n",
       "  0.8299379510640026\n",
       "  2.869214738838565e-18\n",
       "  0.0\n",
       " -7.510269626319967e-18\n",
       "  0.058438716015302275\n",
       "  0.0"
      ]
     },
     "execution_count": 32,
     "metadata": {},
     "output_type": "execute_result"
    }
   ],
   "source": [
    "xl1 + 0.66e-1*real(direction2_L1)"
   ]
  },
  {
   "cell_type": "code",
   "execution_count": 33,
   "id": "24feeea9",
   "metadata": {},
   "outputs": [],
   "source": [
    "#WORKS\n",
    "#xk[:,1] = [0.8222791805122408,0.0,0.0,0.0,0.13799313179964737,0.0]"
   ]
  },
  {
   "cell_type": "code",
   "execution_count": 34,
   "id": "6b044678",
   "metadata": {},
   "outputs": [
    {
     "data": {
      "text/plain": [
       "6-element Vector{Float64}:\n",
       " -0.021151685614932747\n",
       "  8.69459011769262e-18\n",
       "  0.0\n",
       " -2.27583928070302e-17\n",
       "  0.17708701822818873\n",
       "  0.1795253414404434"
      ]
     },
     "execution_count": 34,
     "metadata": {},
     "output_type": "execute_result"
    }
   ],
   "source": [
    "w1 = 0.1\n",
    "w2 = 0.1\n",
    "w3 = 0.1\n",
    "w4 = 0.1\n",
    "\n",
    "initial_condition_1 = w1*real(direction2_L1) + w2*real(direction3_L1) + w3*real(direction4_L1) + w4*real(direction5_L1)\n",
    "\n",
    "#\n",
    "#initial_condition =  w3*real(direction4) + w4*real(direction5)"
   ]
  },
  {
   "cell_type": "code",
   "execution_count": 35,
   "id": "8d8e594e",
   "metadata": {},
   "outputs": [
    {
     "data": {
      "text/plain": [
       "6-element Vector{Float64}:\n",
       "  0.8157663217019977\n",
       "  8.69459011769262e-18\n",
       "  0.0\n",
       " -2.27583928070302e-17\n",
       "  0.17708701822818873\n",
       "  0.1795253414404434"
      ]
     },
     "execution_count": 35,
     "metadata": {},
     "output_type": "execute_result"
    }
   ],
   "source": [
    "xl1 + initial_condition_1"
   ]
  },
  {
   "cell_type": "code",
   "execution_count": 36,
   "id": "8d9023ca",
   "metadata": {},
   "outputs": [
    {
     "ename": "LoadError",
     "evalue": "UndefVarError: direction6 not defined",
     "output_type": "error",
     "traceback": [
      "UndefVarError: direction6 not defined",
      "",
      "Stacktrace:",
      " [1] top-level scope",
      "   @ In[36]:1",
      " [2] eval",
      "   @ ./boot.jl:360 [inlined]",
      " [3] include_string(mapexpr::typeof(REPL.softscope), mod::Module, code::String, filename::String)",
      "   @ Base ./loading.jl:1116"
     ]
    }
   ],
   "source": [
    "real(direction6)"
   ]
  },
  {
   "cell_type": "code",
   "execution_count": 37,
   "id": "9fcd9d2c",
   "metadata": {},
   "outputs": [
    {
     "data": {
      "text/plain": [
       "6×6 Matrix{Float64}:\n",
       " 0.0       0.0       0.0       1.0  0.0  0.0\n",
       " 0.0       0.0       0.0       0.0  1.0  0.0\n",
       " 0.0       0.0       0.0       0.0  0.0  1.0\n",
       " 7.38087   0.0       0.0       0.0  2.0  0.0\n",
       " 0.0      -2.19044   0.0      -2.0  0.0  0.0\n",
       " 0.0       0.0      -2.19044   0.0  0.0  0.0"
      ]
     },
     "execution_count": 37,
     "metadata": {},
     "output_type": "execute_result"
    }
   ],
   "source": [
    "#\n",
    "L2 = [XL2, 0, 0, 0, 0, 0]\n",
    "A_2 = ForwardDiff.jacobian(_X -> non_linear_dynamics(_X), L2) "
   ]
  },
  {
   "cell_type": "code",
   "execution_count": 38,
   "id": "64cf8cb8",
   "metadata": {},
   "outputs": [
    {
     "data": {
      "text/plain": [
       "Eigen{ComplexF64, ComplexF64, Matrix{ComplexF64}, Vector{ComplexF64}}\n",
       "values:\n",
       "6-element Vector{ComplexF64}:\n",
       "    -2.1586796524643663 + 0.0im\n",
       "                    0.0 - 1.480012368042362im\n",
       "                    0.0 + 1.480012368042362im\n",
       " 2.3592239273284576e-16 - 1.862648982606575im\n",
       " 2.3592239273284576e-16 + 1.862648982606575im\n",
       "      2.158679652464366 + 0.0im\n",
       "vectors:\n",
       "6×6 Matrix{ComplexF64}:\n",
       "  0.355603+0.0im       0.0-0.0im       …  -0.355603+0.0im\n",
       "  0.224116+0.0im       0.0-0.0im           0.224116+0.0im\n",
       "       0.0+0.0im       0.0+0.559854im           0.0+0.0im\n",
       " -0.767634+0.0im       0.0-0.0im          -0.767634+0.0im\n",
       " -0.483794+0.0im       0.0-0.0im           0.483794+0.0im\n",
       "       0.0+0.0im  0.828591-0.0im       …        0.0+0.0im"
      ]
     },
     "execution_count": 38,
     "metadata": {},
     "output_type": "execute_result"
    }
   ],
   "source": [
    "F = eigen(A_2)"
   ]
  },
  {
   "cell_type": "code",
   "execution_count": 62,
   "id": "39409616",
   "metadata": {},
   "outputs": [
    {
     "data": {
      "text/plain": [
       "6-element Vector{Float64}:\n",
       " -2.1586796524643663\n",
       "  0.0\n",
       "  0.0\n",
       "  2.3592239273284576e-16\n",
       "  2.3592239273284576e-16\n",
       "  2.158679652464366"
      ]
     },
     "execution_count": 62,
     "metadata": {},
     "output_type": "execute_result"
    }
   ],
   "source": [
    "real(F.values)"
   ]
  },
  {
   "cell_type": "code",
   "execution_count": 39,
   "id": "32840c7a",
   "metadata": {},
   "outputs": [
    {
     "data": {
      "text/plain": [
       "6×6 Matrix{ComplexF64}:\n",
       "  0.355603+0.0im       0.0-0.0im       …  -0.355603+0.0im\n",
       "  0.224116+0.0im       0.0-0.0im           0.224116+0.0im\n",
       "       0.0+0.0im       0.0+0.559854im           0.0+0.0im\n",
       " -0.767634+0.0im       0.0-0.0im          -0.767634+0.0im\n",
       " -0.483794+0.0im       0.0-0.0im           0.483794+0.0im\n",
       "       0.0+0.0im  0.828591-0.0im       …        0.0+0.0im"
      ]
     },
     "execution_count": 39,
     "metadata": {},
     "output_type": "execute_result"
    }
   ],
   "source": [
    "eigenvectors = F.vectors"
   ]
  },
  {
   "cell_type": "code",
   "execution_count": 40,
   "id": "10f276ca",
   "metadata": {},
   "outputs": [
    {
     "name": "stdout",
     "output_type": "stream",
     "text": [
      "direction 1"
     ]
    },
    {
     "data": {
      "text/plain": [
       "6-element Vector{ComplexF64}:\n",
       "   0.3556033994772462 + 0.0im\n",
       "  0.22411572113187364 + 0.0im\n",
       "                  0.0 + 0.0im\n",
       "   -0.767633822798689 + 0.0im\n",
       " -0.48379404700475315 + 0.0im\n",
       "                  0.0 + 0.0im"
      ]
     },
     "metadata": {},
     "output_type": "display_data"
    },
    {
     "name": "stdout",
     "output_type": "stream",
     "text": [
      "direction 2"
     ]
    },
    {
     "data": {
      "text/plain": [
       "6-element Vector{ComplexF64}:\n",
       "                0.0 - 0.0im\n",
       "                0.0 - 0.0im\n",
       "                0.0 + 0.5598541991484449im\n",
       "                0.0 - 0.0im\n",
       "                0.0 - 0.0im\n",
       " 0.8285911390401502 - 0.0im"
      ]
     },
     "metadata": {},
     "output_type": "display_data"
    },
    {
     "name": "stdout",
     "output_type": "stream",
     "text": [
      "direction 3"
     ]
    },
    {
     "data": {
      "text/plain": [
       "6-element Vector{ComplexF64}:\n",
       "                0.0 + 0.0im\n",
       "                0.0 + 0.0im\n",
       "                0.0 - 0.5598541991484449im\n",
       "                0.0 + 0.0im\n",
       "                0.0 + 0.0im\n",
       " 0.8285911390401502 + 0.0im"
      ]
     },
     "metadata": {},
     "output_type": "display_data"
    },
    {
     "name": "stdout",
     "output_type": "stream",
     "text": [
      "direction 4"
     ]
    },
    {
     "data": {
      "text/plain": [
       "6-element Vector{ComplexF64}:\n",
       "   -0.15360060943893714 + 1.1244528627733895e-16im\n",
       " 1.0778872130316075e-16 + 0.4473784378948923im\n",
       "                   -0.0 - 0.0im\n",
       " -3.312697317864954e-16 + 0.28610401889918596im\n",
       "     0.8333089921850402 - 0.0im\n",
       "                   -0.0 - 0.0im"
      ]
     },
     "metadata": {},
     "output_type": "display_data"
    },
    {
     "name": "stdout",
     "output_type": "stream",
     "text": [
      "direction 5"
     ]
    },
    {
     "data": {
      "text/plain": [
       "6-element Vector{ComplexF64}:\n",
       "   -0.15360060943893714 - 1.1244528627733895e-16im\n",
       " 1.0778872130316075e-16 - 0.4473784378948923im\n",
       "                    0.0 + 0.0im\n",
       " -3.312697317864954e-16 - 0.28610401889918596im\n",
       "     0.8333089921850402 + 0.0im\n",
       "                    0.0 + 0.0im"
      ]
     },
     "metadata": {},
     "output_type": "display_data"
    },
    {
     "name": "stdout",
     "output_type": "stream",
     "text": [
      "direction 6"
     ]
    },
    {
     "data": {
      "text/plain": [
       "6-element Vector{ComplexF64}:\n",
       " -0.35560339947724623 + 0.0im\n",
       "  0.22411572113187356 + 0.0im\n",
       "                  0.0 + 0.0im\n",
       "   -0.767633822798689 + 0.0im\n",
       "  0.48379404700475315 + 0.0im\n",
       "                  0.0 + 0.0im"
      ]
     },
     "metadata": {},
     "output_type": "display_data"
    }
   ],
   "source": [
    "#print eigen vectors\n",
    "direction1 = F.vectors[:, 1]\n",
    "direction2 = F.vectors[:, 2]\n",
    "direction3 = F.vectors[:, 3]\n",
    "direction4 = F.vectors[:, 4]\n",
    "direction5 = F.vectors[:, 5]\n",
    "direction6 = F.vectors[:, 6]\n",
    "\n",
    "print(\"direction 1\")\n",
    "display(direction1)\n",
    "\n",
    "print(\"direction 2\")\n",
    "display(direction2)\n",
    "\n",
    "print(\"direction 3\")\n",
    "display(direction3)\n",
    "\n",
    "print(\"direction 4\")\n",
    "display(direction4)\n",
    "\n",
    "print(\"direction 5\")\n",
    "display(direction5)\n",
    "\n",
    "print(\"direction 6\")\n",
    "display(direction6)"
   ]
  },
  {
   "cell_type": "code",
   "execution_count": 60,
   "id": "dc4a9037",
   "metadata": {},
   "outputs": [
    {
     "data": {
      "text/plain": [
       "6×6 Matrix{Float64}:\n",
       "  0.355603  0.0       0.0       -0.153601     -0.153601     -0.355603\n",
       "  0.224116  0.0       0.0        1.07789e-16   1.07789e-16   0.224116\n",
       "  0.0       0.0       0.0       -0.0           0.0           0.0\n",
       " -0.767634  0.0       0.0       -3.3127e-16   -3.3127e-16   -0.767634\n",
       " -0.483794  0.0       0.0        0.833309      0.833309      0.483794\n",
       "  0.0       0.828591  0.828591  -0.0           0.0           0.0"
      ]
     },
     "execution_count": 60,
     "metadata": {},
     "output_type": "execute_result"
    }
   ],
   "source": [
    "real(F.vectors)"
   ]
  },
  {
   "cell_type": "code",
   "execution_count": 41,
   "id": "4898d59d",
   "metadata": {},
   "outputs": [
    {
     "data": {
      "text/plain": [
       "6-element Vector{Float64}:\n",
       "  0.3556033994772462\n",
       "  0.22411572113187364\n",
       "  0.0\n",
       " -0.767633822798689\n",
       " -0.48379404700475315\n",
       "  0.0"
      ]
     },
     "execution_count": 41,
     "metadata": {},
     "output_type": "execute_result"
    }
   ],
   "source": [
    "real(direction1)"
   ]
  },
  {
   "cell_type": "code",
   "execution_count": 42,
   "id": "ec6eb6a9",
   "metadata": {},
   "outputs": [
    {
     "data": {
      "text/plain": [
       "6-element Vector{Float64}:\n",
       " -0.30720121887787427\n",
       "  2.155774426063215e-16\n",
       "  0.0\n",
       " -6.625394635729908e-16\n",
       "  1.6666179843700804\n",
       "  1.6571822780803005"
      ]
     },
     "execution_count": 42,
     "metadata": {},
     "output_type": "execute_result"
    }
   ],
   "source": [
    "w1 = 1\n",
    "w2 = 1\n",
    "w3 = 1\n",
    "w4 = 1\n",
    "\n",
    "initial_condition_2 = w1*real(direction2) + w2*real(direction3) + w3*real(direction4) + w4*real(direction5)"
   ]
  },
  {
   "cell_type": "code",
   "execution_count": 43,
   "id": "31e1868b",
   "metadata": {},
   "outputs": [
    {
     "data": {
      "text/plain": [
       "linearized_dynamics (generic function with 1 method)"
      ]
     },
     "execution_count": 43,
     "metadata": {},
     "output_type": "execute_result"
    }
   ],
   "source": [
    "function linearized_dynamics(X)\n",
    "    \n",
    "    x_dot = A*x\n",
    "    \n",
    "    return x_dot\n",
    "    \n",
    "end"
   ]
  },
  {
   "cell_type": "code",
   "execution_count": 44,
   "id": "ecf77bcb",
   "metadata": {},
   "outputs": [
    {
     "data": {
      "text/plain": [
       "6-element Vector{Float64}:\n",
       "  0.29324695409126805\n",
       "  0.13493122589173287\n",
       "  0.0\n",
       " -0.8598143453306133\n",
       " -0.3956249230764371\n",
       "  0.0"
      ]
     },
     "execution_count": 44,
     "metadata": {},
     "output_type": "execute_result"
    }
   ],
   "source": [
    "perturbed = real(direction1_L1)"
   ]
  },
  {
   "cell_type": "code",
   "execution_count": 45,
   "id": "1d09904c",
   "metadata": {},
   "outputs": [
    {
     "name": "stdout",
     "output_type": "stream",
     "text": [
      "2.661239011935445e-6"
     ]
    },
    {
     "data": {
      "text/plain": [
       "0.00026612390119354454"
      ]
     },
     "execution_count": 45,
     "metadata": {},
     "output_type": "execute_result"
    }
   ],
   "source": [
    "T = 2.361e6 #in seconds - orbital period of m1 and m2\n",
    "\n",
    "h_s = 1 #time step for RK4 in seconds # original 10 seconds\n",
    "h_v = 100 #original 10 seconds\n",
    "\n",
    "time_scale = T/(2*pi)\n",
    "\n",
    "h_rk4 = h_s/time_scale #non dimensionalized time\n",
    "print(h_rk4)\n",
    "\n",
    "h_var = h_v/time_scale"
   ]
  },
  {
   "cell_type": "code",
   "execution_count": 46,
   "id": "0bb9cad3",
   "metadata": {},
   "outputs": [
    {
     "data": {
      "text/plain": [
       "6×6 Matrix{Float64}:\n",
       "  1.0          -2.6057e-17    0.0         …  7.08219e-12  0.0\n",
       " -7.09614e-17   1.0           0.0            2.66124e-6   0.0\n",
       "  0.0           0.0           1.0            0.0          2.66124e-6\n",
       "  3.00591e-5   -2.93739e-11   0.0            5.32248e-6   0.0\n",
       " -7.99944e-11  -1.10377e-5    0.0            1.0          0.0\n",
       "  0.0           0.0          -1.10377e-5  …  0.0          1.0"
      ]
     },
     "execution_count": 46,
     "metadata": {},
     "output_type": "execute_result"
    }
   ],
   "source": [
    "Discrete_A = exp(h_rk4.*A)"
   ]
  },
  {
   "cell_type": "code",
   "execution_count": 47,
   "id": "191a5802",
   "metadata": {},
   "outputs": [
    {
     "data": {
      "text/plain": [
       "6-element Vector{Float64}:\n",
       " -0.021151685614932747\n",
       "  8.69459011769262e-18\n",
       "  0.0\n",
       " -2.27583928070302e-17\n",
       "  0.17708701822818873\n",
       "  0.1795253414404434"
      ]
     },
     "execution_count": 47,
     "metadata": {},
     "output_type": "execute_result"
    }
   ],
   "source": [
    "initial_condition_1"
   ]
  },
  {
   "cell_type": "code",
   "execution_count": 48,
   "id": "b1364c51",
   "metadata": {},
   "outputs": [
    {
     "data": {
      "text/plain": [
       "6-element Vector{Float64}:\n",
       " 0.8369180073169304\n",
       " 0.0\n",
       " 0.0\n",
       " 0.0\n",
       " 0.0\n",
       " 0.0"
      ]
     },
     "execution_count": 48,
     "metadata": {},
     "output_type": "execute_result"
    }
   ],
   "source": [
    "L1"
   ]
  },
  {
   "cell_type": "code",
   "execution_count": 49,
   "id": "fa903e3b",
   "metadata": {},
   "outputs": [
    {
     "data": {
      "text/plain": [
       "6-element Vector{Float64}:\n",
       "  0.8369180073169304\n",
       " -0.0003956249230764371\n",
       " -0.0008598143453306134\n",
       "  0.0\n",
       "  0.00013493122589173286\n",
       "  0.00029324695409126806"
      ]
     },
     "execution_count": 49,
     "metadata": {},
     "output_type": "execute_result"
    }
   ],
   "source": [
    "N = 10\n",
    "\n",
    "halo_linear = zeros((6,N))\n",
    "w = 1e-3\n",
    "#halo_linear[:,1] =  L1 - initial_condition_1*w\n",
    "\n",
    "halo_linear[:,1] =  L1+reverse(perturbed)*w"
   ]
  },
  {
   "cell_type": "code",
   "execution_count": 50,
   "id": "ae9ccdb0",
   "metadata": {},
   "outputs": [],
   "source": [
    "for k=1:N-1\n",
    "    \n",
    "    δx = halo_linear[:,k] - L1\n",
    "    \n",
    "    halo_linear[:,k+1] = L1 + A*(δx)\n",
    "end"
   ]
  },
  {
   "cell_type": "code",
   "execution_count": 51,
   "id": "6baa1d35",
   "metadata": {},
   "outputs": [
    {
     "data": {
      "text/plain": [
       "6-element Vector{Float64}:\n",
       "  0.8377674191776905\n",
       " -0.01336921774730944\n",
       " -0.014790839920284142\n",
       "  0.010329601628520778\n",
       "  0.0028608610572607596\n",
       "  0.005044541043807621"
      ]
     },
     "execution_count": 51,
     "metadata": {},
     "output_type": "execute_result"
    }
   ],
   "source": [
    "halo_linear[:,5]"
   ]
  },
  {
   "cell_type": "code",
   "execution_count": 52,
   "id": "80011295",
   "metadata": {},
   "outputs": [
    {
     "data": {
      "image/svg+xml": [
       "<?xml version=\"1.0\" encoding=\"utf-8\"?>\n",
       "<svg xmlns=\"http://www.w3.org/2000/svg\" xmlns:xlink=\"http://www.w3.org/1999/xlink\" width=\"600\" height=\"400\" viewBox=\"0 0 2400 1600\">\n",
       "<defs>\n",
       "  <clipPath id=\"clip570\">\n",
       "    <rect x=\"0\" y=\"0\" width=\"2400\" height=\"1600\"/>\n",
       "  </clipPath>\n",
       "</defs>\n",
       "<path clip-path=\"url(#clip570)\" d=\"\n",
       "M0 1600 L2400 1600 L2400 0 L0 0  Z\n",
       "  \" fill=\"#ffffff\" fill-rule=\"evenodd\" fill-opacity=\"1\"/>\n",
       "<defs>\n",
       "  <clipPath id=\"clip571\">\n",
       "    <rect x=\"480\" y=\"0\" width=\"1681\" height=\"1600\"/>\n",
       "  </clipPath>\n",
       "</defs>\n",
       "<defs>\n",
       "  <clipPath id=\"clip572\">\n",
       "    <rect x=\"224\" y=\"47\" width=\"2130\" height=\"1377\"/>\n",
       "  </clipPath>\n",
       "</defs>\n",
       "<path clip-path=\"url(#clip572)\" d=\"\n",
       "M-2242.75 1593.34 L-2242.75 -759.921 L-1542.46 -1936.55 L-329.514 -1257.22 L-329.514 1096.03 L-1029.81 2272.66 L-2242.75 1593.34  Z\n",
       "  \" fill=\"#ffffff\" fill-rule=\"evenodd\" fill-opacity=\"1\"/>\n",
       "<polyline clip-path=\"url(#clip572)\" style=\"stroke:#000000; stroke-linecap:round; stroke-linejoin:round; stroke-width:2; stroke-opacity:0.1; fill:none\" points=\"\n",
       "  864.219,1186.06 1261.42,842.076 1261.42,154.108 \n",
       "  \"/>\n",
       "<polyline clip-path=\"url(#clip572)\" style=\"stroke:#000000; stroke-linecap:round; stroke-linejoin:round; stroke-width:2; stroke-opacity:0.1; fill:none\" points=\"\n",
       "  985.513,1221.07 1382.71,877.091 1382.71,189.123 \n",
       "  \"/>\n",
       "<polyline clip-path=\"url(#clip572)\" style=\"stroke:#000000; stroke-linecap:round; stroke-linejoin:round; stroke-width:2; stroke-opacity:0.1; fill:none\" points=\"\n",
       "  1106.81,1256.09 1504.01,912.106 1504.01,224.138 \n",
       "  \"/>\n",
       "<polyline clip-path=\"url(#clip572)\" style=\"stroke:#000000; stroke-linecap:round; stroke-linejoin:round; stroke-width:2; stroke-opacity:0.1; fill:none\" points=\"\n",
       "  1228.1,1291.1 1625.3,947.12 1625.3,259.152 \n",
       "  \"/>\n",
       "<polyline clip-path=\"url(#clip572)\" style=\"stroke:#000000; stroke-linecap:round; stroke-linejoin:round; stroke-width:2; stroke-opacity:0.1; fill:none\" points=\"\n",
       "  1349.4,1326.12 1746.59,982.135 1746.59,294.167 \n",
       "  \"/>\n",
       "<polyline clip-path=\"url(#clip570)\" style=\"stroke:#000000; stroke-linecap:round; stroke-linejoin:round; stroke-width:4; stroke-opacity:1; fill:none\" points=\"\n",
       "  745.844,1151.89 1433.81,1350.49 \n",
       "  \"/>\n",
       "<polyline clip-path=\"url(#clip570)\" style=\"stroke:#000000; stroke-linecap:round; stroke-linejoin:round; stroke-width:4; stroke-opacity:1; fill:none\" points=\"\n",
       "  864.219,1186.06 868.985,1181.93 \n",
       "  \"/>\n",
       "<polyline clip-path=\"url(#clip570)\" style=\"stroke:#000000; stroke-linecap:round; stroke-linejoin:round; stroke-width:4; stroke-opacity:1; fill:none\" points=\"\n",
       "  985.513,1221.07 990.28,1216.95 \n",
       "  \"/>\n",
       "<polyline clip-path=\"url(#clip570)\" style=\"stroke:#000000; stroke-linecap:round; stroke-linejoin:round; stroke-width:4; stroke-opacity:1; fill:none\" points=\"\n",
       "  1106.81,1256.09 1111.57,1251.96 \n",
       "  \"/>\n",
       "<polyline clip-path=\"url(#clip570)\" style=\"stroke:#000000; stroke-linecap:round; stroke-linejoin:round; stroke-width:4; stroke-opacity:1; fill:none\" points=\"\n",
       "  1228.1,1291.1 1232.87,1286.98 \n",
       "  \"/>\n",
       "<polyline clip-path=\"url(#clip570)\" style=\"stroke:#000000; stroke-linecap:round; stroke-linejoin:round; stroke-width:4; stroke-opacity:1; fill:none\" points=\"\n",
       "  1349.4,1326.12 1354.16,1321.99 \n",
       "  \"/>\n",
       "<path clip-path=\"url(#clip570)\" d=\"M783.781 1224.53 L791.419 1224.53 L791.419 1198.17 L783.109 1199.83 L783.109 1195.57 L791.373 1193.91 L796.049 1193.91 L796.049 1224.53 L803.688 1224.53 L803.688 1228.47 L783.781 1228.47 L783.781 1224.53 Z\" fill=\"#000000\" fill-rule=\"evenodd\" fill-opacity=\"1\" /><path clip-path=\"url(#clip570)\" d=\"M813.132 1222.59 L818.017 1222.59 L818.017 1228.47 L813.132 1228.47 L813.132 1222.59 Z\" fill=\"#000000\" fill-rule=\"evenodd\" fill-opacity=\"1\" /><path clip-path=\"url(#clip570)\" d=\"M838.202 1196.99 Q834.591 1196.99 832.762 1200.55 Q830.956 1204.09 830.956 1211.22 Q830.956 1218.33 832.762 1221.89 Q834.591 1225.44 838.202 1225.44 Q841.836 1225.44 843.641 1221.89 Q845.47 1218.33 845.47 1211.22 Q845.47 1204.09 843.641 1200.55 Q841.836 1196.99 838.202 1196.99 M838.202 1193.28 Q844.012 1193.28 847.067 1197.89 Q850.146 1202.47 850.146 1211.22 Q850.146 1219.95 847.067 1224.56 Q844.012 1229.14 838.202 1229.14 Q832.391 1229.14 829.313 1224.56 Q826.257 1219.95 826.257 1211.22 Q826.257 1202.47 829.313 1197.89 Q832.391 1193.28 838.202 1193.28 Z\" fill=\"#000000\" fill-rule=\"evenodd\" fill-opacity=\"1\" /><path clip-path=\"url(#clip570)\" d=\"M906.672 1259.55 L914.311 1259.55 L914.311 1233.18 L906.001 1234.85 L906.001 1230.59 L914.265 1228.92 L918.941 1228.92 L918.941 1259.55 L926.579 1259.55 L926.579 1263.48 L906.672 1263.48 L906.672 1259.55 Z\" fill=\"#000000\" fill-rule=\"evenodd\" fill-opacity=\"1\" /><path clip-path=\"url(#clip570)\" d=\"M936.024 1257.6 L940.908 1257.6 L940.908 1263.48 L936.024 1263.48 L936.024 1257.6 Z\" fill=\"#000000\" fill-rule=\"evenodd\" fill-opacity=\"1\" /><path clip-path=\"url(#clip570)\" d=\"M955.121 1259.55 L971.44 1259.55 L971.44 1263.48 L949.496 1263.48 L949.496 1259.55 Q952.158 1256.79 956.741 1252.16 Q961.348 1247.51 962.528 1246.17 Q964.774 1243.64 965.653 1241.91 Q966.556 1240.15 966.556 1238.46 Q966.556 1235.7 964.612 1233.97 Q962.69 1232.23 959.588 1232.23 Q957.389 1232.23 954.936 1233 Q952.505 1233.76 949.727 1235.31 L949.727 1230.59 Q952.551 1229.45 955.005 1228.88 Q957.459 1228.3 959.496 1228.3 Q964.866 1228.3 968.061 1230.98 Q971.255 1233.67 971.255 1238.16 Q971.255 1240.29 970.445 1242.21 Q969.658 1244.11 967.551 1246.7 Q966.973 1247.37 963.871 1250.59 Q960.769 1253.78 955.121 1259.55 Z\" fill=\"#000000\" fill-rule=\"evenodd\" fill-opacity=\"1\" /><path clip-path=\"url(#clip570)\" d=\"M1025.88 1294.56 L1033.52 1294.56 L1033.52 1268.2 L1025.21 1269.86 L1025.21 1265.6 L1033.48 1263.94 L1038.15 1263.94 L1038.15 1294.56 L1045.79 1294.56 L1045.79 1298.5 L1025.88 1298.5 L1025.88 1294.56 Z\" fill=\"#000000\" fill-rule=\"evenodd\" fill-opacity=\"1\" /><path clip-path=\"url(#clip570)\" d=\"M1055.23 1292.62 L1060.12 1292.62 L1060.12 1298.5 L1055.23 1298.5 L1055.23 1292.62 Z\" fill=\"#000000\" fill-rule=\"evenodd\" fill-opacity=\"1\" /><path clip-path=\"url(#clip570)\" d=\"M1083.15 1268.01 L1071.35 1286.46 L1083.15 1286.46 L1083.15 1268.01 M1081.92 1263.94 L1087.8 1263.94 L1087.8 1286.46 L1092.73 1286.46 L1092.73 1290.35 L1087.8 1290.35 L1087.8 1298.5 L1083.15 1298.5 L1083.15 1290.35 L1067.55 1290.35 L1067.55 1285.84 L1081.92 1263.94 Z\" fill=\"#000000\" fill-rule=\"evenodd\" fill-opacity=\"1\" /><path clip-path=\"url(#clip570)\" d=\"M1147.5 1329.58 L1155.14 1329.58 L1155.14 1303.21 L1146.83 1304.88 L1146.83 1300.62 L1155.09 1298.95 L1159.77 1298.95 L1159.77 1329.58 L1167.41 1329.58 L1167.41 1333.51 L1147.5 1333.51 L1147.5 1329.58 Z\" fill=\"#000000\" fill-rule=\"evenodd\" fill-opacity=\"1\" /><path clip-path=\"url(#clip570)\" d=\"M1176.85 1327.63 L1181.74 1327.63 L1181.74 1333.51 L1176.85 1333.51 L1176.85 1327.63 Z\" fill=\"#000000\" fill-rule=\"evenodd\" fill-opacity=\"1\" /><path clip-path=\"url(#clip570)\" d=\"M1202.5 1314.37 Q1199.35 1314.37 1197.5 1316.52 Q1195.67 1318.67 1195.67 1322.42 Q1195.67 1326.15 1197.5 1328.33 Q1199.35 1330.48 1202.5 1330.48 Q1205.65 1330.48 1207.48 1328.33 Q1209.33 1326.15 1209.33 1322.42 Q1209.33 1318.67 1207.48 1316.52 Q1205.65 1314.37 1202.5 1314.37 M1211.78 1299.72 L1211.78 1303.97 Q1210.02 1303.14 1208.22 1302.7 Q1206.44 1302.26 1204.68 1302.26 Q1200.05 1302.26 1197.59 1305.39 Q1195.16 1308.51 1194.82 1314.83 Q1196.18 1312.82 1198.24 1311.75 Q1200.3 1310.66 1202.78 1310.66 Q1207.99 1310.66 1211 1313.84 Q1214.03 1316.98 1214.03 1322.42 Q1214.03 1327.75 1210.88 1330.97 Q1207.73 1334.18 1202.5 1334.18 Q1196.51 1334.18 1193.33 1329.6 Q1190.16 1324.99 1190.16 1316.27 Q1190.16 1308.07 1194.05 1303.21 Q1197.94 1298.33 1204.49 1298.33 Q1206.25 1298.33 1208.03 1298.67 Q1209.84 1299.02 1211.78 1299.72 Z\" fill=\"#000000\" fill-rule=\"evenodd\" fill-opacity=\"1\" /><path clip-path=\"url(#clip570)\" d=\"M1269.05 1364.59 L1276.69 1364.59 L1276.69 1338.23 L1268.38 1339.89 L1268.38 1335.63 L1276.64 1333.97 L1281.32 1333.97 L1281.32 1364.59 L1288.96 1364.59 L1288.96 1368.53 L1269.05 1368.53 L1269.05 1364.59 Z\" fill=\"#000000\" fill-rule=\"evenodd\" fill-opacity=\"1\" /><path clip-path=\"url(#clip570)\" d=\"M1298.4 1362.65 L1303.29 1362.65 L1303.29 1368.53 L1298.4 1368.53 L1298.4 1362.65 Z\" fill=\"#000000\" fill-rule=\"evenodd\" fill-opacity=\"1\" /><path clip-path=\"url(#clip570)\" d=\"M1323.47 1352.11 Q1320.14 1352.11 1318.22 1353.9 Q1316.32 1355.68 1316.32 1358.8 Q1316.32 1361.93 1318.22 1363.71 Q1320.14 1365.49 1323.47 1365.49 Q1326.8 1365.49 1328.73 1363.71 Q1330.65 1361.91 1330.65 1358.8 Q1330.65 1355.68 1328.73 1353.9 Q1326.83 1352.11 1323.47 1352.11 M1318.8 1350.12 Q1315.79 1349.38 1314.1 1347.32 Q1312.43 1345.26 1312.43 1342.3 Q1312.43 1338.16 1315.37 1335.75 Q1318.33 1333.34 1323.47 1333.34 Q1328.63 1333.34 1331.57 1335.75 Q1334.51 1338.16 1334.51 1342.3 Q1334.51 1345.26 1332.82 1347.32 Q1331.16 1349.38 1328.17 1350.12 Q1331.55 1350.91 1333.42 1353.2 Q1335.32 1355.49 1335.32 1358.8 Q1335.32 1363.83 1332.24 1366.51 Q1329.19 1369.2 1323.47 1369.2 Q1317.75 1369.2 1314.67 1366.51 Q1311.62 1363.83 1311.62 1358.8 Q1311.62 1355.49 1313.52 1353.2 Q1315.42 1350.91 1318.8 1350.12 M1317.08 1342.74 Q1317.08 1345.42 1318.75 1346.93 Q1320.44 1348.43 1323.47 1348.43 Q1326.48 1348.43 1328.17 1346.93 Q1329.88 1345.42 1329.88 1342.74 Q1329.88 1340.05 1328.17 1338.55 Q1326.48 1337.04 1323.47 1337.04 Q1320.44 1337.04 1318.75 1338.55 Q1317.08 1340.05 1317.08 1342.74 Z\" fill=\"#000000\" fill-rule=\"evenodd\" fill-opacity=\"1\" /><path clip-path=\"url(#clip570)\" d=\"M983.322 1395.68 L970.432 1413.03 L983.991 1431.33 L977.084 1431.33 L966.708 1417.33 L956.332 1431.33 L949.425 1431.33 L963.27 1412.68 L950.602 1395.68 L957.509 1395.68 L966.962 1408.38 L976.415 1395.68 L983.322 1395.68 Z\" fill=\"#000000\" fill-rule=\"evenodd\" fill-opacity=\"1\" /><polyline clip-path=\"url(#clip572)\" style=\"stroke:#000000; stroke-linecap:round; stroke-linejoin:round; stroke-width:2; stroke-opacity:0.1; fill:none\" points=\"\n",
       "  1456.47,1330.86 768.503,1132.26 768.503,444.297 \n",
       "  \"/>\n",
       "<polyline clip-path=\"url(#clip572)\" style=\"stroke:#000000; stroke-linecap:round; stroke-linejoin:round; stroke-width:2; stroke-opacity:0.1; fill:none\" points=\"\n",
       "  1524.4,1272.03 836.436,1073.43 836.436,385.465 \n",
       "  \"/>\n",
       "<polyline clip-path=\"url(#clip572)\" style=\"stroke:#000000; stroke-linecap:round; stroke-linejoin:round; stroke-width:2; stroke-opacity:0.1; fill:none\" points=\"\n",
       "  1592.34,1213.2 904.369,1014.6 904.369,326.634 \n",
       "  \"/>\n",
       "<polyline clip-path=\"url(#clip572)\" style=\"stroke:#000000; stroke-linecap:round; stroke-linejoin:round; stroke-width:2; stroke-opacity:0.1; fill:none\" points=\"\n",
       "  1660.27,1154.37 972.301,955.77 972.301,267.802 \n",
       "  \"/>\n",
       "<polyline clip-path=\"url(#clip572)\" style=\"stroke:#000000; stroke-linecap:round; stroke-linejoin:round; stroke-width:2; stroke-opacity:0.1; fill:none\" points=\"\n",
       "  1728.2,1095.54 1040.23,896.939 1040.23,208.971 \n",
       "  \"/>\n",
       "<polyline clip-path=\"url(#clip572)\" style=\"stroke:#000000; stroke-linecap:round; stroke-linejoin:round; stroke-width:2; stroke-opacity:0.1; fill:none\" points=\"\n",
       "  1796.13,1036.71 1108.17,838.108 1108.17,150.14 \n",
       "  \"/>\n",
       "<polyline clip-path=\"url(#clip570)\" style=\"stroke:#000000; stroke-linecap:round; stroke-linejoin:round; stroke-width:4; stroke-opacity:1; fill:none\" points=\"\n",
       "  1433.81,1350.49 1831.01,1006.5 \n",
       "  \"/>\n",
       "<polyline clip-path=\"url(#clip570)\" style=\"stroke:#000000; stroke-linecap:round; stroke-linejoin:round; stroke-width:4; stroke-opacity:1; fill:none\" points=\"\n",
       "  1456.47,1330.86 1448.22,1328.48 \n",
       "  \"/>\n",
       "<polyline clip-path=\"url(#clip570)\" style=\"stroke:#000000; stroke-linecap:round; stroke-linejoin:round; stroke-width:4; stroke-opacity:1; fill:none\" points=\"\n",
       "  1524.4,1272.03 1516.15,1269.65 \n",
       "  \"/>\n",
       "<polyline clip-path=\"url(#clip570)\" style=\"stroke:#000000; stroke-linecap:round; stroke-linejoin:round; stroke-width:4; stroke-opacity:1; fill:none\" points=\"\n",
       "  1592.34,1213.2 1584.08,1210.82 \n",
       "  \"/>\n",
       "<polyline clip-path=\"url(#clip570)\" style=\"stroke:#000000; stroke-linecap:round; stroke-linejoin:round; stroke-width:4; stroke-opacity:1; fill:none\" points=\"\n",
       "  1660.27,1154.37 1652.01,1151.99 \n",
       "  \"/>\n",
       "<polyline clip-path=\"url(#clip570)\" style=\"stroke:#000000; stroke-linecap:round; stroke-linejoin:round; stroke-width:4; stroke-opacity:1; fill:none\" points=\"\n",
       "  1728.2,1095.54 1719.95,1093.15 \n",
       "  \"/>\n",
       "<polyline clip-path=\"url(#clip570)\" style=\"stroke:#000000; stroke-linecap:round; stroke-linejoin:round; stroke-width:4; stroke-opacity:1; fill:none\" points=\"\n",
       "  1796.13,1036.71 1787.88,1034.32 \n",
       "  \"/>\n",
       "<path clip-path=\"url(#clip570)\" d=\"M1481.22 1346.04 L1510.9 1346.04 L1510.9 1349.98 L1481.22 1349.98 L1481.22 1346.04 Z\" fill=\"#000000\" fill-rule=\"evenodd\" fill-opacity=\"1\" /><path clip-path=\"url(#clip570)\" d=\"M1530.99 1331.39 Q1527.38 1331.39 1525.55 1334.96 Q1523.74 1338.5 1523.74 1345.63 Q1523.74 1352.73 1525.55 1356.3 Q1527.38 1359.84 1530.99 1359.84 Q1534.62 1359.84 1536.43 1356.3 Q1538.26 1352.73 1538.26 1345.63 Q1538.26 1338.5 1536.43 1334.96 Q1534.62 1331.39 1530.99 1331.39 M1530.99 1327.69 Q1536.8 1327.69 1539.85 1332.29 Q1542.93 1336.88 1542.93 1345.63 Q1542.93 1354.35 1539.85 1358.96 Q1536.8 1363.54 1530.99 1363.54 Q1525.18 1363.54 1522.1 1358.96 Q1519.04 1354.35 1519.04 1345.63 Q1519.04 1336.88 1522.1 1332.29 Q1525.18 1327.69 1530.99 1327.69 Z\" fill=\"#000000\" fill-rule=\"evenodd\" fill-opacity=\"1\" /><path clip-path=\"url(#clip570)\" d=\"M1551.15 1356.99 L1556.03 1356.99 L1556.03 1362.87 L1551.15 1362.87 L1551.15 1356.99 Z\" fill=\"#000000\" fill-rule=\"evenodd\" fill-opacity=\"1\" /><path clip-path=\"url(#clip570)\" d=\"M1566.27 1328.31 L1584.62 1328.31 L1584.62 1332.25 L1570.55 1332.25 L1570.55 1340.72 Q1571.57 1340.37 1572.58 1340.21 Q1573.6 1340.03 1574.62 1340.03 Q1580.41 1340.03 1583.79 1343.2 Q1587.17 1346.37 1587.17 1351.79 Q1587.17 1357.36 1583.7 1360.47 Q1580.22 1363.54 1573.9 1363.54 Q1571.73 1363.54 1569.46 1363.17 Q1567.21 1362.8 1564.81 1362.06 L1564.81 1357.36 Q1566.89 1358.5 1569.11 1359.05 Q1571.33 1359.61 1573.81 1359.61 Q1577.82 1359.61 1580.15 1357.5 Q1582.49 1355.4 1582.49 1351.79 Q1582.49 1348.17 1580.15 1346.07 Q1577.82 1343.96 1573.81 1343.96 Q1571.94 1343.96 1570.06 1344.38 Q1568.21 1344.79 1566.27 1345.67 L1566.27 1328.31 Z\" fill=\"#000000\" fill-rule=\"evenodd\" fill-opacity=\"1\" /><path clip-path=\"url(#clip570)\" d=\"M1549.15 1287.21 L1578.83 1287.21 L1578.83 1291.15 L1549.15 1291.15 L1549.15 1287.21 Z\" fill=\"#000000\" fill-rule=\"evenodd\" fill-opacity=\"1\" /><path clip-path=\"url(#clip570)\" d=\"M1598.92 1272.56 Q1595.31 1272.56 1593.48 1276.13 Q1591.68 1279.67 1591.68 1286.8 Q1591.68 1293.9 1593.48 1297.47 Q1595.31 1301.01 1598.92 1301.01 Q1602.55 1301.01 1604.36 1297.47 Q1606.19 1293.9 1606.19 1286.8 Q1606.19 1279.67 1604.36 1276.13 Q1602.55 1272.56 1598.92 1272.56 M1598.92 1268.86 Q1604.73 1268.86 1607.79 1273.46 Q1610.86 1278.05 1610.86 1286.8 Q1610.86 1295.52 1607.79 1300.13 Q1604.73 1304.71 1598.92 1304.71 Q1593.11 1304.71 1590.03 1300.13 Q1586.98 1295.52 1586.98 1286.8 Q1586.98 1278.05 1590.03 1273.46 Q1593.11 1268.86 1598.92 1268.86 Z\" fill=\"#000000\" fill-rule=\"evenodd\" fill-opacity=\"1\" /><path clip-path=\"url(#clip570)\" d=\"M1619.08 1298.16 L1623.97 1298.16 L1623.97 1304.04 L1619.08 1304.04 L1619.08 1298.16 Z\" fill=\"#000000\" fill-rule=\"evenodd\" fill-opacity=\"1\" /><path clip-path=\"url(#clip570)\" d=\"M1647 1273.56 L1635.19 1292 L1647 1292 L1647 1273.56 M1645.77 1269.48 L1651.65 1269.48 L1651.65 1292 L1656.58 1292 L1656.58 1295.89 L1651.65 1295.89 L1651.65 1304.04 L1647 1304.04 L1647 1295.89 L1631.4 1295.89 L1631.4 1291.38 L1645.77 1269.48 Z\" fill=\"#000000\" fill-rule=\"evenodd\" fill-opacity=\"1\" /><path clip-path=\"url(#clip570)\" d=\"M1617.08 1228.38 L1646.76 1228.38 L1646.76 1232.32 L1617.08 1232.32 L1617.08 1228.38 Z\" fill=\"#000000\" fill-rule=\"evenodd\" fill-opacity=\"1\" /><path clip-path=\"url(#clip570)\" d=\"M1666.85 1213.73 Q1663.24 1213.73 1661.41 1217.29 Q1659.61 1220.84 1659.61 1227.97 Q1659.61 1235.07 1661.41 1238.64 Q1663.24 1242.18 1666.85 1242.18 Q1670.49 1242.18 1672.29 1238.64 Q1674.12 1235.07 1674.12 1227.97 Q1674.12 1220.84 1672.29 1217.29 Q1670.49 1213.73 1666.85 1213.73 M1666.85 1210.03 Q1672.66 1210.03 1675.72 1214.63 Q1678.8 1219.22 1678.8 1227.97 Q1678.8 1236.69 1675.72 1241.3 Q1672.66 1245.88 1666.85 1245.88 Q1661.04 1245.88 1657.96 1241.3 Q1654.91 1236.69 1654.91 1227.97 Q1654.91 1219.22 1657.96 1214.63 Q1661.04 1210.03 1666.85 1210.03 Z\" fill=\"#000000\" fill-rule=\"evenodd\" fill-opacity=\"1\" /><path clip-path=\"url(#clip570)\" d=\"M1687.01 1239.33 L1691.9 1239.33 L1691.9 1245.21 L1687.01 1245.21 L1687.01 1239.33 Z\" fill=\"#000000\" fill-rule=\"evenodd\" fill-opacity=\"1\" /><path clip-path=\"url(#clip570)\" d=\"M1716.25 1226.58 Q1719.61 1227.29 1721.48 1229.56 Q1723.38 1231.83 1723.38 1235.16 Q1723.38 1240.28 1719.86 1243.08 Q1716.34 1245.88 1709.86 1245.88 Q1707.69 1245.88 1705.37 1245.44 Q1703.08 1245.03 1700.63 1244.17 L1700.63 1239.65 Q1702.57 1240.79 1704.89 1241.37 Q1707.2 1241.95 1709.72 1241.95 Q1714.12 1241.95 1716.41 1240.21 Q1718.73 1238.47 1718.73 1235.16 Q1718.73 1232.11 1716.57 1230.4 Q1714.45 1228.66 1710.63 1228.66 L1706.6 1228.66 L1706.6 1224.82 L1710.81 1224.82 Q1714.26 1224.82 1716.09 1223.45 Q1717.92 1222.06 1717.92 1219.47 Q1717.92 1216.81 1716.02 1215.4 Q1714.14 1213.96 1710.63 1213.96 Q1708.7 1213.96 1706.51 1214.38 Q1704.31 1214.79 1701.67 1215.67 L1701.67 1211.51 Q1704.33 1210.77 1706.64 1210.4 Q1708.98 1210.03 1711.04 1210.03 Q1716.37 1210.03 1719.47 1212.46 Q1722.57 1214.86 1722.57 1218.98 Q1722.57 1221.85 1720.93 1223.84 Q1719.28 1225.81 1716.25 1226.58 Z\" fill=\"#000000\" fill-rule=\"evenodd\" fill-opacity=\"1\" /><path clip-path=\"url(#clip570)\" d=\"M1685.02 1169.55 L1714.69 1169.55 L1714.69 1173.49 L1685.02 1173.49 L1685.02 1169.55 Z\" fill=\"#000000\" fill-rule=\"evenodd\" fill-opacity=\"1\" /><path clip-path=\"url(#clip570)\" d=\"M1734.79 1154.9 Q1731.17 1154.9 1729.35 1158.46 Q1727.54 1162 1727.54 1169.13 Q1727.54 1176.24 1729.35 1179.81 Q1731.17 1183.35 1734.79 1183.35 Q1738.42 1183.35 1740.23 1179.81 Q1742.05 1176.24 1742.05 1169.13 Q1742.05 1162 1740.23 1158.46 Q1738.42 1154.9 1734.79 1154.9 M1734.79 1151.19 Q1740.6 1151.19 1743.65 1155.8 Q1746.73 1160.38 1746.73 1169.13 Q1746.73 1177.86 1743.65 1182.47 Q1740.6 1187.05 1734.79 1187.05 Q1728.98 1187.05 1725.9 1182.47 Q1722.84 1177.86 1722.84 1169.13 Q1722.84 1160.38 1725.9 1155.8 Q1728.98 1151.19 1734.79 1151.19 Z\" fill=\"#000000\" fill-rule=\"evenodd\" fill-opacity=\"1\" /><path clip-path=\"url(#clip570)\" d=\"M1754.95 1180.5 L1759.83 1180.5 L1759.83 1186.38 L1754.95 1186.38 L1754.95 1180.5 Z\" fill=\"#000000\" fill-rule=\"evenodd\" fill-opacity=\"1\" /><path clip-path=\"url(#clip570)\" d=\"M1774.04 1182.44 L1790.36 1182.44 L1790.36 1186.38 L1768.42 1186.38 L1768.42 1182.44 Q1771.08 1179.69 1775.67 1175.06 Q1780.27 1170.41 1781.45 1169.06 Q1783.7 1166.54 1784.58 1164.81 Q1785.48 1163.05 1785.48 1161.36 Q1785.48 1158.6 1783.54 1156.87 Q1781.61 1155.13 1778.51 1155.13 Q1776.31 1155.13 1773.86 1155.89 Q1771.43 1156.66 1768.65 1158.21 L1768.65 1153.49 Q1771.48 1152.35 1773.93 1151.77 Q1776.38 1151.19 1778.42 1151.19 Q1783.79 1151.19 1786.98 1153.88 Q1790.18 1156.56 1790.18 1161.06 Q1790.18 1163.18 1789.37 1165.11 Q1788.58 1167 1786.48 1169.6 Q1785.9 1170.27 1782.79 1173.49 Q1779.69 1176.68 1774.04 1182.44 Z\" fill=\"#000000\" fill-rule=\"evenodd\" fill-opacity=\"1\" /><path clip-path=\"url(#clip570)\" d=\"M1752.95 1110.72 L1782.63 1110.72 L1782.63 1114.65 L1752.95 1114.65 L1752.95 1110.72 Z\" fill=\"#000000\" fill-rule=\"evenodd\" fill-opacity=\"1\" /><path clip-path=\"url(#clip570)\" d=\"M1802.72 1096.07 Q1799.11 1096.07 1797.28 1099.63 Q1795.47 1103.17 1795.47 1110.3 Q1795.47 1117.41 1797.28 1120.97 Q1799.11 1124.52 1802.72 1124.52 Q1806.35 1124.52 1808.16 1120.97 Q1809.99 1117.41 1809.99 1110.3 Q1809.99 1103.17 1808.16 1099.63 Q1806.35 1096.07 1802.72 1096.07 M1802.72 1092.36 Q1808.53 1092.36 1811.58 1096.97 Q1814.66 1101.55 1814.66 1110.3 Q1814.66 1119.03 1811.58 1123.64 Q1808.53 1128.22 1802.72 1128.22 Q1796.91 1128.22 1793.83 1123.64 Q1790.77 1119.03 1790.77 1110.3 Q1790.77 1101.55 1793.83 1096.97 Q1796.91 1092.36 1802.72 1092.36 Z\" fill=\"#000000\" fill-rule=\"evenodd\" fill-opacity=\"1\" /><path clip-path=\"url(#clip570)\" d=\"M1822.88 1121.67 L1827.76 1121.67 L1827.76 1127.55 L1822.88 1127.55 L1822.88 1121.67 Z\" fill=\"#000000\" fill-rule=\"evenodd\" fill-opacity=\"1\" /><path clip-path=\"url(#clip570)\" d=\"M1838.76 1123.61 L1846.4 1123.61 L1846.4 1097.25 L1838.09 1098.91 L1838.09 1094.65 L1846.35 1092.99 L1851.03 1092.99 L1851.03 1123.61 L1858.67 1123.61 L1858.67 1127.55 L1838.76 1127.55 L1838.76 1123.61 Z\" fill=\"#000000\" fill-rule=\"evenodd\" fill-opacity=\"1\" /><path clip-path=\"url(#clip570)\" d=\"M1832.83 1037.23 Q1829.22 1037.23 1827.39 1040.8 Q1825.58 1044.34 1825.58 1051.47 Q1825.58 1058.58 1827.39 1062.14 Q1829.22 1065.68 1832.83 1065.68 Q1836.46 1065.68 1838.27 1062.14 Q1840.1 1058.58 1840.1 1051.47 Q1840.1 1044.34 1838.27 1040.8 Q1836.46 1037.23 1832.83 1037.23 M1832.83 1033.53 Q1838.64 1033.53 1841.69 1038.14 Q1844.77 1042.72 1844.77 1051.47 Q1844.77 1060.2 1841.69 1064.8 Q1838.64 1069.39 1832.83 1069.39 Q1827.02 1069.39 1823.94 1064.8 Q1820.88 1060.2 1820.88 1051.47 Q1820.88 1042.72 1823.94 1038.14 Q1827.02 1033.53 1832.83 1033.53 Z\" fill=\"#000000\" fill-rule=\"evenodd\" fill-opacity=\"1\" /><path clip-path=\"url(#clip570)\" d=\"M1852.99 1062.84 L1857.87 1062.84 L1857.87 1068.72 L1852.99 1068.72 L1852.99 1062.84 Z\" fill=\"#000000\" fill-rule=\"evenodd\" fill-opacity=\"1\" /><path clip-path=\"url(#clip570)\" d=\"M1878.06 1037.23 Q1874.45 1037.23 1872.62 1040.8 Q1870.81 1044.34 1870.81 1051.47 Q1870.81 1058.58 1872.62 1062.14 Q1874.45 1065.68 1878.06 1065.68 Q1881.69 1065.68 1883.5 1062.14 Q1885.33 1058.58 1885.33 1051.47 Q1885.33 1044.34 1883.5 1040.8 Q1881.69 1037.23 1878.06 1037.23 M1878.06 1033.53 Q1883.87 1033.53 1886.92 1038.14 Q1890 1042.72 1890 1051.47 Q1890 1060.2 1886.92 1064.8 Q1883.87 1069.39 1878.06 1069.39 Q1872.25 1069.39 1869.17 1064.8 Q1866.11 1060.2 1866.11 1051.47 Q1866.11 1042.72 1869.17 1038.14 Q1872.25 1033.53 1878.06 1033.53 Z\" fill=\"#000000\" fill-rule=\"evenodd\" fill-opacity=\"1\" /><polyline clip-path=\"url(#clip572)\" style=\"stroke:#000000; stroke-linecap:round; stroke-linejoin:round; stroke-width:2; stroke-opacity:0.1; fill:none\" points=\"\n",
       "  745.844,1123.98 1143.04,779.993 1831.01,978.592 \n",
       "  \"/>\n",
       "<polyline clip-path=\"url(#clip572)\" style=\"stroke:#000000; stroke-linecap:round; stroke-linejoin:round; stroke-width:2; stroke-opacity:0.1; fill:none\" points=\"\n",
       "  745.844,1028.87 1143.04,684.888 1831.01,883.487 \n",
       "  \"/>\n",
       "<polyline clip-path=\"url(#clip572)\" style=\"stroke:#000000; stroke-linecap:round; stroke-linejoin:round; stroke-width:2; stroke-opacity:0.1; fill:none\" points=\"\n",
       "  745.844,933.767 1143.04,589.783 1831.01,788.382 \n",
       "  \"/>\n",
       "<polyline clip-path=\"url(#clip572)\" style=\"stroke:#000000; stroke-linecap:round; stroke-linejoin:round; stroke-width:2; stroke-opacity:0.1; fill:none\" points=\"\n",
       "  745.844,838.662 1143.04,494.678 1831.01,693.277 \n",
       "  \"/>\n",
       "<polyline clip-path=\"url(#clip572)\" style=\"stroke:#000000; stroke-linecap:round; stroke-linejoin:round; stroke-width:2; stroke-opacity:0.1; fill:none\" points=\"\n",
       "  745.844,743.557 1143.04,399.573 1831.01,598.172 \n",
       "  \"/>\n",
       "<polyline clip-path=\"url(#clip572)\" style=\"stroke:#000000; stroke-linecap:round; stroke-linejoin:round; stroke-width:2; stroke-opacity:0.1; fill:none\" points=\"\n",
       "  745.844,648.452 1143.04,304.468 1831.01,503.067 \n",
       "  \"/>\n",
       "<polyline clip-path=\"url(#clip572)\" style=\"stroke:#000000; stroke-linecap:round; stroke-linejoin:round; stroke-width:2; stroke-opacity:0.1; fill:none\" points=\"\n",
       "  745.844,553.347 1143.04,209.363 1831.01,407.962 \n",
       "  \"/>\n",
       "<polyline clip-path=\"url(#clip570)\" style=\"stroke:#000000; stroke-linecap:round; stroke-linejoin:round; stroke-width:4; stroke-opacity:1; fill:none\" points=\"\n",
       "  745.844,1151.89 745.844,463.92 \n",
       "  \"/>\n",
       "<polyline clip-path=\"url(#clip570)\" style=\"stroke:#000000; stroke-linecap:round; stroke-linejoin:round; stroke-width:4; stroke-opacity:1; fill:none\" points=\"\n",
       "  745.844,1123.98 750.61,1119.85 \n",
       "  \"/>\n",
       "<polyline clip-path=\"url(#clip570)\" style=\"stroke:#000000; stroke-linecap:round; stroke-linejoin:round; stroke-width:4; stroke-opacity:1; fill:none\" points=\"\n",
       "  745.844,1028.87 750.61,1024.74 \n",
       "  \"/>\n",
       "<polyline clip-path=\"url(#clip570)\" style=\"stroke:#000000; stroke-linecap:round; stroke-linejoin:round; stroke-width:4; stroke-opacity:1; fill:none\" points=\"\n",
       "  745.844,933.767 750.61,929.639 \n",
       "  \"/>\n",
       "<polyline clip-path=\"url(#clip570)\" style=\"stroke:#000000; stroke-linecap:round; stroke-linejoin:round; stroke-width:4; stroke-opacity:1; fill:none\" points=\"\n",
       "  745.844,838.662 750.61,834.534 \n",
       "  \"/>\n",
       "<polyline clip-path=\"url(#clip570)\" style=\"stroke:#000000; stroke-linecap:round; stroke-linejoin:round; stroke-width:4; stroke-opacity:1; fill:none\" points=\"\n",
       "  745.844,743.557 750.61,739.429 \n",
       "  \"/>\n",
       "<polyline clip-path=\"url(#clip570)\" style=\"stroke:#000000; stroke-linecap:round; stroke-linejoin:round; stroke-width:4; stroke-opacity:1; fill:none\" points=\"\n",
       "  745.844,648.452 750.61,644.324 \n",
       "  \"/>\n",
       "<polyline clip-path=\"url(#clip570)\" style=\"stroke:#000000; stroke-linecap:round; stroke-linejoin:round; stroke-width:4; stroke-opacity:1; fill:none\" points=\"\n",
       "  745.844,553.347 750.61,549.219 \n",
       "  \"/>\n",
       "<path clip-path=\"url(#clip570)\" d=\"M580.933 1124.43 L610.609 1124.43 L610.609 1128.36 L580.933 1128.36 L580.933 1124.43 Z\" fill=\"#000000\" fill-rule=\"evenodd\" fill-opacity=\"1\" /><path clip-path=\"url(#clip570)\" d=\"M630.702 1109.78 Q627.091 1109.78 625.262 1113.34 Q623.456 1116.88 623.456 1124.01 Q623.456 1131.12 625.262 1134.68 Q627.091 1138.22 630.702 1138.22 Q634.336 1138.22 636.141 1134.68 Q637.97 1131.12 637.97 1124.01 Q637.97 1116.88 636.141 1113.34 Q634.336 1109.78 630.702 1109.78 M630.702 1106.07 Q636.512 1106.07 639.567 1110.68 Q642.646 1115.26 642.646 1124.01 Q642.646 1132.74 639.567 1137.35 Q636.512 1141.93 630.702 1141.93 Q624.891 1141.93 621.813 1137.35 Q618.757 1132.74 618.757 1124.01 Q618.757 1115.26 621.813 1110.68 Q624.891 1106.07 630.702 1106.07 Z\" fill=\"#000000\" fill-rule=\"evenodd\" fill-opacity=\"1\" /><path clip-path=\"url(#clip570)\" d=\"M650.864 1135.38 L655.748 1135.38 L655.748 1141.26 L650.864 1141.26 L650.864 1135.38 Z\" fill=\"#000000\" fill-rule=\"evenodd\" fill-opacity=\"1\" /><path clip-path=\"url(#clip570)\" d=\"M669.961 1137.32 L686.28 1137.32 L686.28 1141.26 L664.336 1141.26 L664.336 1137.32 Q666.998 1134.57 671.581 1129.94 Q676.187 1125.28 677.368 1123.94 Q679.613 1121.42 680.493 1119.68 Q681.396 1117.92 681.396 1116.23 Q681.396 1113.48 679.451 1111.74 Q677.53 1110.01 674.428 1110.01 Q672.229 1110.01 669.775 1110.77 Q667.345 1111.53 664.567 1113.09 L664.567 1108.36 Q667.391 1107.23 669.845 1106.65 Q672.299 1106.07 674.336 1106.07 Q679.706 1106.07 682.9 1108.76 Q686.095 1111.44 686.095 1115.93 Q686.095 1118.06 685.285 1119.98 Q684.498 1121.88 682.391 1124.47 Q681.812 1125.15 678.711 1128.36 Q675.609 1131.56 669.961 1137.32 Z\" fill=\"#000000\" fill-rule=\"evenodd\" fill-opacity=\"1\" /><path clip-path=\"url(#clip570)\" d=\"M696.141 1106.7 L714.497 1106.7 L714.497 1110.63 L700.423 1110.63 L700.423 1119.1 Q701.442 1118.76 702.46 1118.6 Q703.479 1118.41 704.498 1118.41 Q710.285 1118.41 713.664 1121.58 Q717.044 1124.75 717.044 1130.17 Q717.044 1135.75 713.572 1138.85 Q710.099 1141.93 703.78 1141.93 Q701.604 1141.93 699.335 1141.56 Q697.09 1141.19 694.683 1140.45 L694.683 1135.75 Q696.766 1136.88 698.988 1137.44 Q701.21 1137.99 703.687 1137.99 Q707.692 1137.99 710.03 1135.89 Q712.368 1133.78 712.368 1130.17 Q712.368 1126.56 710.03 1124.45 Q707.692 1122.35 703.687 1122.35 Q701.812 1122.35 699.937 1122.76 Q698.086 1123.18 696.141 1124.06 L696.141 1106.7 Z\" fill=\"#000000\" fill-rule=\"evenodd\" fill-opacity=\"1\" /><path clip-path=\"url(#clip570)\" d=\"M579.938 1029.32 L609.614 1029.32 L609.614 1033.26 L579.938 1033.26 L579.938 1029.32 Z\" fill=\"#000000\" fill-rule=\"evenodd\" fill-opacity=\"1\" /><path clip-path=\"url(#clip570)\" d=\"M629.706 1014.67 Q626.095 1014.67 624.266 1018.24 Q622.461 1021.78 622.461 1028.91 Q622.461 1036.01 624.266 1039.58 Q626.095 1043.12 629.706 1043.12 Q633.34 1043.12 635.146 1039.58 Q636.975 1036.01 636.975 1028.91 Q636.975 1021.78 635.146 1018.24 Q633.34 1014.67 629.706 1014.67 M629.706 1010.97 Q635.516 1010.97 638.572 1015.57 Q641.651 1020.16 641.651 1028.91 Q641.651 1037.63 638.572 1042.24 Q635.516 1046.82 629.706 1046.82 Q623.896 1046.82 620.817 1042.24 Q617.762 1037.63 617.762 1028.91 Q617.762 1020.16 620.817 1015.57 Q623.896 1010.97 629.706 1010.97 Z\" fill=\"#000000\" fill-rule=\"evenodd\" fill-opacity=\"1\" /><path clip-path=\"url(#clip570)\" d=\"M649.868 1040.27 L654.752 1040.27 L654.752 1046.15 L649.868 1046.15 L649.868 1040.27 Z\" fill=\"#000000\" fill-rule=\"evenodd\" fill-opacity=\"1\" /><path clip-path=\"url(#clip570)\" d=\"M668.965 1042.22 L685.285 1042.22 L685.285 1046.15 L663.34 1046.15 L663.34 1042.22 Q666.002 1039.46 670.586 1034.83 Q675.192 1030.18 676.373 1028.84 Q678.618 1026.31 679.498 1024.58 Q680.4 1022.82 680.4 1021.13 Q680.4 1018.37 678.456 1016.64 Q676.535 1014.9 673.433 1014.9 Q671.234 1014.9 668.78 1015.67 Q666.35 1016.43 663.572 1017.98 L663.572 1013.26 Q666.396 1012.12 668.85 1011.55 Q671.303 1010.97 673.34 1010.97 Q678.711 1010.97 681.905 1013.65 Q685.099 1016.34 685.099 1020.83 Q685.099 1022.96 684.289 1024.88 Q683.502 1026.78 681.396 1029.37 Q680.817 1030.04 677.715 1033.26 Q674.613 1036.45 668.965 1042.22 Z\" fill=\"#000000\" fill-rule=\"evenodd\" fill-opacity=\"1\" /><path clip-path=\"url(#clip570)\" d=\"M705.099 1014.67 Q701.488 1014.67 699.66 1018.24 Q697.854 1021.78 697.854 1028.91 Q697.854 1036.01 699.66 1039.58 Q701.488 1043.12 705.099 1043.12 Q708.734 1043.12 710.539 1039.58 Q712.368 1036.01 712.368 1028.91 Q712.368 1021.78 710.539 1018.24 Q708.734 1014.67 705.099 1014.67 M705.099 1010.97 Q710.91 1010.97 713.965 1015.57 Q717.044 1020.16 717.044 1028.91 Q717.044 1037.63 713.965 1042.24 Q710.91 1046.82 705.099 1046.82 Q699.289 1046.82 696.211 1042.24 Q693.155 1037.63 693.155 1028.91 Q693.155 1020.16 696.211 1015.57 Q699.289 1010.97 705.099 1010.97 Z\" fill=\"#000000\" fill-rule=\"evenodd\" fill-opacity=\"1\" /><path clip-path=\"url(#clip570)\" d=\"M580.933 934.218 L610.609 934.218 L610.609 938.153 L580.933 938.153 L580.933 934.218 Z\" fill=\"#000000\" fill-rule=\"evenodd\" fill-opacity=\"1\" /><path clip-path=\"url(#clip570)\" d=\"M630.702 919.566 Q627.091 919.566 625.262 923.13 Q623.456 926.672 623.456 933.802 Q623.456 940.908 625.262 944.473 Q627.091 948.015 630.702 948.015 Q634.336 948.015 636.141 944.473 Q637.97 940.908 637.97 933.802 Q637.97 926.672 636.141 923.13 Q634.336 919.566 630.702 919.566 M630.702 915.862 Q636.512 915.862 639.567 920.468 Q642.646 925.052 642.646 933.802 Q642.646 942.528 639.567 947.135 Q636.512 951.718 630.702 951.718 Q624.891 951.718 621.813 947.135 Q618.757 942.528 618.757 933.802 Q618.757 925.052 621.813 920.468 Q624.891 915.862 630.702 915.862 Z\" fill=\"#000000\" fill-rule=\"evenodd\" fill-opacity=\"1\" /><path clip-path=\"url(#clip570)\" d=\"M650.864 945.167 L655.748 945.167 L655.748 951.047 L650.864 951.047 L650.864 945.167 Z\" fill=\"#000000\" fill-rule=\"evenodd\" fill-opacity=\"1\" /><path clip-path=\"url(#clip570)\" d=\"M666.743 947.112 L674.382 947.112 L674.382 920.746 L666.072 922.413 L666.072 918.154 L674.336 916.487 L679.012 916.487 L679.012 947.112 L686.65 947.112 L686.65 951.047 L666.743 951.047 L666.743 947.112 Z\" fill=\"#000000\" fill-rule=\"evenodd\" fill-opacity=\"1\" /><path clip-path=\"url(#clip570)\" d=\"M696.141 916.487 L714.497 916.487 L714.497 920.422 L700.423 920.422 L700.423 928.894 Q701.442 928.547 702.46 928.385 Q703.479 928.2 704.498 928.2 Q710.285 928.2 713.664 931.371 Q717.044 934.542 717.044 939.959 Q717.044 945.538 713.572 948.64 Q710.099 951.718 703.78 951.718 Q701.604 951.718 699.335 951.348 Q697.09 950.977 694.683 950.237 L694.683 945.538 Q696.766 946.672 698.988 947.228 Q701.21 947.783 703.687 947.783 Q707.692 947.783 710.03 945.677 Q712.368 943.57 712.368 939.959 Q712.368 936.348 710.03 934.241 Q707.692 932.135 703.687 932.135 Q701.812 932.135 699.937 932.552 Q698.086 932.968 696.141 933.848 L696.141 916.487 Z\" fill=\"#000000\" fill-rule=\"evenodd\" fill-opacity=\"1\" /><path clip-path=\"url(#clip570)\" d=\"M579.938 839.113 L609.614 839.113 L609.614 843.048 L579.938 843.048 L579.938 839.113 Z\" fill=\"#000000\" fill-rule=\"evenodd\" fill-opacity=\"1\" /><path clip-path=\"url(#clip570)\" d=\"M629.706 824.461 Q626.095 824.461 624.266 828.025 Q622.461 831.567 622.461 838.697 Q622.461 845.803 624.266 849.368 Q626.095 852.909 629.706 852.909 Q633.34 852.909 635.146 849.368 Q636.975 845.803 636.975 838.697 Q636.975 831.567 635.146 828.025 Q633.34 824.461 629.706 824.461 M629.706 820.757 Q635.516 820.757 638.572 825.363 Q641.651 829.947 641.651 838.697 Q641.651 847.423 638.572 852.03 Q635.516 856.613 629.706 856.613 Q623.896 856.613 620.817 852.03 Q617.762 847.423 617.762 838.697 Q617.762 829.947 620.817 825.363 Q623.896 820.757 629.706 820.757 Z\" fill=\"#000000\" fill-rule=\"evenodd\" fill-opacity=\"1\" /><path clip-path=\"url(#clip570)\" d=\"M649.868 850.062 L654.752 850.062 L654.752 855.942 L649.868 855.942 L649.868 850.062 Z\" fill=\"#000000\" fill-rule=\"evenodd\" fill-opacity=\"1\" /><path clip-path=\"url(#clip570)\" d=\"M665.748 852.007 L673.387 852.007 L673.387 825.641 L665.076 827.308 L665.076 823.049 L673.34 821.382 L678.016 821.382 L678.016 852.007 L685.655 852.007 L685.655 855.942 L665.748 855.942 L665.748 852.007 Z\" fill=\"#000000\" fill-rule=\"evenodd\" fill-opacity=\"1\" /><path clip-path=\"url(#clip570)\" d=\"M705.099 824.461 Q701.488 824.461 699.66 828.025 Q697.854 831.567 697.854 838.697 Q697.854 845.803 699.66 849.368 Q701.488 852.909 705.099 852.909 Q708.734 852.909 710.539 849.368 Q712.368 845.803 712.368 838.697 Q712.368 831.567 710.539 828.025 Q708.734 824.461 705.099 824.461 M705.099 820.757 Q710.91 820.757 713.965 825.363 Q717.044 829.947 717.044 838.697 Q717.044 847.423 713.965 852.03 Q710.91 856.613 705.099 856.613 Q699.289 856.613 696.211 852.03 Q693.155 847.423 693.155 838.697 Q693.155 829.947 696.211 825.363 Q699.289 820.757 705.099 820.757 Z\" fill=\"#000000\" fill-rule=\"evenodd\" fill-opacity=\"1\" /><path clip-path=\"url(#clip570)\" d=\"M580.933 744.008 L610.609 744.008 L610.609 747.943 L580.933 747.943 L580.933 744.008 Z\" fill=\"#000000\" fill-rule=\"evenodd\" fill-opacity=\"1\" /><path clip-path=\"url(#clip570)\" d=\"M630.702 729.356 Q627.091 729.356 625.262 732.92 Q623.456 736.462 623.456 743.592 Q623.456 750.698 625.262 754.263 Q627.091 757.804 630.702 757.804 Q634.336 757.804 636.141 754.263 Q637.97 750.698 637.97 743.592 Q637.97 736.462 636.141 732.92 Q634.336 729.356 630.702 729.356 M630.702 725.652 Q636.512 725.652 639.567 730.258 Q642.646 734.842 642.646 743.592 Q642.646 752.318 639.567 756.925 Q636.512 761.508 630.702 761.508 Q624.891 761.508 621.813 756.925 Q618.757 752.318 618.757 743.592 Q618.757 734.842 621.813 730.258 Q624.891 725.652 630.702 725.652 Z\" fill=\"#000000\" fill-rule=\"evenodd\" fill-opacity=\"1\" /><path clip-path=\"url(#clip570)\" d=\"M650.864 754.957 L655.748 754.957 L655.748 760.837 L650.864 760.837 L650.864 754.957 Z\" fill=\"#000000\" fill-rule=\"evenodd\" fill-opacity=\"1\" /><path clip-path=\"url(#clip570)\" d=\"M675.933 729.356 Q672.322 729.356 670.493 732.92 Q668.688 736.462 668.688 743.592 Q668.688 750.698 670.493 754.263 Q672.322 757.804 675.933 757.804 Q679.567 757.804 681.373 754.263 Q683.201 750.698 683.201 743.592 Q683.201 736.462 681.373 732.92 Q679.567 729.356 675.933 729.356 M675.933 725.652 Q681.743 725.652 684.799 730.258 Q687.877 734.842 687.877 743.592 Q687.877 752.318 684.799 756.925 Q681.743 761.508 675.933 761.508 Q670.123 761.508 667.044 756.925 Q663.988 752.318 663.988 743.592 Q663.988 734.842 667.044 730.258 Q670.123 725.652 675.933 725.652 Z\" fill=\"#000000\" fill-rule=\"evenodd\" fill-opacity=\"1\" /><path clip-path=\"url(#clip570)\" d=\"M696.141 726.277 L714.497 726.277 L714.497 730.212 L700.423 730.212 L700.423 738.684 Q701.442 738.337 702.46 738.175 Q703.479 737.99 704.498 737.99 Q710.285 737.99 713.664 741.161 Q717.044 744.332 717.044 749.749 Q717.044 755.328 713.572 758.429 Q710.099 761.508 703.78 761.508 Q701.604 761.508 699.335 761.138 Q697.09 760.767 694.683 760.027 L694.683 755.328 Q696.766 756.462 698.988 757.017 Q701.21 757.573 703.687 757.573 Q707.692 757.573 710.03 755.466 Q712.368 753.36 712.368 749.749 Q712.368 746.138 710.03 744.031 Q707.692 741.925 703.687 741.925 Q701.812 741.925 699.937 742.342 Q698.086 742.758 696.141 743.638 L696.141 726.277 Z\" fill=\"#000000\" fill-rule=\"evenodd\" fill-opacity=\"1\" /><path clip-path=\"url(#clip570)\" d=\"M629.706 634.25 Q626.095 634.25 624.266 637.815 Q622.461 641.357 622.461 648.486 Q622.461 655.593 624.266 659.158 Q626.095 662.699 629.706 662.699 Q633.34 662.699 635.146 659.158 Q636.975 655.593 636.975 648.486 Q636.975 641.357 635.146 637.815 Q633.34 634.25 629.706 634.25 M629.706 630.547 Q635.516 630.547 638.572 635.153 Q641.651 639.737 641.651 648.486 Q641.651 657.213 638.572 661.82 Q635.516 666.403 629.706 666.403 Q623.896 666.403 620.817 661.82 Q617.762 657.213 617.762 648.486 Q617.762 639.737 620.817 635.153 Q623.896 630.547 629.706 630.547 Z\" fill=\"#000000\" fill-rule=\"evenodd\" fill-opacity=\"1\" /><path clip-path=\"url(#clip570)\" d=\"M649.868 659.852 L654.752 659.852 L654.752 665.732 L649.868 665.732 L649.868 659.852 Z\" fill=\"#000000\" fill-rule=\"evenodd\" fill-opacity=\"1\" /><path clip-path=\"url(#clip570)\" d=\"M674.937 634.25 Q671.326 634.25 669.498 637.815 Q667.692 641.357 667.692 648.486 Q667.692 655.593 669.498 659.158 Q671.326 662.699 674.937 662.699 Q678.572 662.699 680.377 659.158 Q682.206 655.593 682.206 648.486 Q682.206 641.357 680.377 637.815 Q678.572 634.25 674.937 634.25 M674.937 630.547 Q680.748 630.547 683.803 635.153 Q686.882 639.737 686.882 648.486 Q686.882 657.213 683.803 661.82 Q680.748 666.403 674.937 666.403 Q669.127 666.403 666.049 661.82 Q662.993 657.213 662.993 648.486 Q662.993 639.737 666.049 635.153 Q669.127 630.547 674.937 630.547 Z\" fill=\"#000000\" fill-rule=\"evenodd\" fill-opacity=\"1\" /><path clip-path=\"url(#clip570)\" d=\"M705.099 634.25 Q701.488 634.25 699.66 637.815 Q697.854 641.357 697.854 648.486 Q697.854 655.593 699.66 659.158 Q701.488 662.699 705.099 662.699 Q708.734 662.699 710.539 659.158 Q712.368 655.593 712.368 648.486 Q712.368 641.357 710.539 637.815 Q708.734 634.25 705.099 634.25 M705.099 630.547 Q710.91 630.547 713.965 635.153 Q717.044 639.737 717.044 648.486 Q717.044 657.213 713.965 661.82 Q710.91 666.403 705.099 666.403 Q699.289 666.403 696.211 661.82 Q693.155 657.213 693.155 648.486 Q693.155 639.737 696.211 635.153 Q699.289 630.547 705.099 630.547 Z\" fill=\"#000000\" fill-rule=\"evenodd\" fill-opacity=\"1\" /><path clip-path=\"url(#clip570)\" d=\"M630.702 539.145 Q627.091 539.145 625.262 542.71 Q623.456 546.252 623.456 553.381 Q623.456 560.488 625.262 564.053 Q627.091 567.594 630.702 567.594 Q634.336 567.594 636.141 564.053 Q637.97 560.488 637.97 553.381 Q637.97 546.252 636.141 542.71 Q634.336 539.145 630.702 539.145 M630.702 535.442 Q636.512 535.442 639.567 540.048 Q642.646 544.631 642.646 553.381 Q642.646 562.108 639.567 566.715 Q636.512 571.298 630.702 571.298 Q624.891 571.298 621.813 566.715 Q618.757 562.108 618.757 553.381 Q618.757 544.631 621.813 540.048 Q624.891 535.442 630.702 535.442 Z\" fill=\"#000000\" fill-rule=\"evenodd\" fill-opacity=\"1\" /><path clip-path=\"url(#clip570)\" d=\"M650.864 564.747 L655.748 564.747 L655.748 570.627 L650.864 570.627 L650.864 564.747 Z\" fill=\"#000000\" fill-rule=\"evenodd\" fill-opacity=\"1\" /><path clip-path=\"url(#clip570)\" d=\"M675.933 539.145 Q672.322 539.145 670.493 542.71 Q668.688 546.252 668.688 553.381 Q668.688 560.488 670.493 564.053 Q672.322 567.594 675.933 567.594 Q679.567 567.594 681.373 564.053 Q683.201 560.488 683.201 553.381 Q683.201 546.252 681.373 542.71 Q679.567 539.145 675.933 539.145 M675.933 535.442 Q681.743 535.442 684.799 540.048 Q687.877 544.631 687.877 553.381 Q687.877 562.108 684.799 566.715 Q681.743 571.298 675.933 571.298 Q670.123 571.298 667.044 566.715 Q663.988 562.108 663.988 553.381 Q663.988 544.631 667.044 540.048 Q670.123 535.442 675.933 535.442 Z\" fill=\"#000000\" fill-rule=\"evenodd\" fill-opacity=\"1\" /><path clip-path=\"url(#clip570)\" d=\"M696.141 536.067 L714.497 536.067 L714.497 540.002 L700.423 540.002 L700.423 548.474 Q701.442 548.127 702.46 547.965 Q703.479 547.78 704.498 547.78 Q710.285 547.78 713.664 550.951 Q717.044 554.122 717.044 559.539 Q717.044 565.117 713.572 568.219 Q710.099 571.298 703.78 571.298 Q701.604 571.298 699.335 570.928 Q697.09 570.557 694.683 569.817 L694.683 565.117 Q696.766 566.252 698.988 566.807 Q701.21 567.363 703.687 567.363 Q707.692 567.363 710.03 565.256 Q712.368 563.15 712.368 559.539 Q712.368 555.928 710.03 553.821 Q707.692 551.715 703.687 551.715 Q701.812 551.715 699.937 552.131 Q698.086 552.548 696.141 553.428 L696.141 536.067 Z\" fill=\"#000000\" fill-rule=\"evenodd\" fill-opacity=\"1\" /><polyline clip-path=\"url(#clip572)\" style=\"stroke:#009af9; stroke-linecap:round; stroke-linejoin:round; stroke-width:4; stroke-opacity:1; fill:none\" points=\"\n",
       "  1127.37,342.16 1127.73,339.655 1128.92,332.59 1128.88,343.827 1119.07,376.439 1135.85,330.822 1160.56,205.819 1211.73,437.699 829.926,1143.71 1776.84,362.436 \n",
       "  \n",
       "  \"/>\n",
       "<circle clip-path=\"url(#clip572)\" cx=\"1127.37\" cy=\"342.16\" r=\"14.4\" fill=\"#e26f46\" fill-rule=\"evenodd\" fill-opacity=\"1\" stroke=\"#000000\" stroke-opacity=\"1\" stroke-width=\"3.2\"/>\n",
       "<circle clip-path=\"url(#clip572)\" cx=\"1127.64\" cy=\"340.292\" r=\"14.4\" fill=\"#3da44d\" fill-rule=\"evenodd\" fill-opacity=\"1\" stroke=\"#000000\" stroke-opacity=\"1\" stroke-width=\"3.2\"/>\n",
       "<path clip-path=\"url(#clip570)\" d=\"\n",
       "M2015.93 1377.32 L2281.8 1377.32 L2281.8 1169.96 L2015.93 1169.96  Z\n",
       "  \" fill=\"#ffffff\" fill-rule=\"evenodd\" fill-opacity=\"1\"/>\n",
       "<polyline clip-path=\"url(#clip570)\" style=\"stroke:#000000; stroke-linecap:round; stroke-linejoin:round; stroke-width:4; stroke-opacity:1; fill:none\" points=\"\n",
       "  2015.93,1377.32 2281.8,1377.32 2281.8,1169.96 2015.93,1169.96 2015.93,1377.32 \n",
       "  \"/>\n",
       "<polyline clip-path=\"url(#clip570)\" style=\"stroke:#009af9; stroke-linecap:round; stroke-linejoin:round; stroke-width:4; stroke-opacity:1; fill:none\" points=\"\n",
       "  2039.58,1221.8 2181.49,1221.8 \n",
       "  \"/>\n",
       "<path clip-path=\"url(#clip570)\" d=\"M2218.98 1241.48 Q2217.18 1246.11 2215.46 1247.52 Q2213.75 1248.94 2210.88 1248.94 L2207.48 1248.94 L2207.48 1245.37 L2209.98 1245.37 Q2211.74 1245.37 2212.71 1244.54 Q2213.68 1243.7 2214.86 1240.6 L2215.63 1238.66 L2205.14 1213.15 L2209.65 1213.15 L2217.76 1233.43 L2225.86 1213.15 L2230.37 1213.15 L2218.98 1241.48 Z\" fill=\"#000000\" fill-rule=\"evenodd\" fill-opacity=\"1\" /><path clip-path=\"url(#clip570)\" d=\"M2237.66 1235.14 L2245.3 1235.14 L2245.3 1208.77 L2236.99 1210.44 L2236.99 1206.18 L2245.26 1204.52 L2249.93 1204.52 L2249.93 1235.14 L2257.57 1235.14 L2257.57 1239.08 L2237.66 1239.08 L2237.66 1235.14 Z\" fill=\"#000000\" fill-rule=\"evenodd\" fill-opacity=\"1\" /><circle clip-path=\"url(#clip570)\" cx=\"2110.53\" cy=\"1273.64\" r=\"23.04\" fill=\"#e26f46\" fill-rule=\"evenodd\" fill-opacity=\"1\" stroke=\"#000000\" stroke-opacity=\"1\" stroke-width=\"5.12\"/>\n",
       "<path clip-path=\"url(#clip570)\" d=\"M2218.98 1293.32 Q2217.18 1297.95 2215.46 1299.36 Q2213.75 1300.78 2210.88 1300.78 L2207.48 1300.78 L2207.48 1297.21 L2209.98 1297.21 Q2211.74 1297.21 2212.71 1296.38 Q2213.68 1295.54 2214.86 1292.44 L2215.63 1290.5 L2205.14 1264.99 L2209.65 1264.99 L2217.76 1285.27 L2225.86 1264.99 L2230.37 1264.99 L2218.98 1293.32 Z\" fill=\"#000000\" fill-rule=\"evenodd\" fill-opacity=\"1\" /><path clip-path=\"url(#clip570)\" d=\"M2240.88 1286.98 L2257.2 1286.98 L2257.2 1290.92 L2235.26 1290.92 L2235.26 1286.98 Q2237.92 1284.23 2242.5 1279.6 Q2247.11 1274.94 2248.29 1273.6 Q2250.53 1271.08 2251.41 1269.34 Q2252.32 1267.58 2252.32 1265.89 Q2252.32 1263.14 2250.37 1261.4 Q2248.45 1259.67 2245.35 1259.67 Q2243.15 1259.67 2240.7 1260.43 Q2238.26 1261.19 2235.49 1262.74 L2235.49 1258.02 Q2238.31 1256.89 2240.76 1256.31 Q2243.22 1255.73 2245.26 1255.73 Q2250.63 1255.73 2253.82 1258.42 Q2257.01 1261.1 2257.01 1265.59 Q2257.01 1267.72 2256.2 1269.64 Q2255.42 1271.54 2253.31 1274.13 Q2252.73 1274.8 2249.63 1278.02 Q2246.53 1281.22 2240.88 1286.98 Z\" fill=\"#000000\" fill-rule=\"evenodd\" fill-opacity=\"1\" /><circle clip-path=\"url(#clip570)\" cx=\"2110.53\" cy=\"1325.48\" r=\"23.04\" fill=\"#3da44d\" fill-rule=\"evenodd\" fill-opacity=\"1\" stroke=\"#000000\" stroke-opacity=\"1\" stroke-width=\"5.12\"/>\n",
       "<path clip-path=\"url(#clip570)\" d=\"M2218.98 1345.16 Q2217.18 1349.79 2215.46 1351.2 Q2213.75 1352.62 2210.88 1352.62 L2207.48 1352.62 L2207.48 1349.05 L2209.98 1349.05 Q2211.74 1349.05 2212.71 1348.22 Q2213.68 1347.38 2214.86 1344.28 L2215.63 1342.34 L2205.14 1316.83 L2209.65 1316.83 L2217.76 1337.11 L2225.86 1316.83 L2230.37 1316.83 L2218.98 1345.16 Z\" fill=\"#000000\" fill-rule=\"evenodd\" fill-opacity=\"1\" /><path clip-path=\"url(#clip570)\" d=\"M2251.02 1324.12 Q2254.38 1324.84 2256.25 1327.11 Q2258.15 1329.38 2258.15 1332.71 Q2258.15 1337.82 2254.63 1340.63 Q2251.11 1343.43 2244.63 1343.43 Q2242.45 1343.43 2240.14 1342.99 Q2237.85 1342.57 2235.39 1341.71 L2235.39 1337.2 Q2237.34 1338.33 2239.65 1338.91 Q2241.97 1339.49 2244.49 1339.49 Q2248.89 1339.49 2251.18 1337.76 Q2253.5 1336.02 2253.5 1332.71 Q2253.5 1329.65 2251.34 1327.94 Q2249.21 1326.2 2245.39 1326.2 L2241.37 1326.2 L2241.37 1322.36 L2245.58 1322.36 Q2249.03 1322.36 2250.86 1321 Q2252.69 1319.61 2252.69 1317.01 Q2252.69 1314.35 2250.79 1312.94 Q2248.91 1311.51 2245.39 1311.51 Q2243.47 1311.51 2241.27 1311.92 Q2239.07 1312.34 2236.44 1313.22 L2236.44 1309.05 Q2239.1 1308.31 2241.41 1307.94 Q2243.75 1307.57 2245.81 1307.57 Q2251.14 1307.57 2254.24 1310 Q2257.34 1312.41 2257.34 1316.53 Q2257.34 1319.4 2255.7 1321.39 Q2254.05 1323.36 2251.02 1324.12 Z\" fill=\"#000000\" fill-rule=\"evenodd\" fill-opacity=\"1\" /></svg>\n"
      ]
     },
     "execution_count": 52,
     "metadata": {},
     "output_type": "execute_result"
    }
   ],
   "source": [
    "using Plots\n",
    "plot(halo_linear[1,:], halo_linear[2,:], halo_linear[3,:], xlabel = \"x\")\n",
    "scatter!([halo_linear[1,1]], [halo_linear[2,1]], [halo_linear[3,1]])\n",
    "scatter!([L1[1]], [L1[2]], [L1[3]])"
   ]
  },
  {
   "cell_type": "code",
   "execution_count": 53,
   "id": "d5ebb326",
   "metadata": {},
   "outputs": [
    {
     "data": {
      "text/plain": [
       "6-element Vector{Float64}:\n",
       "  0.8369180073169304\n",
       " -0.0003956249230764371\n",
       " -0.0008598143453306134\n",
       "  0.0\n",
       "  0.00013493122589173286\n",
       "  0.00029324695409126806"
      ]
     },
     "execution_count": 53,
     "metadata": {},
     "output_type": "execute_result"
    }
   ],
   "source": [
    "halo_linear[:,1]"
   ]
  },
  {
   "cell_type": "code",
   "execution_count": 54,
   "id": "6de3746b",
   "metadata": {},
   "outputs": [
    {
     "data": {
      "image/svg+xml": [
       "<?xml version=\"1.0\" encoding=\"utf-8\"?>\n",
       "<svg xmlns=\"http://www.w3.org/2000/svg\" xmlns:xlink=\"http://www.w3.org/1999/xlink\" width=\"600\" height=\"400\" viewBox=\"0 0 2400 1600\">\n",
       "<defs>\n",
       "  <clipPath id=\"clip610\">\n",
       "    <rect x=\"0\" y=\"0\" width=\"2400\" height=\"1600\"/>\n",
       "  </clipPath>\n",
       "</defs>\n",
       "<path clip-path=\"url(#clip610)\" d=\"\n",
       "M0 1600 L2400 1600 L2400 0 L0 0  Z\n",
       "  \" fill=\"#ffffff\" fill-rule=\"evenodd\" fill-opacity=\"1\"/>\n",
       "<defs>\n",
       "  <clipPath id=\"clip611\">\n",
       "    <rect x=\"480\" y=\"0\" width=\"1681\" height=\"1600\"/>\n",
       "  </clipPath>\n",
       "</defs>\n",
       "<path clip-path=\"url(#clip610)\" d=\"\n",
       "M194.422 1423.18 L2352.76 1423.18 L2352.76 47.2441 L194.422 47.2441  Z\n",
       "  \" fill=\"#ffffff\" fill-rule=\"evenodd\" fill-opacity=\"1\"/>\n",
       "<defs>\n",
       "  <clipPath id=\"clip612\">\n",
       "    <rect x=\"194\" y=\"47\" width=\"2159\" height=\"1377\"/>\n",
       "  </clipPath>\n",
       "</defs>\n",
       "<polyline clip-path=\"url(#clip612)\" style=\"stroke:#000000; stroke-linecap:round; stroke-linejoin:round; stroke-width:2; stroke-opacity:0.1; fill:none\" points=\"\n",
       "  565.796,1423.18 565.796,47.2441 \n",
       "  \"/>\n",
       "<polyline clip-path=\"url(#clip612)\" style=\"stroke:#000000; stroke-linecap:round; stroke-linejoin:round; stroke-width:2; stroke-opacity:0.1; fill:none\" points=\"\n",
       "  946.328,1423.18 946.328,47.2441 \n",
       "  \"/>\n",
       "<polyline clip-path=\"url(#clip612)\" style=\"stroke:#000000; stroke-linecap:round; stroke-linejoin:round; stroke-width:2; stroke-opacity:0.1; fill:none\" points=\"\n",
       "  1326.86,1423.18 1326.86,47.2441 \n",
       "  \"/>\n",
       "<polyline clip-path=\"url(#clip612)\" style=\"stroke:#000000; stroke-linecap:round; stroke-linejoin:round; stroke-width:2; stroke-opacity:0.1; fill:none\" points=\"\n",
       "  1707.39,1423.18 1707.39,47.2441 \n",
       "  \"/>\n",
       "<polyline clip-path=\"url(#clip612)\" style=\"stroke:#000000; stroke-linecap:round; stroke-linejoin:round; stroke-width:2; stroke-opacity:0.1; fill:none\" points=\"\n",
       "  2087.92,1423.18 2087.92,47.2441 \n",
       "  \"/>\n",
       "<polyline clip-path=\"url(#clip610)\" style=\"stroke:#000000; stroke-linecap:round; stroke-linejoin:round; stroke-width:4; stroke-opacity:1; fill:none\" points=\"\n",
       "  194.422,1423.18 2352.76,1423.18 \n",
       "  \"/>\n",
       "<polyline clip-path=\"url(#clip610)\" style=\"stroke:#000000; stroke-linecap:round; stroke-linejoin:round; stroke-width:4; stroke-opacity:1; fill:none\" points=\"\n",
       "  565.796,1423.18 565.796,1404.28 \n",
       "  \"/>\n",
       "<polyline clip-path=\"url(#clip610)\" style=\"stroke:#000000; stroke-linecap:round; stroke-linejoin:round; stroke-width:4; stroke-opacity:1; fill:none\" points=\"\n",
       "  946.328,1423.18 946.328,1404.28 \n",
       "  \"/>\n",
       "<polyline clip-path=\"url(#clip610)\" style=\"stroke:#000000; stroke-linecap:round; stroke-linejoin:round; stroke-width:4; stroke-opacity:1; fill:none\" points=\"\n",
       "  1326.86,1423.18 1326.86,1404.28 \n",
       "  \"/>\n",
       "<polyline clip-path=\"url(#clip610)\" style=\"stroke:#000000; stroke-linecap:round; stroke-linejoin:round; stroke-width:4; stroke-opacity:1; fill:none\" points=\"\n",
       "  1707.39,1423.18 1707.39,1404.28 \n",
       "  \"/>\n",
       "<polyline clip-path=\"url(#clip610)\" style=\"stroke:#000000; stroke-linecap:round; stroke-linejoin:round; stroke-width:4; stroke-opacity:1; fill:none\" points=\"\n",
       "  2087.92,1423.18 2087.92,1404.28 \n",
       "  \"/>\n",
       "<path clip-path=\"url(#clip610)\" d=\"M532.949 1481.64 L540.588 1481.64 L540.588 1455.28 L532.278 1456.95 L532.278 1452.69 L540.542 1451.02 L545.218 1451.02 L545.218 1481.64 L552.856 1481.64 L552.856 1485.58 L532.949 1485.58 L532.949 1481.64 Z\" fill=\"#000000\" fill-rule=\"evenodd\" fill-opacity=\"1\" /><path clip-path=\"url(#clip610)\" d=\"M562.301 1479.7 L567.185 1479.7 L567.185 1485.58 L562.301 1485.58 L562.301 1479.7 Z\" fill=\"#000000\" fill-rule=\"evenodd\" fill-opacity=\"1\" /><path clip-path=\"url(#clip610)\" d=\"M587.37 1454.1 Q583.759 1454.1 581.93 1457.66 Q580.125 1461.2 580.125 1468.33 Q580.125 1475.44 581.93 1479.01 Q583.759 1482.55 587.37 1482.55 Q591.004 1482.55 592.81 1479.01 Q594.639 1475.44 594.639 1468.33 Q594.639 1461.2 592.81 1457.66 Q591.004 1454.1 587.37 1454.1 M587.37 1450.39 Q593.18 1450.39 596.236 1455 Q599.314 1459.58 599.314 1468.33 Q599.314 1477.06 596.236 1481.67 Q593.18 1486.25 587.37 1486.25 Q581.56 1486.25 578.481 1481.67 Q575.426 1477.06 575.426 1468.33 Q575.426 1459.58 578.481 1455 Q581.56 1450.39 587.37 1450.39 Z\" fill=\"#000000\" fill-rule=\"evenodd\" fill-opacity=\"1\" /><path clip-path=\"url(#clip610)\" d=\"M914.279 1481.64 L921.918 1481.64 L921.918 1455.28 L913.608 1456.95 L913.608 1452.69 L921.872 1451.02 L926.548 1451.02 L926.548 1481.64 L934.186 1481.64 L934.186 1485.58 L914.279 1485.58 L914.279 1481.64 Z\" fill=\"#000000\" fill-rule=\"evenodd\" fill-opacity=\"1\" /><path clip-path=\"url(#clip610)\" d=\"M943.631 1479.7 L948.515 1479.7 L948.515 1485.58 L943.631 1485.58 L943.631 1479.7 Z\" fill=\"#000000\" fill-rule=\"evenodd\" fill-opacity=\"1\" /><path clip-path=\"url(#clip610)\" d=\"M962.728 1481.64 L979.047 1481.64 L979.047 1485.58 L957.103 1485.58 L957.103 1481.64 Q959.765 1478.89 964.348 1474.26 Q968.955 1469.61 970.135 1468.27 Q972.381 1465.74 973.26 1464.01 Q974.163 1462.25 974.163 1460.56 Q974.163 1457.8 972.219 1456.07 Q970.297 1454.33 967.196 1454.33 Q964.996 1454.33 962.543 1455.09 Q960.112 1455.86 957.334 1457.41 L957.334 1452.69 Q960.159 1451.55 962.612 1450.97 Q965.066 1450.39 967.103 1450.39 Q972.473 1450.39 975.668 1453.08 Q978.862 1455.77 978.862 1460.26 Q978.862 1462.39 978.052 1464.31 Q977.265 1466.2 975.158 1468.8 Q974.58 1469.47 971.478 1472.69 Q968.376 1475.88 962.728 1481.64 Z\" fill=\"#000000\" fill-rule=\"evenodd\" fill-opacity=\"1\" /><path clip-path=\"url(#clip610)\" d=\"M1293.77 1481.64 L1301.41 1481.64 L1301.41 1455.28 L1293.1 1456.95 L1293.1 1452.69 L1301.36 1451.02 L1306.04 1451.02 L1306.04 1481.64 L1313.68 1481.64 L1313.68 1485.58 L1293.77 1485.58 L1293.77 1481.64 Z\" fill=\"#000000\" fill-rule=\"evenodd\" fill-opacity=\"1\" /><path clip-path=\"url(#clip610)\" d=\"M1323.12 1479.7 L1328 1479.7 L1328 1485.58 L1323.12 1485.58 L1323.12 1479.7 Z\" fill=\"#000000\" fill-rule=\"evenodd\" fill-opacity=\"1\" /><path clip-path=\"url(#clip610)\" d=\"M1351.04 1455.09 L1339.23 1473.54 L1351.04 1473.54 L1351.04 1455.09 M1349.81 1451.02 L1355.69 1451.02 L1355.69 1473.54 L1360.62 1473.54 L1360.62 1477.43 L1355.69 1477.43 L1355.69 1485.58 L1351.04 1485.58 L1351.04 1477.43 L1335.44 1477.43 L1335.44 1472.92 L1349.81 1451.02 Z\" fill=\"#000000\" fill-rule=\"evenodd\" fill-opacity=\"1\" /><path clip-path=\"url(#clip610)\" d=\"M1674.46 1481.64 L1682.1 1481.64 L1682.1 1455.28 L1673.79 1456.95 L1673.79 1452.69 L1682.05 1451.02 L1686.73 1451.02 L1686.73 1481.64 L1694.37 1481.64 L1694.37 1485.58 L1674.46 1485.58 L1674.46 1481.64 Z\" fill=\"#000000\" fill-rule=\"evenodd\" fill-opacity=\"1\" /><path clip-path=\"url(#clip610)\" d=\"M1703.81 1479.7 L1708.7 1479.7 L1708.7 1485.58 L1703.81 1485.58 L1703.81 1479.7 Z\" fill=\"#000000\" fill-rule=\"evenodd\" fill-opacity=\"1\" /><path clip-path=\"url(#clip610)\" d=\"M1729.46 1466.44 Q1726.31 1466.44 1724.46 1468.59 Q1722.63 1470.74 1722.63 1474.49 Q1722.63 1478.22 1724.46 1480.39 Q1726.31 1482.55 1729.46 1482.55 Q1732.61 1482.55 1734.44 1480.39 Q1736.29 1478.22 1736.29 1474.49 Q1736.29 1470.74 1734.44 1468.59 Q1732.61 1466.44 1729.46 1466.44 M1738.74 1451.78 L1738.74 1456.04 Q1736.99 1455.21 1735.18 1454.77 Q1733.4 1454.33 1731.64 1454.33 Q1727.01 1454.33 1724.55 1457.45 Q1722.12 1460.58 1721.78 1466.9 Q1723.14 1464.89 1725.2 1463.82 Q1727.26 1462.73 1729.74 1462.73 Q1734.95 1462.73 1737.96 1465.9 Q1740.99 1469.05 1740.99 1474.49 Q1740.99 1479.82 1737.84 1483.03 Q1734.69 1486.25 1729.46 1486.25 Q1723.47 1486.25 1720.3 1481.67 Q1717.12 1477.06 1717.12 1468.33 Q1717.12 1460.14 1721.01 1455.28 Q1724.9 1450.39 1731.45 1450.39 Q1733.21 1450.39 1734.99 1450.74 Q1736.8 1451.09 1738.74 1451.78 Z\" fill=\"#000000\" fill-rule=\"evenodd\" fill-opacity=\"1\" /><path clip-path=\"url(#clip610)\" d=\"M2055.12 1481.64 L2062.76 1481.64 L2062.76 1455.28 L2054.45 1456.95 L2054.45 1452.69 L2062.71 1451.02 L2067.39 1451.02 L2067.39 1481.64 L2075.03 1481.64 L2075.03 1485.58 L2055.12 1485.58 L2055.12 1481.64 Z\" fill=\"#000000\" fill-rule=\"evenodd\" fill-opacity=\"1\" /><path clip-path=\"url(#clip610)\" d=\"M2084.47 1479.7 L2089.36 1479.7 L2089.36 1485.58 L2084.47 1485.58 L2084.47 1479.7 Z\" fill=\"#000000\" fill-rule=\"evenodd\" fill-opacity=\"1\" /><path clip-path=\"url(#clip610)\" d=\"M2109.54 1469.17 Q2106.21 1469.17 2104.29 1470.95 Q2102.39 1472.73 2102.39 1475.86 Q2102.39 1478.98 2104.29 1480.77 Q2106.21 1482.55 2109.54 1482.55 Q2112.88 1482.55 2114.8 1480.77 Q2116.72 1478.96 2116.72 1475.86 Q2116.72 1472.73 2114.8 1470.95 Q2112.9 1469.17 2109.54 1469.17 M2104.87 1467.18 Q2101.86 1466.44 2100.17 1464.38 Q2098.5 1462.32 2098.5 1459.35 Q2098.5 1455.21 2101.44 1452.8 Q2104.4 1450.39 2109.54 1450.39 Q2114.7 1450.39 2117.64 1452.8 Q2120.58 1455.21 2120.58 1459.35 Q2120.58 1462.32 2118.89 1464.38 Q2117.23 1466.44 2114.24 1467.18 Q2117.62 1467.96 2119.5 1470.26 Q2121.39 1472.55 2121.39 1475.86 Q2121.39 1480.88 2118.32 1483.57 Q2115.26 1486.25 2109.54 1486.25 Q2103.82 1486.25 2100.75 1483.57 Q2097.69 1480.88 2097.69 1475.86 Q2097.69 1472.55 2099.59 1470.26 Q2101.49 1467.96 2104.87 1467.18 M2103.15 1459.79 Q2103.15 1462.48 2104.82 1463.98 Q2106.51 1465.49 2109.54 1465.49 Q2112.55 1465.49 2114.24 1463.98 Q2115.95 1462.48 2115.95 1459.79 Q2115.95 1457.11 2114.24 1455.6 Q2112.55 1454.1 2109.54 1454.1 Q2106.51 1454.1 2104.82 1455.6 Q2103.15 1457.11 2103.15 1459.79 Z\" fill=\"#000000\" fill-rule=\"evenodd\" fill-opacity=\"1\" /><path clip-path=\"url(#clip610)\" d=\"M1290.2 1532.4 L1277.31 1549.74 L1290.87 1568.04 L1283.97 1568.04 L1273.59 1554.04 L1263.21 1568.04 L1256.31 1568.04 L1270.15 1549.39 L1257.48 1532.4 L1264.39 1532.4 L1273.84 1545.1 L1283.3 1532.4 L1290.2 1532.4 Z\" fill=\"#000000\" fill-rule=\"evenodd\" fill-opacity=\"1\" /><polyline clip-path=\"url(#clip612)\" style=\"stroke:#000000; stroke-linecap:round; stroke-linejoin:round; stroke-width:2; stroke-opacity:0.1; fill:none\" points=\"\n",
       "  194.422,1344.69 2352.76,1344.69 \n",
       "  \"/>\n",
       "<polyline clip-path=\"url(#clip612)\" style=\"stroke:#000000; stroke-linecap:round; stroke-linejoin:round; stroke-width:2; stroke-opacity:0.1; fill:none\" points=\"\n",
       "  194.422,1109.36 2352.76,1109.36 \n",
       "  \"/>\n",
       "<polyline clip-path=\"url(#clip612)\" style=\"stroke:#000000; stroke-linecap:round; stroke-linejoin:round; stroke-width:2; stroke-opacity:0.1; fill:none\" points=\"\n",
       "  194.422,874.034 2352.76,874.034 \n",
       "  \"/>\n",
       "<polyline clip-path=\"url(#clip612)\" style=\"stroke:#000000; stroke-linecap:round; stroke-linejoin:round; stroke-width:2; stroke-opacity:0.1; fill:none\" points=\"\n",
       "  194.422,638.708 2352.76,638.708 \n",
       "  \"/>\n",
       "<polyline clip-path=\"url(#clip612)\" style=\"stroke:#000000; stroke-linecap:round; stroke-linejoin:round; stroke-width:2; stroke-opacity:0.1; fill:none\" points=\"\n",
       "  194.422,403.383 2352.76,403.383 \n",
       "  \"/>\n",
       "<polyline clip-path=\"url(#clip612)\" style=\"stroke:#000000; stroke-linecap:round; stroke-linejoin:round; stroke-width:2; stroke-opacity:0.1; fill:none\" points=\"\n",
       "  194.422,168.057 2352.76,168.057 \n",
       "  \"/>\n",
       "<polyline clip-path=\"url(#clip610)\" style=\"stroke:#000000; stroke-linecap:round; stroke-linejoin:round; stroke-width:4; stroke-opacity:1; fill:none\" points=\"\n",
       "  194.422,1423.18 194.422,47.2441 \n",
       "  \"/>\n",
       "<polyline clip-path=\"url(#clip610)\" style=\"stroke:#000000; stroke-linecap:round; stroke-linejoin:round; stroke-width:4; stroke-opacity:1; fill:none\" points=\"\n",
       "  194.422,1344.69 213.32,1344.69 \n",
       "  \"/>\n",
       "<polyline clip-path=\"url(#clip610)\" style=\"stroke:#000000; stroke-linecap:round; stroke-linejoin:round; stroke-width:4; stroke-opacity:1; fill:none\" points=\"\n",
       "  194.422,1109.36 213.32,1109.36 \n",
       "  \"/>\n",
       "<polyline clip-path=\"url(#clip610)\" style=\"stroke:#000000; stroke-linecap:round; stroke-linejoin:round; stroke-width:4; stroke-opacity:1; fill:none\" points=\"\n",
       "  194.422,874.034 213.32,874.034 \n",
       "  \"/>\n",
       "<polyline clip-path=\"url(#clip610)\" style=\"stroke:#000000; stroke-linecap:round; stroke-linejoin:round; stroke-width:4; stroke-opacity:1; fill:none\" points=\"\n",
       "  194.422,638.708 213.32,638.708 \n",
       "  \"/>\n",
       "<polyline clip-path=\"url(#clip610)\" style=\"stroke:#000000; stroke-linecap:round; stroke-linejoin:round; stroke-width:4; stroke-opacity:1; fill:none\" points=\"\n",
       "  194.422,403.383 213.32,403.383 \n",
       "  \"/>\n",
       "<polyline clip-path=\"url(#clip610)\" style=\"stroke:#000000; stroke-linecap:round; stroke-linejoin:round; stroke-width:4; stroke-opacity:1; fill:none\" points=\"\n",
       "  194.422,168.057 213.32,168.057 \n",
       "  \"/>\n",
       "<path clip-path=\"url(#clip610)\" d=\"M52.4736 1345.14 L82.1494 1345.14 L82.1494 1349.07 L52.4736 1349.07 L52.4736 1345.14 Z\" fill=\"#000000\" fill-rule=\"evenodd\" fill-opacity=\"1\" /><path clip-path=\"url(#clip610)\" d=\"M102.242 1330.48 Q98.6308 1330.48 96.8021 1334.05 Q94.9965 1337.59 94.9965 1344.72 Q94.9965 1351.83 96.8021 1355.39 Q98.6308 1358.93 102.242 1358.93 Q105.876 1358.93 107.682 1355.39 Q109.51 1351.83 109.51 1344.72 Q109.51 1337.59 107.682 1334.05 Q105.876 1330.48 102.242 1330.48 M102.242 1326.78 Q108.052 1326.78 111.108 1331.39 Q114.186 1335.97 114.186 1344.72 Q114.186 1353.45 111.108 1358.05 Q108.052 1362.64 102.242 1362.64 Q96.4317 1362.64 93.353 1358.05 Q90.2975 1353.45 90.2975 1344.72 Q90.2975 1335.97 93.353 1331.39 Q96.4317 1326.78 102.242 1326.78 Z\" fill=\"#000000\" fill-rule=\"evenodd\" fill-opacity=\"1\" /><path clip-path=\"url(#clip610)\" d=\"M122.404 1356.09 L127.288 1356.09 L127.288 1361.97 L122.404 1361.97 L122.404 1356.09 Z\" fill=\"#000000\" fill-rule=\"evenodd\" fill-opacity=\"1\" /><path clip-path=\"url(#clip610)\" d=\"M137.519 1327.41 L155.876 1327.41 L155.876 1331.34 L141.802 1331.34 L141.802 1339.81 Q142.82 1339.47 143.839 1339.3 Q144.857 1339.12 145.876 1339.12 Q151.663 1339.12 155.042 1342.29 Q158.422 1345.46 158.422 1350.88 Q158.422 1356.46 154.95 1359.56 Q151.478 1362.64 145.158 1362.64 Q142.982 1362.64 140.714 1362.27 Q138.469 1361.9 136.061 1361.16 L136.061 1356.46 Q138.144 1357.59 140.367 1358.15 Q142.589 1358.7 145.066 1358.7 Q149.07 1358.7 151.408 1356.59 Q153.746 1354.49 153.746 1350.88 Q153.746 1347.27 151.408 1345.16 Q149.07 1343.05 145.066 1343.05 Q143.191 1343.05 141.316 1343.47 Q139.464 1343.89 137.519 1344.77 L137.519 1327.41 Z\" fill=\"#000000\" fill-rule=\"evenodd\" fill-opacity=\"1\" /><path clip-path=\"url(#clip610)\" d=\"M50.9921 1109.81 L80.6679 1109.81 L80.6679 1113.75 L50.9921 1113.75 L50.9921 1109.81 Z\" fill=\"#000000\" fill-rule=\"evenodd\" fill-opacity=\"1\" /><path clip-path=\"url(#clip610)\" d=\"M100.76 1095.16 Q97.1493 1095.16 95.3206 1098.72 Q93.515 1102.26 93.515 1109.39 Q93.515 1116.5 95.3206 1120.07 Q97.1493 1123.61 100.76 1123.61 Q104.395 1123.61 106.2 1120.07 Q108.029 1116.5 108.029 1109.39 Q108.029 1102.26 106.2 1098.72 Q104.395 1095.16 100.76 1095.16 M100.76 1091.45 Q106.571 1091.45 109.626 1096.06 Q112.705 1100.64 112.705 1109.39 Q112.705 1118.12 109.626 1122.73 Q106.571 1127.31 100.76 1127.31 Q94.9502 1127.31 91.8715 1122.73 Q88.816 1118.12 88.816 1109.39 Q88.816 1100.64 91.8715 1096.06 Q94.9502 1091.45 100.76 1091.45 Z\" fill=\"#000000\" fill-rule=\"evenodd\" fill-opacity=\"1\" /><path clip-path=\"url(#clip610)\" d=\"M120.922 1120.76 L125.807 1120.76 L125.807 1126.64 L120.922 1126.64 L120.922 1120.76 Z\" fill=\"#000000\" fill-rule=\"evenodd\" fill-opacity=\"1\" /><path clip-path=\"url(#clip610)\" d=\"M148.839 1096.15 L137.033 1114.6 L148.839 1114.6 L148.839 1096.15 M147.612 1092.08 L153.492 1092.08 L153.492 1114.6 L158.422 1114.6 L158.422 1118.49 L153.492 1118.49 L153.492 1126.64 L148.839 1126.64 L148.839 1118.49 L133.237 1118.49 L133.237 1113.98 L147.612 1092.08 Z\" fill=\"#000000\" fill-rule=\"evenodd\" fill-opacity=\"1\" /><path clip-path=\"url(#clip610)\" d=\"M52.1264 874.485 L81.8021 874.485 L81.8021 878.42 L52.1264 878.42 L52.1264 874.485 Z\" fill=\"#000000\" fill-rule=\"evenodd\" fill-opacity=\"1\" /><path clip-path=\"url(#clip610)\" d=\"M101.895 859.833 Q98.2835 859.833 96.4548 863.397 Q94.6493 866.939 94.6493 874.069 Q94.6493 881.175 96.4548 884.74 Q98.2835 888.282 101.895 888.282 Q105.529 888.282 107.334 884.74 Q109.163 881.175 109.163 874.069 Q109.163 866.939 107.334 863.397 Q105.529 859.833 101.895 859.833 M101.895 856.129 Q107.705 856.129 110.76 860.735 Q113.839 865.319 113.839 874.069 Q113.839 882.795 110.76 887.402 Q107.705 891.985 101.895 891.985 Q96.0845 891.985 93.0058 887.402 Q89.9503 882.795 89.9503 874.069 Q89.9503 865.319 93.0058 860.735 Q96.0845 856.129 101.895 856.129 Z\" fill=\"#000000\" fill-rule=\"evenodd\" fill-opacity=\"1\" /><path clip-path=\"url(#clip610)\" d=\"M122.057 885.434 L126.941 885.434 L126.941 891.314 L122.057 891.314 L122.057 885.434 Z\" fill=\"#000000\" fill-rule=\"evenodd\" fill-opacity=\"1\" /><path clip-path=\"url(#clip610)\" d=\"M151.293 872.68 Q154.649 873.397 156.524 875.666 Q158.422 877.934 158.422 881.268 Q158.422 886.383 154.904 889.184 Q151.385 891.985 144.904 891.985 Q142.728 891.985 140.413 891.545 Q138.121 891.129 135.668 890.272 L135.668 885.758 Q137.612 886.893 139.927 887.471 Q142.242 888.05 144.765 888.05 Q149.163 888.05 151.455 886.314 Q153.769 884.578 153.769 881.268 Q153.769 878.212 151.617 876.499 Q149.487 874.763 145.668 874.763 L141.64 874.763 L141.64 870.921 L145.853 870.921 Q149.302 870.921 151.13 869.555 Q152.959 868.166 152.959 865.573 Q152.959 862.911 151.061 861.499 Q149.186 860.064 145.668 860.064 Q143.746 860.064 141.547 860.481 Q139.348 860.897 136.709 861.777 L136.709 857.61 Q139.371 856.87 141.686 856.499 Q144.024 856.129 146.084 856.129 Q151.408 856.129 154.51 858.559 Q157.612 860.967 157.612 865.087 Q157.612 867.958 155.968 869.948 Q154.325 871.916 151.293 872.68 Z\" fill=\"#000000\" fill-rule=\"evenodd\" fill-opacity=\"1\" /><path clip-path=\"url(#clip610)\" d=\"M53.0754 639.16 L82.7512 639.16 L82.7512 643.095 L53.0754 643.095 L53.0754 639.16 Z\" fill=\"#000000\" fill-rule=\"evenodd\" fill-opacity=\"1\" /><path clip-path=\"url(#clip610)\" d=\"M102.844 624.507 Q99.2326 624.507 97.4039 628.072 Q95.5984 631.613 95.5984 638.743 Q95.5984 645.849 97.4039 649.414 Q99.2326 652.956 102.844 652.956 Q106.478 652.956 108.283 649.414 Q110.112 645.849 110.112 638.743 Q110.112 631.613 108.283 628.072 Q106.478 624.507 102.844 624.507 M102.844 620.803 Q108.654 620.803 111.709 625.41 Q114.788 629.993 114.788 638.743 Q114.788 647.47 111.709 652.076 Q108.654 656.66 102.844 656.66 Q97.0335 656.66 93.9549 652.076 Q90.8993 647.47 90.8993 638.743 Q90.8993 629.993 93.9549 625.41 Q97.0335 620.803 102.844 620.803 Z\" fill=\"#000000\" fill-rule=\"evenodd\" fill-opacity=\"1\" /><path clip-path=\"url(#clip610)\" d=\"M123.006 650.109 L127.89 650.109 L127.89 655.988 L123.006 655.988 L123.006 650.109 Z\" fill=\"#000000\" fill-rule=\"evenodd\" fill-opacity=\"1\" /><path clip-path=\"url(#clip610)\" d=\"M142.103 652.053 L158.422 652.053 L158.422 655.988 L136.478 655.988 L136.478 652.053 Q139.14 649.298 143.723 644.669 Q148.33 640.016 149.51 638.674 Q151.755 636.15 152.635 634.414 Q153.538 632.655 153.538 630.965 Q153.538 628.211 151.593 626.475 Q149.672 624.738 146.57 624.738 Q144.371 624.738 141.918 625.502 Q139.487 626.266 136.709 627.817 L136.709 623.095 Q139.533 621.961 141.987 621.382 Q144.441 620.803 146.478 620.803 Q151.848 620.803 155.042 623.488 Q158.237 626.174 158.237 630.664 Q158.237 632.794 157.427 634.715 Q156.64 636.613 154.533 639.206 Q153.955 639.877 150.853 643.095 Q147.751 646.289 142.103 652.053 Z\" fill=\"#000000\" fill-rule=\"evenodd\" fill-opacity=\"1\" /><path clip-path=\"url(#clip610)\" d=\"M52.7051 403.834 L82.3808 403.834 L82.3808 407.769 L52.7051 407.769 L52.7051 403.834 Z\" fill=\"#000000\" fill-rule=\"evenodd\" fill-opacity=\"1\" /><path clip-path=\"url(#clip610)\" d=\"M102.473 389.181 Q98.8622 389.181 97.0335 392.746 Q95.228 396.288 95.228 403.417 Q95.228 410.524 97.0335 414.089 Q98.8622 417.63 102.473 417.63 Q106.108 417.63 107.913 414.089 Q109.742 410.524 109.742 403.417 Q109.742 396.288 107.913 392.746 Q106.108 389.181 102.473 389.181 M102.473 385.478 Q108.283 385.478 111.339 390.084 Q114.418 394.667 114.418 403.417 Q114.418 412.144 111.339 416.751 Q108.283 421.334 102.473 421.334 Q96.6632 421.334 93.5845 416.751 Q90.529 412.144 90.529 403.417 Q90.529 394.667 93.5845 390.084 Q96.6632 385.478 102.473 385.478 Z\" fill=\"#000000\" fill-rule=\"evenodd\" fill-opacity=\"1\" /><path clip-path=\"url(#clip610)\" d=\"M122.635 414.783 L127.519 414.783 L127.519 420.663 L122.635 420.663 L122.635 414.783 Z\" fill=\"#000000\" fill-rule=\"evenodd\" fill-opacity=\"1\" /><path clip-path=\"url(#clip610)\" d=\"M138.515 416.727 L146.154 416.727 L146.154 390.362 L137.844 392.028 L137.844 387.769 L146.107 386.103 L150.783 386.103 L150.783 416.727 L158.422 416.727 L158.422 420.663 L138.515 420.663 L138.515 416.727 Z\" fill=\"#000000\" fill-rule=\"evenodd\" fill-opacity=\"1\" /><path clip-path=\"url(#clip610)\" d=\"M101.246 153.856 Q97.6354 153.856 95.8067 157.42 Q94.0012 160.962 94.0012 168.092 Q94.0012 175.198 95.8067 178.763 Q97.6354 182.305 101.246 182.305 Q104.881 182.305 106.686 178.763 Q108.515 175.198 108.515 168.092 Q108.515 160.962 106.686 157.42 Q104.881 153.856 101.246 153.856 M101.246 150.152 Q107.057 150.152 110.112 154.758 Q113.191 159.342 113.191 168.092 Q113.191 176.818 110.112 181.425 Q107.057 186.008 101.246 186.008 Q95.4363 186.008 92.3576 181.425 Q89.3021 176.818 89.3021 168.092 Q89.3021 159.342 92.3576 154.758 Q95.4363 150.152 101.246 150.152 Z\" fill=\"#000000\" fill-rule=\"evenodd\" fill-opacity=\"1\" /><path clip-path=\"url(#clip610)\" d=\"M121.408 179.457 L126.293 179.457 L126.293 185.337 L121.408 185.337 L121.408 179.457 Z\" fill=\"#000000\" fill-rule=\"evenodd\" fill-opacity=\"1\" /><path clip-path=\"url(#clip610)\" d=\"M146.478 153.856 Q142.867 153.856 141.038 157.42 Q139.232 160.962 139.232 168.092 Q139.232 175.198 141.038 178.763 Q142.867 182.305 146.478 182.305 Q150.112 182.305 151.918 178.763 Q153.746 175.198 153.746 168.092 Q153.746 160.962 151.918 157.42 Q150.112 153.856 146.478 153.856 M146.478 150.152 Q152.288 150.152 155.343 154.758 Q158.422 159.342 158.422 168.092 Q158.422 176.818 155.343 181.425 Q152.288 186.008 146.478 186.008 Q140.668 186.008 137.589 181.425 Q134.533 176.818 134.533 168.092 Q134.533 159.342 137.589 154.758 Q140.668 150.152 146.478 150.152 Z\" fill=\"#000000\" fill-rule=\"evenodd\" fill-opacity=\"1\" /><polyline clip-path=\"url(#clip612)\" style=\"stroke:#009af9; stroke-linecap:round; stroke-linejoin:round; stroke-width:4; stroke-opacity:1; fill:none\" points=\"\n",
       "  255.507,168.988 255.507,167.739 256.02,164.195 261.751,170.644 257.123,199.518 275.161,161.325 284.648,86.1857 609.888,268.065 422.943,1384.24 2291.67,167.445 \n",
       "  \n",
       "  \"/>\n",
       "<path clip-path=\"url(#clip610)\" d=\"\n",
       "M2012.55 1377.32 L2280.81 1377.32 L2280.81 1273.64 L2012.55 1273.64  Z\n",
       "  \" fill=\"#ffffff\" fill-rule=\"evenodd\" fill-opacity=\"1\"/>\n",
       "<polyline clip-path=\"url(#clip610)\" style=\"stroke:#000000; stroke-linecap:round; stroke-linejoin:round; stroke-width:4; stroke-opacity:1; fill:none\" points=\"\n",
       "  2012.55,1377.32 2280.81,1377.32 2280.81,1273.64 2012.55,1273.64 2012.55,1377.32 \n",
       "  \"/>\n",
       "<polyline clip-path=\"url(#clip610)\" style=\"stroke:#009af9; stroke-linecap:round; stroke-linejoin:round; stroke-width:4; stroke-opacity:1; fill:none\" points=\"\n",
       "  2036.53,1325.48 2180.42,1325.48 \n",
       "  \"/>\n",
       "<path clip-path=\"url(#clip610)\" d=\"M2218.24 1345.16 Q2216.44 1349.79 2214.72 1351.2 Q2213.01 1352.62 2210.14 1352.62 L2206.74 1352.62 L2206.74 1349.05 L2209.24 1349.05 Q2211 1349.05 2211.97 1348.22 Q2212.94 1347.38 2214.12 1344.28 L2214.89 1342.34 L2204.4 1316.83 L2208.91 1316.83 L2217.02 1337.11 L2225.12 1316.83 L2229.63 1316.83 L2218.24 1345.16 Z\" fill=\"#000000\" fill-rule=\"evenodd\" fill-opacity=\"1\" /><path clip-path=\"url(#clip610)\" d=\"M2236.92 1338.82 L2244.56 1338.82 L2244.56 1312.45 L2236.25 1314.12 L2236.25 1309.86 L2244.52 1308.2 L2249.19 1308.2 L2249.19 1338.82 L2256.83 1338.82 L2256.83 1342.76 L2236.92 1342.76 L2236.92 1338.82 Z\" fill=\"#000000\" fill-rule=\"evenodd\" fill-opacity=\"1\" /></svg>\n"
      ]
     },
     "execution_count": 54,
     "metadata": {},
     "output_type": "execute_result"
    }
   ],
   "source": [
    "plot(halo_linear[1,:], halo_linear[2,:], xlabel = \"x\")"
   ]
  },
  {
   "cell_type": "code",
   "execution_count": 55,
   "id": "9580630a",
   "metadata": {},
   "outputs": [
    {
     "data": {
      "text/plain": [
       "7×50 Matrix{Float64}:\n",
       "  0.838565      0.838052      0.837416     …   0.838903      0.838565\n",
       " -0.00484572   -0.00644152   -0.00731793      -0.00270695   -0.00484572\n",
       "  2.12471e-21   2.29938e-21   2.22954e-21      1.72263e-21   2.12471e-21\n",
       " -0.00301604   -0.00407265   -0.00471268      -0.00166674   -0.00301604\n",
       " -0.0132601    -0.00877548   -0.0033289       -0.0162701    -0.0132601\n",
       "  2.04515e-21   3.69612e-22  -1.33184e-21  …   3.51155e-21   2.04515e-21\n",
       "  0.143492      0.143492      0.143492         0.143492      0.0625027"
      ]
     },
     "execution_count": 55,
     "metadata": {},
     "output_type": "execute_result"
    }
   ],
   "source": [
    "using DelimitedFiles\n",
    "ztraj = (readdlm(\"halo.txt\", '\\t', Float64, '\\n'))"
   ]
  },
  {
   "cell_type": "code",
   "execution_count": 56,
   "id": "d3c92031",
   "metadata": {},
   "outputs": [
    {
     "data": {
      "image/svg+xml": [
       "<?xml version=\"1.0\" encoding=\"utf-8\"?>\n",
       "<svg xmlns=\"http://www.w3.org/2000/svg\" xmlns:xlink=\"http://www.w3.org/1999/xlink\" width=\"600\" height=\"400\" viewBox=\"0 0 2400 1600\">\n",
       "<defs>\n",
       "  <clipPath id=\"clip650\">\n",
       "    <rect x=\"0\" y=\"0\" width=\"2400\" height=\"1600\"/>\n",
       "  </clipPath>\n",
       "</defs>\n",
       "<path clip-path=\"url(#clip650)\" d=\"\n",
       "M0 1600 L2400 1600 L2400 0 L0 0  Z\n",
       "  \" fill=\"#ffffff\" fill-rule=\"evenodd\" fill-opacity=\"1\"/>\n",
       "<defs>\n",
       "  <clipPath id=\"clip651\">\n",
       "    <rect x=\"480\" y=\"0\" width=\"1681\" height=\"1600\"/>\n",
       "  </clipPath>\n",
       "</defs>\n",
       "<defs>\n",
       "  <clipPath id=\"clip652\">\n",
       "    <rect x=\"578\" y=\"47\" width=\"1775\" height=\"1440\"/>\n",
       "  </clipPath>\n",
       "</defs>\n",
       "<path clip-path=\"url(#clip652)\" d=\"\n",
       "M-595286 56200.4 L-595286 -35319.4 L-406015 -81079.4 L-78188.4 -54659.9 L-78188.4 36860 L-267459 82620 L-595286 56200.4  Z\n",
       "  \" fill=\"#ffffff\" fill-rule=\"evenodd\" fill-opacity=\"1\"/>\n",
       "<polyline clip-path=\"url(#clip652)\" style=\"stroke:#000000; stroke-linecap:round; stroke-linejoin:round; stroke-width:2; stroke-opacity:0.1; fill:none\" points=\"\n",
       "  936.955,1213.86 1352.42,854.06 1352.42,134.458 \n",
       "  \"/>\n",
       "<polyline clip-path=\"url(#clip652)\" style=\"stroke:#000000; stroke-linecap:round; stroke-linejoin:round; stroke-width:2; stroke-opacity:0.1; fill:none\" points=\"\n",
       "  1100.87,1261.18 1516.33,901.378 1516.33,181.776 \n",
       "  \"/>\n",
       "<polyline clip-path=\"url(#clip652)\" style=\"stroke:#000000; stroke-linecap:round; stroke-linejoin:round; stroke-width:2; stroke-opacity:0.1; fill:none\" points=\"\n",
       "  1264.78,1308.5 1680.24,948.696 1680.24,229.094 \n",
       "  \"/>\n",
       "<polyline clip-path=\"url(#clip652)\" style=\"stroke:#000000; stroke-linecap:round; stroke-linejoin:round; stroke-width:2; stroke-opacity:0.1; fill:none\" points=\"\n",
       "  1428.7,1355.81 1844.16,996.013 1844.16,276.412 \n",
       "  \"/>\n",
       "<polyline clip-path=\"url(#clip652)\" style=\"stroke:#000000; stroke-linecap:round; stroke-linejoin:round; stroke-width:2; stroke-opacity:0.1; fill:none\" points=\"\n",
       "  1592.61,1403.13 2008.07,1043.33 2008.07,323.729 \n",
       "  \"/>\n",
       "<polyline clip-path=\"url(#clip650)\" style=\"stroke:#000000; stroke-linecap:round; stroke-linejoin:round; stroke-width:4; stroke-opacity:1; fill:none\" points=\"\n",
       "  898.229,1202.68 1617.83,1410.41 \n",
       "  \"/>\n",
       "<polyline clip-path=\"url(#clip650)\" style=\"stroke:#000000; stroke-linecap:round; stroke-linejoin:round; stroke-width:4; stroke-opacity:1; fill:none\" points=\"\n",
       "  936.955,1213.86 941.941,1209.54 \n",
       "  \"/>\n",
       "<polyline clip-path=\"url(#clip650)\" style=\"stroke:#000000; stroke-linecap:round; stroke-linejoin:round; stroke-width:4; stroke-opacity:1; fill:none\" points=\"\n",
       "  1100.87,1261.18 1105.85,1256.86 \n",
       "  \"/>\n",
       "<polyline clip-path=\"url(#clip650)\" style=\"stroke:#000000; stroke-linecap:round; stroke-linejoin:round; stroke-width:4; stroke-opacity:1; fill:none\" points=\"\n",
       "  1264.78,1308.5 1269.77,1304.18 \n",
       "  \"/>\n",
       "<polyline clip-path=\"url(#clip650)\" style=\"stroke:#000000; stroke-linecap:round; stroke-linejoin:round; stroke-width:4; stroke-opacity:1; fill:none\" points=\"\n",
       "  1428.7,1355.81 1433.68,1351.5 \n",
       "  \"/>\n",
       "<polyline clip-path=\"url(#clip650)\" style=\"stroke:#000000; stroke-linecap:round; stroke-linejoin:round; stroke-width:4; stroke-opacity:1; fill:none\" points=\"\n",
       "  1592.61,1403.13 1597.59,1398.81 \n",
       "  \"/>\n",
       "<path clip-path=\"url(#clip650)\" d=\"M818.138 1228.37 Q814.527 1228.37 812.698 1231.93 Q810.893 1235.47 810.893 1242.6 Q810.893 1249.71 812.698 1253.27 Q814.527 1256.82 818.138 1256.82 Q821.772 1256.82 823.578 1253.27 Q825.406 1249.71 825.406 1242.6 Q825.406 1235.47 823.578 1231.93 Q821.772 1228.37 818.138 1228.37 M818.138 1224.66 Q823.948 1224.66 827.004 1229.27 Q830.082 1233.85 830.082 1242.6 Q830.082 1251.33 827.004 1255.94 Q823.948 1260.52 818.138 1260.52 Q812.328 1260.52 809.249 1255.94 Q806.193 1251.33 806.193 1242.6 Q806.193 1233.85 809.249 1229.27 Q812.328 1224.66 818.138 1224.66 Z\" fill=\"#000000\" fill-rule=\"evenodd\" fill-opacity=\"1\" /><path clip-path=\"url(#clip650)\" d=\"M838.3 1253.97 L843.184 1253.97 L843.184 1259.85 L838.3 1259.85 L838.3 1253.97 Z\" fill=\"#000000\" fill-rule=\"evenodd\" fill-opacity=\"1\" /><path clip-path=\"url(#clip650)\" d=\"M863.369 1243.44 Q860.036 1243.44 858.114 1245.22 Q856.216 1247 856.216 1250.13 Q856.216 1253.25 858.114 1255.03 Q860.036 1256.82 863.369 1256.82 Q866.702 1256.82 868.624 1255.03 Q870.545 1253.23 870.545 1250.13 Q870.545 1247 868.624 1245.22 Q866.726 1243.44 863.369 1243.44 M858.693 1241.45 Q855.684 1240.7 853.994 1238.64 Q852.327 1236.58 852.327 1233.62 Q852.327 1229.48 855.267 1227.07 Q858.23 1224.66 863.369 1224.66 Q868.531 1224.66 871.471 1227.07 Q874.411 1229.48 874.411 1233.62 Q874.411 1236.58 872.721 1238.64 Q871.054 1240.7 868.068 1241.45 Q871.448 1242.23 873.323 1244.52 Q875.221 1246.82 875.221 1250.13 Q875.221 1255.15 872.142 1257.83 Q869.087 1260.52 863.369 1260.52 Q857.652 1260.52 854.573 1257.83 Q851.517 1255.15 851.517 1250.13 Q851.517 1246.82 853.415 1244.52 Q855.314 1242.23 858.693 1241.45 M856.98 1234.06 Q856.98 1236.75 858.647 1238.25 Q860.337 1239.76 863.369 1239.76 Q866.378 1239.76 868.068 1238.25 Q869.781 1236.75 869.781 1234.06 Q869.781 1231.38 868.068 1229.87 Q866.378 1228.37 863.369 1228.37 Q860.337 1228.37 858.647 1229.87 Q856.98 1231.38 856.98 1234.06 Z\" fill=\"#000000\" fill-rule=\"evenodd\" fill-opacity=\"1\" /><path clip-path=\"url(#clip650)\" d=\"M897.698 1241.21 Q901.054 1241.93 902.929 1244.2 Q904.827 1246.47 904.827 1249.8 Q904.827 1254.92 901.309 1257.72 Q897.79 1260.52 891.309 1260.52 Q889.133 1260.52 886.818 1260.08 Q884.526 1259.66 882.073 1258.81 L882.073 1254.29 Q884.017 1255.43 886.332 1256.01 Q888.647 1256.58 891.17 1256.58 Q895.568 1256.58 897.86 1254.85 Q900.174 1253.11 900.174 1249.8 Q900.174 1246.75 898.022 1245.03 Q895.892 1243.3 892.073 1243.3 L888.045 1243.3 L888.045 1239.45 L892.258 1239.45 Q895.707 1239.45 897.536 1238.09 Q899.364 1236.7 899.364 1234.11 Q899.364 1231.45 897.466 1230.03 Q895.591 1228.6 892.073 1228.6 Q890.151 1228.6 887.952 1229.01 Q885.753 1229.43 883.114 1230.31 L883.114 1226.14 Q885.776 1225.4 888.091 1225.03 Q890.429 1224.66 892.489 1224.66 Q897.813 1224.66 900.915 1227.09 Q904.017 1229.5 904.017 1233.62 Q904.017 1236.49 902.374 1238.48 Q900.73 1240.45 897.698 1241.21 Z\" fill=\"#000000\" fill-rule=\"evenodd\" fill-opacity=\"1\" /><path clip-path=\"url(#clip650)\" d=\"M913.739 1225.29 L932.096 1225.29 L932.096 1229.22 L918.022 1229.22 L918.022 1237.7 Q919.04 1237.35 920.059 1237.19 Q921.077 1237 922.096 1237 Q927.883 1237 931.262 1240.17 Q934.642 1243.34 934.642 1248.76 Q934.642 1254.34 931.17 1257.44 Q927.697 1260.52 921.378 1260.52 Q919.202 1260.52 916.934 1260.15 Q914.688 1259.78 912.281 1259.04 L912.281 1254.34 Q914.364 1255.47 916.586 1256.03 Q918.809 1256.58 921.285 1256.58 Q925.29 1256.58 927.628 1254.48 Q929.966 1252.37 929.966 1248.76 Q929.966 1245.15 927.628 1243.04 Q925.29 1240.94 921.285 1240.94 Q919.41 1240.94 917.535 1241.35 Q915.684 1241.77 913.739 1242.65 L913.739 1225.29 Z\" fill=\"#000000\" fill-rule=\"evenodd\" fill-opacity=\"1\" /><path clip-path=\"url(#clip650)\" d=\"M980.894 1275.68 Q977.283 1275.68 975.454 1279.25 Q973.649 1282.79 973.649 1289.92 Q973.649 1297.03 975.454 1300.59 Q977.283 1304.13 980.894 1304.13 Q984.528 1304.13 986.334 1300.59 Q988.162 1297.03 988.162 1289.92 Q988.162 1282.79 986.334 1279.25 Q984.528 1275.68 980.894 1275.68 M980.894 1271.98 Q986.704 1271.98 989.76 1276.59 Q992.838 1281.17 992.838 1289.92 Q992.838 1298.65 989.76 1303.25 Q986.704 1307.84 980.894 1307.84 Q975.084 1307.84 972.005 1303.25 Q968.95 1298.65 968.95 1289.92 Q968.95 1281.17 972.005 1276.59 Q975.084 1271.98 980.894 1271.98 Z\" fill=\"#000000\" fill-rule=\"evenodd\" fill-opacity=\"1\" /><path clip-path=\"url(#clip650)\" d=\"M1001.06 1301.29 L1005.94 1301.29 L1005.94 1307.17 L1001.06 1307.17 L1001.06 1301.29 Z\" fill=\"#000000\" fill-rule=\"evenodd\" fill-opacity=\"1\" /><path clip-path=\"url(#clip650)\" d=\"M1026.13 1290.75 Q1022.79 1290.75 1020.87 1292.54 Q1018.97 1294.32 1018.97 1297.44 Q1018.97 1300.57 1020.87 1302.35 Q1022.79 1304.13 1026.13 1304.13 Q1029.46 1304.13 1031.38 1302.35 Q1033.3 1300.55 1033.3 1297.44 Q1033.3 1294.32 1031.38 1292.54 Q1029.48 1290.75 1026.13 1290.75 M1021.45 1288.76 Q1018.44 1288.02 1016.75 1285.96 Q1015.08 1283.9 1015.08 1280.94 Q1015.08 1276.8 1018.02 1274.39 Q1020.99 1271.98 1026.13 1271.98 Q1031.29 1271.98 1034.23 1274.39 Q1037.17 1276.8 1037.17 1280.94 Q1037.17 1283.9 1035.48 1285.96 Q1033.81 1288.02 1030.82 1288.76 Q1034.2 1289.55 1036.08 1291.84 Q1037.98 1294.13 1037.98 1297.44 Q1037.98 1302.47 1034.9 1305.15 Q1031.84 1307.84 1026.13 1307.84 Q1020.41 1307.84 1017.33 1305.15 Q1014.27 1302.47 1014.27 1297.44 Q1014.27 1294.13 1016.17 1291.84 Q1018.07 1289.55 1021.45 1288.76 M1019.74 1281.38 Q1019.74 1284.06 1021.4 1285.57 Q1023.09 1287.07 1026.13 1287.07 Q1029.13 1287.07 1030.82 1285.57 Q1032.54 1284.06 1032.54 1281.38 Q1032.54 1278.69 1030.82 1277.19 Q1029.13 1275.68 1026.13 1275.68 Q1023.09 1275.68 1021.4 1277.19 Q1019.74 1278.69 1019.74 1281.38 Z\" fill=\"#000000\" fill-rule=\"evenodd\" fill-opacity=\"1\" /><path clip-path=\"url(#clip650)\" d=\"M1060.45 1288.53 Q1063.81 1289.25 1065.69 1291.52 Q1067.58 1293.79 1067.58 1297.12 Q1067.58 1302.24 1064.06 1305.04 Q1060.55 1307.84 1054.06 1307.84 Q1051.89 1307.84 1049.57 1307.4 Q1047.28 1306.98 1044.83 1306.12 L1044.83 1301.61 Q1046.77 1302.74 1049.09 1303.32 Q1051.4 1303.9 1053.93 1303.9 Q1058.32 1303.9 1060.62 1302.17 Q1062.93 1300.43 1062.93 1297.12 Q1062.93 1294.06 1060.78 1292.35 Q1058.65 1290.62 1054.83 1290.62 L1050.8 1290.62 L1050.8 1286.77 L1055.01 1286.77 Q1058.46 1286.77 1060.29 1285.41 Q1062.12 1284.02 1062.12 1281.43 Q1062.12 1278.76 1060.22 1277.35 Q1058.35 1275.92 1054.83 1275.92 Q1052.91 1275.92 1050.71 1276.33 Q1048.51 1276.75 1045.87 1277.63 L1045.87 1273.46 Q1048.53 1272.72 1050.85 1272.35 Q1053.19 1271.98 1055.25 1271.98 Q1060.57 1271.98 1063.67 1274.41 Q1066.77 1276.82 1066.77 1280.94 Q1066.77 1283.81 1065.13 1285.8 Q1063.49 1287.77 1060.45 1288.53 Z\" fill=\"#000000\" fill-rule=\"evenodd\" fill-opacity=\"1\" /><path clip-path=\"url(#clip650)\" d=\"M1087.03 1288.02 Q1083.88 1288.02 1082.03 1290.18 Q1080.2 1292.33 1080.2 1296.08 Q1080.2 1299.8 1082.03 1301.98 Q1083.88 1304.13 1087.03 1304.13 Q1090.18 1304.13 1092 1301.98 Q1093.86 1299.8 1093.86 1296.08 Q1093.86 1292.33 1092 1290.18 Q1090.18 1288.02 1087.03 1288.02 M1096.31 1273.37 L1096.31 1277.63 Q1094.55 1276.8 1092.75 1276.36 Q1090.96 1275.92 1089.2 1275.92 Q1084.57 1275.92 1082.12 1279.04 Q1079.69 1282.17 1079.34 1288.49 Q1080.71 1286.47 1082.77 1285.41 Q1084.83 1284.32 1087.31 1284.32 Q1092.51 1284.32 1095.52 1287.49 Q1098.56 1290.64 1098.56 1296.08 Q1098.56 1301.4 1095.41 1304.62 Q1092.26 1307.84 1087.03 1307.84 Q1081.03 1307.84 1077.86 1303.25 Q1074.69 1298.65 1074.69 1289.92 Q1074.69 1281.73 1078.58 1276.87 Q1082.47 1271.98 1089.02 1271.98 Q1090.78 1271.98 1092.56 1272.33 Q1094.37 1272.68 1096.31 1273.37 Z\" fill=\"#000000\" fill-rule=\"evenodd\" fill-opacity=\"1\" /><path clip-path=\"url(#clip650)\" d=\"M1145.87 1323 Q1142.26 1323 1140.43 1326.57 Q1138.63 1330.11 1138.63 1337.24 Q1138.63 1344.34 1140.43 1347.91 Q1142.26 1351.45 1145.87 1351.45 Q1149.51 1351.45 1151.31 1347.91 Q1153.14 1344.34 1153.14 1337.24 Q1153.14 1330.11 1151.31 1326.57 Q1149.51 1323 1145.87 1323 M1145.87 1319.3 Q1151.68 1319.3 1154.74 1323.91 Q1157.82 1328.49 1157.82 1337.24 Q1157.82 1345.97 1154.74 1350.57 Q1151.68 1355.15 1145.87 1355.15 Q1140.06 1355.15 1136.98 1350.57 Q1133.93 1345.97 1133.93 1337.24 Q1133.93 1328.49 1136.98 1323.91 Q1140.06 1319.3 1145.87 1319.3 Z\" fill=\"#000000\" fill-rule=\"evenodd\" fill-opacity=\"1\" /><path clip-path=\"url(#clip650)\" d=\"M1166.03 1348.6 L1170.92 1348.6 L1170.92 1354.48 L1166.03 1354.48 L1166.03 1348.6 Z\" fill=\"#000000\" fill-rule=\"evenodd\" fill-opacity=\"1\" /><path clip-path=\"url(#clip650)\" d=\"M1191.1 1338.07 Q1187.77 1338.07 1185.85 1339.85 Q1183.95 1341.64 1183.95 1344.76 Q1183.95 1347.89 1185.85 1349.67 Q1187.77 1351.45 1191.1 1351.45 Q1194.44 1351.45 1196.36 1349.67 Q1198.28 1347.86 1198.28 1344.76 Q1198.28 1341.64 1196.36 1339.85 Q1194.46 1338.07 1191.1 1338.07 M1186.43 1336.08 Q1183.42 1335.34 1181.73 1333.28 Q1180.06 1331.22 1180.06 1328.26 Q1180.06 1324.11 1183 1321.71 Q1185.96 1319.3 1191.1 1319.3 Q1196.27 1319.3 1199.21 1321.71 Q1202.15 1324.11 1202.15 1328.26 Q1202.15 1331.22 1200.46 1333.28 Q1198.79 1335.34 1195.8 1336.08 Q1199.18 1336.87 1201.06 1339.16 Q1202.96 1341.45 1202.96 1344.76 Q1202.96 1349.78 1199.88 1352.47 Q1196.82 1355.15 1191.1 1355.15 Q1185.39 1355.15 1182.31 1352.47 Q1179.25 1349.78 1179.25 1344.76 Q1179.25 1341.45 1181.15 1339.16 Q1183.05 1336.87 1186.43 1336.08 M1184.71 1328.7 Q1184.71 1331.38 1186.38 1332.89 Q1188.07 1334.39 1191.1 1334.39 Q1194.11 1334.39 1195.8 1332.89 Q1197.52 1331.38 1197.52 1328.7 Q1197.52 1326.01 1195.8 1324.51 Q1194.11 1323 1191.1 1323 Q1188.07 1323 1186.38 1324.51 Q1184.71 1326.01 1184.71 1328.7 Z\" fill=\"#000000\" fill-rule=\"evenodd\" fill-opacity=\"1\" /><path clip-path=\"url(#clip650)\" d=\"M1225.43 1335.85 Q1228.79 1336.57 1230.66 1338.84 Q1232.56 1341.1 1232.56 1344.44 Q1232.56 1349.55 1229.04 1352.35 Q1225.52 1355.15 1219.04 1355.15 Q1216.87 1355.15 1214.55 1354.72 Q1212.26 1354.3 1209.81 1353.44 L1209.81 1348.93 Q1211.75 1350.06 1214.07 1350.64 Q1216.38 1351.22 1218.9 1351.22 Q1223.3 1351.22 1225.59 1349.48 Q1227.91 1347.75 1227.91 1344.44 Q1227.91 1341.38 1225.76 1339.67 Q1223.63 1337.93 1219.81 1337.93 L1215.78 1337.93 L1215.78 1334.09 L1219.99 1334.09 Q1223.44 1334.09 1225.27 1332.72 Q1227.1 1331.34 1227.1 1328.74 Q1227.1 1326.08 1225.2 1324.67 Q1223.33 1323.23 1219.81 1323.23 Q1217.89 1323.23 1215.69 1323.65 Q1213.49 1324.07 1210.85 1324.95 L1210.85 1320.78 Q1213.51 1320.04 1215.83 1319.67 Q1218.16 1319.3 1220.22 1319.3 Q1225.55 1319.3 1228.65 1321.73 Q1231.75 1324.14 1231.75 1328.26 Q1231.75 1331.13 1230.11 1333.12 Q1228.46 1335.09 1225.43 1335.85 Z\" fill=\"#000000\" fill-rule=\"evenodd\" fill-opacity=\"1\" /><path clip-path=\"url(#clip650)\" d=\"M1240.25 1319.92 L1262.47 1319.92 L1262.47 1321.91 L1249.92 1354.48 L1245.04 1354.48 L1256.84 1323.86 L1240.25 1323.86 L1240.25 1319.92 Z\" fill=\"#000000\" fill-rule=\"evenodd\" fill-opacity=\"1\" /><path clip-path=\"url(#clip650)\" d=\"M1308.98 1370.32 Q1305.36 1370.32 1303.54 1373.88 Q1301.73 1377.43 1301.73 1384.56 Q1301.73 1391.66 1303.54 1395.23 Q1305.36 1398.77 1308.98 1398.77 Q1312.61 1398.77 1314.42 1395.23 Q1316.24 1391.66 1316.24 1384.56 Q1316.24 1377.43 1314.42 1373.88 Q1312.61 1370.32 1308.98 1370.32 M1308.98 1366.62 Q1314.79 1366.62 1317.84 1371.22 Q1320.92 1375.81 1320.92 1384.56 Q1320.92 1393.28 1317.84 1397.89 Q1314.79 1402.47 1308.98 1402.47 Q1303.17 1402.47 1300.09 1397.89 Q1297.03 1393.28 1297.03 1384.56 Q1297.03 1375.81 1300.09 1371.22 Q1303.17 1366.62 1308.98 1366.62 Z\" fill=\"#000000\" fill-rule=\"evenodd\" fill-opacity=\"1\" /><path clip-path=\"url(#clip650)\" d=\"M1329.14 1395.92 L1334.02 1395.92 L1334.02 1401.8 L1329.14 1401.8 L1329.14 1395.92 Z\" fill=\"#000000\" fill-rule=\"evenodd\" fill-opacity=\"1\" /><path clip-path=\"url(#clip650)\" d=\"M1354.21 1385.39 Q1350.87 1385.39 1348.95 1387.17 Q1347.05 1388.95 1347.05 1392.08 Q1347.05 1395.2 1348.95 1396.99 Q1350.87 1398.77 1354.21 1398.77 Q1357.54 1398.77 1359.46 1396.99 Q1361.38 1395.18 1361.38 1392.08 Q1361.38 1388.95 1359.46 1387.17 Q1357.56 1385.39 1354.21 1385.39 M1349.53 1383.4 Q1346.52 1382.66 1344.83 1380.6 Q1343.17 1378.54 1343.17 1375.57 Q1343.17 1371.43 1346.1 1369.02 Q1349.07 1366.62 1354.21 1366.62 Q1359.37 1366.62 1362.31 1369.02 Q1365.25 1371.43 1365.25 1375.57 Q1365.25 1378.54 1363.56 1380.6 Q1361.89 1382.66 1358.91 1383.4 Q1362.29 1384.19 1364.16 1386.48 Q1366.06 1388.77 1366.06 1392.08 Q1366.06 1397.1 1362.98 1399.79 Q1359.92 1402.47 1354.21 1402.47 Q1348.49 1402.47 1345.41 1399.79 Q1342.35 1397.1 1342.35 1392.08 Q1342.35 1388.77 1344.25 1386.48 Q1346.15 1384.19 1349.53 1383.4 M1347.82 1376.01 Q1347.82 1378.7 1349.48 1380.2 Q1351.17 1381.71 1354.21 1381.71 Q1357.22 1381.71 1358.91 1380.2 Q1360.62 1378.7 1360.62 1376.01 Q1360.62 1373.33 1358.91 1371.82 Q1357.22 1370.32 1354.21 1370.32 Q1351.17 1370.32 1349.48 1371.82 Q1347.82 1373.33 1347.82 1376.01 Z\" fill=\"#000000\" fill-rule=\"evenodd\" fill-opacity=\"1\" /><path clip-path=\"url(#clip650)\" d=\"M1388.54 1383.17 Q1391.89 1383.88 1393.77 1386.15 Q1395.66 1388.42 1395.66 1391.76 Q1395.66 1396.87 1392.15 1399.67 Q1388.63 1402.47 1382.15 1402.47 Q1379.97 1402.47 1377.66 1402.03 Q1375.36 1401.62 1372.91 1400.76 L1372.91 1396.25 Q1374.85 1397.38 1377.17 1397.96 Q1379.48 1398.54 1382.01 1398.54 Q1386.41 1398.54 1388.7 1396.8 Q1391.01 1395.07 1391.01 1391.76 Q1391.01 1388.7 1388.86 1386.99 Q1386.73 1385.25 1382.91 1385.25 L1378.88 1385.25 L1378.88 1381.41 L1383.1 1381.41 Q1386.54 1381.41 1388.37 1380.04 Q1390.2 1378.65 1390.2 1376.06 Q1390.2 1373.4 1388.3 1371.99 Q1386.43 1370.55 1382.91 1370.55 Q1380.99 1370.55 1378.79 1370.97 Q1376.59 1371.38 1373.95 1372.26 L1373.95 1368.1 Q1376.61 1367.36 1378.93 1366.99 Q1381.27 1366.62 1383.33 1366.62 Q1388.65 1366.62 1391.75 1369.05 Q1394.85 1371.45 1394.85 1375.57 Q1394.85 1378.44 1393.21 1380.44 Q1391.57 1382.4 1388.54 1383.17 Z\" fill=\"#000000\" fill-rule=\"evenodd\" fill-opacity=\"1\" /><path clip-path=\"url(#clip650)\" d=\"M1414.53 1385.39 Q1411.2 1385.39 1409.28 1387.17 Q1407.38 1388.95 1407.38 1392.08 Q1407.38 1395.2 1409.28 1396.99 Q1411.2 1398.77 1414.53 1398.77 Q1417.86 1398.77 1419.79 1396.99 Q1421.71 1395.18 1421.71 1392.08 Q1421.71 1388.95 1419.79 1387.17 Q1417.89 1385.39 1414.53 1385.39 M1409.85 1383.4 Q1406.85 1382.66 1405.16 1380.6 Q1403.49 1378.54 1403.49 1375.57 Q1403.49 1371.43 1406.43 1369.02 Q1409.39 1366.62 1414.53 1366.62 Q1419.69 1366.62 1422.63 1369.02 Q1425.57 1371.43 1425.57 1375.57 Q1425.57 1378.54 1423.88 1380.6 Q1422.22 1382.66 1419.23 1383.4 Q1422.61 1384.19 1424.48 1386.48 Q1426.38 1388.77 1426.38 1392.08 Q1426.38 1397.1 1423.3 1399.79 Q1420.25 1402.47 1414.53 1402.47 Q1408.81 1402.47 1405.73 1399.79 Q1402.68 1397.1 1402.68 1392.08 Q1402.68 1388.77 1404.58 1386.48 Q1406.48 1384.19 1409.85 1383.4 M1408.14 1376.01 Q1408.14 1378.7 1409.81 1380.2 Q1411.5 1381.71 1414.53 1381.71 Q1417.54 1381.71 1419.23 1380.2 Q1420.94 1378.7 1420.94 1376.01 Q1420.94 1373.33 1419.23 1371.82 Q1417.54 1370.32 1414.53 1370.32 Q1411.5 1370.32 1409.81 1371.82 Q1408.14 1373.33 1408.14 1376.01 Z\" fill=\"#000000\" fill-rule=\"evenodd\" fill-opacity=\"1\" /><path clip-path=\"url(#clip650)\" d=\"M1472.98 1417.64 Q1469.37 1417.64 1467.54 1421.2 Q1465.74 1424.74 1465.74 1431.87 Q1465.74 1438.98 1467.54 1442.55 Q1469.37 1446.09 1472.98 1446.09 Q1476.62 1446.09 1478.42 1442.55 Q1480.25 1438.98 1480.25 1431.87 Q1480.25 1424.74 1478.42 1421.2 Q1476.62 1417.64 1472.98 1417.64 M1472.98 1413.93 Q1478.79 1413.93 1481.85 1418.54 Q1484.93 1423.12 1484.93 1431.87 Q1484.93 1440.6 1481.85 1445.21 Q1478.79 1449.79 1472.98 1449.79 Q1467.17 1449.79 1464.09 1445.21 Q1461.04 1440.6 1461.04 1431.87 Q1461.04 1423.12 1464.09 1418.54 Q1467.17 1413.93 1472.98 1413.93 Z\" fill=\"#000000\" fill-rule=\"evenodd\" fill-opacity=\"1\" /><path clip-path=\"url(#clip650)\" d=\"M1493.14 1443.24 L1498.03 1443.24 L1498.03 1449.12 L1493.14 1449.12 L1493.14 1443.24 Z\" fill=\"#000000\" fill-rule=\"evenodd\" fill-opacity=\"1\" /><path clip-path=\"url(#clip650)\" d=\"M1518.21 1432.71 Q1514.88 1432.71 1512.96 1434.49 Q1511.06 1436.27 1511.06 1439.4 Q1511.06 1442.52 1512.96 1444.3 Q1514.88 1446.09 1518.21 1446.09 Q1521.55 1446.09 1523.47 1444.3 Q1525.39 1442.5 1525.39 1439.4 Q1525.39 1436.27 1523.47 1434.49 Q1521.57 1432.71 1518.21 1432.71 M1513.54 1430.72 Q1510.53 1429.98 1508.84 1427.92 Q1507.17 1425.86 1507.17 1422.89 Q1507.17 1418.75 1510.11 1416.34 Q1513.07 1413.93 1518.21 1413.93 Q1523.37 1413.93 1526.31 1416.34 Q1529.25 1418.75 1529.25 1422.89 Q1529.25 1425.86 1527.56 1427.92 Q1525.9 1429.98 1522.91 1430.72 Q1526.29 1431.5 1528.17 1433.8 Q1530.06 1436.09 1530.06 1439.4 Q1530.06 1444.42 1526.99 1447.11 Q1523.93 1449.79 1518.21 1449.79 Q1512.5 1449.79 1509.42 1447.11 Q1506.36 1444.42 1506.36 1439.4 Q1506.36 1436.09 1508.26 1433.8 Q1510.16 1431.5 1513.54 1430.72 M1511.82 1423.33 Q1511.82 1426.02 1513.49 1427.52 Q1515.18 1429.03 1518.21 1429.03 Q1521.22 1429.03 1522.91 1427.52 Q1524.62 1426.02 1524.62 1423.33 Q1524.62 1420.65 1522.91 1419.14 Q1521.22 1417.64 1518.21 1417.64 Q1515.18 1417.64 1513.49 1419.14 Q1511.82 1420.65 1511.82 1423.33 Z\" fill=\"#000000\" fill-rule=\"evenodd\" fill-opacity=\"1\" /><path clip-path=\"url(#clip650)\" d=\"M1552.54 1430.48 Q1555.9 1431.2 1557.77 1433.47 Q1559.67 1435.74 1559.67 1439.07 Q1559.67 1444.19 1556.15 1446.99 Q1552.63 1449.79 1546.15 1449.79 Q1543.98 1449.79 1541.66 1449.35 Q1539.37 1448.93 1536.92 1448.08 L1536.92 1443.56 Q1538.86 1444.7 1541.18 1445.28 Q1543.49 1445.86 1546.01 1445.86 Q1550.41 1445.86 1552.7 1444.12 Q1555.02 1442.38 1555.02 1439.07 Q1555.02 1436.02 1552.87 1434.3 Q1550.74 1432.57 1546.92 1432.57 L1542.89 1432.57 L1542.89 1428.73 L1547.1 1428.73 Q1550.55 1428.73 1552.38 1427.36 Q1554.21 1425.97 1554.21 1423.38 Q1554.21 1420.72 1552.31 1419.3 Q1550.43 1417.87 1546.92 1417.87 Q1545 1417.87 1542.8 1418.29 Q1540.6 1418.7 1537.96 1419.58 L1537.96 1415.42 Q1540.62 1414.67 1542.93 1414.3 Q1545.27 1413.93 1547.33 1413.93 Q1552.66 1413.93 1555.76 1416.36 Q1558.86 1418.77 1558.86 1422.89 Q1558.86 1425.76 1557.22 1427.75 Q1555.57 1429.72 1552.54 1430.48 Z\" fill=\"#000000\" fill-rule=\"evenodd\" fill-opacity=\"1\" /><path clip-path=\"url(#clip650)\" d=\"M1568.68 1448.4 L1568.68 1444.14 Q1570.43 1444.98 1572.24 1445.42 Q1574.05 1445.86 1575.78 1445.86 Q1580.41 1445.86 1582.84 1442.75 Q1585.3 1439.63 1585.64 1433.29 Q1584.3 1435.28 1582.24 1436.34 Q1580.18 1437.41 1577.68 1437.41 Q1572.49 1437.41 1569.46 1434.28 Q1566.45 1431.13 1566.45 1425.69 Q1566.45 1420.37 1569.6 1417.15 Q1572.75 1413.93 1577.98 1413.93 Q1583.98 1413.93 1587.12 1418.54 Q1590.3 1423.12 1590.3 1431.87 Q1590.3 1440.05 1586.41 1444.93 Q1582.54 1449.79 1575.99 1449.79 Q1574.23 1449.79 1572.43 1449.44 Q1570.62 1449.1 1568.68 1448.4 M1577.98 1433.75 Q1581.13 1433.75 1582.96 1431.6 Q1584.81 1429.44 1584.81 1425.69 Q1584.81 1421.97 1582.96 1419.81 Q1581.13 1417.64 1577.98 1417.64 Q1574.83 1417.64 1572.98 1419.81 Q1571.15 1421.97 1571.15 1425.69 Q1571.15 1429.44 1572.98 1431.6 Q1574.83 1433.75 1577.98 1433.75 Z\" fill=\"#000000\" fill-rule=\"evenodd\" fill-opacity=\"1\" /><polyline clip-path=\"url(#clip652)\" style=\"stroke:#000000; stroke-linecap:round; stroke-linejoin:round; stroke-width:2; stroke-opacity:0.1; fill:none\" points=\"\n",
       "  1666.05,1368.65 946.449,1160.92 946.449,441.32 \n",
       "  \"/>\n",
       "<polyline clip-path=\"url(#clip652)\" style=\"stroke:#000000; stroke-linecap:round; stroke-linejoin:round; stroke-width:2; stroke-opacity:0.1; fill:none\" points=\"\n",
       "  1718.89,1322.89 999.288,1115.16 999.288,395.56 \n",
       "  \"/>\n",
       "<polyline clip-path=\"url(#clip652)\" style=\"stroke:#000000; stroke-linecap:round; stroke-linejoin:round; stroke-width:2; stroke-opacity:0.1; fill:none\" points=\"\n",
       "  1771.73,1277.13 1052.13,1069.4 1052.13,349.8 \n",
       "  \"/>\n",
       "<polyline clip-path=\"url(#clip652)\" style=\"stroke:#000000; stroke-linecap:round; stroke-linejoin:round; stroke-width:2; stroke-opacity:0.1; fill:none\" points=\"\n",
       "  1824.57,1231.37 1104.97,1023.64 1104.97,304.04 \n",
       "  \"/>\n",
       "<polyline clip-path=\"url(#clip652)\" style=\"stroke:#000000; stroke-linecap:round; stroke-linejoin:round; stroke-width:2; stroke-opacity:0.1; fill:none\" points=\"\n",
       "  1877.41,1185.61 1157.81,977.882 1157.81,258.28 \n",
       "  \"/>\n",
       "<polyline clip-path=\"url(#clip652)\" style=\"stroke:#000000; stroke-linecap:round; stroke-linejoin:round; stroke-width:2; stroke-opacity:0.1; fill:none\" points=\"\n",
       "  1930.25,1139.85 1210.64,932.122 1210.64,212.52 \n",
       "  \"/>\n",
       "<polyline clip-path=\"url(#clip652)\" style=\"stroke:#000000; stroke-linecap:round; stroke-linejoin:round; stroke-width:2; stroke-opacity:0.1; fill:none\" points=\"\n",
       "  1983.09,1094.09 1263.48,886.362 1263.48,166.76 \n",
       "  \"/>\n",
       "<polyline clip-path=\"url(#clip650)\" style=\"stroke:#000000; stroke-linecap:round; stroke-linejoin:round; stroke-width:4; stroke-opacity:1; fill:none\" points=\"\n",
       "  1617.83,1410.41 2033.29,1050.61 \n",
       "  \"/>\n",
       "<polyline clip-path=\"url(#clip650)\" style=\"stroke:#000000; stroke-linecap:round; stroke-linejoin:round; stroke-width:4; stroke-opacity:1; fill:none\" points=\"\n",
       "  1666.05,1368.65 1657.42,1366.16 \n",
       "  \"/>\n",
       "<polyline clip-path=\"url(#clip650)\" style=\"stroke:#000000; stroke-linecap:round; stroke-linejoin:round; stroke-width:4; stroke-opacity:1; fill:none\" points=\"\n",
       "  1718.89,1322.89 1710.25,1320.4 \n",
       "  \"/>\n",
       "<polyline clip-path=\"url(#clip650)\" style=\"stroke:#000000; stroke-linecap:round; stroke-linejoin:round; stroke-width:4; stroke-opacity:1; fill:none\" points=\"\n",
       "  1771.73,1277.13 1763.09,1274.64 \n",
       "  \"/>\n",
       "<polyline clip-path=\"url(#clip650)\" style=\"stroke:#000000; stroke-linecap:round; stroke-linejoin:round; stroke-width:4; stroke-opacity:1; fill:none\" points=\"\n",
       "  1824.57,1231.37 1815.93,1228.88 \n",
       "  \"/>\n",
       "<polyline clip-path=\"url(#clip650)\" style=\"stroke:#000000; stroke-linecap:round; stroke-linejoin:round; stroke-width:4; stroke-opacity:1; fill:none\" points=\"\n",
       "  1877.41,1185.61 1868.77,1183.12 \n",
       "  \"/>\n",
       "<polyline clip-path=\"url(#clip650)\" style=\"stroke:#000000; stroke-linecap:round; stroke-linejoin:round; stroke-width:4; stroke-opacity:1; fill:none\" points=\"\n",
       "  1930.25,1139.85 1921.61,1137.36 \n",
       "  \"/>\n",
       "<polyline clip-path=\"url(#clip650)\" style=\"stroke:#000000; stroke-linecap:round; stroke-linejoin:round; stroke-width:4; stroke-opacity:1; fill:none\" points=\"\n",
       "  1983.09,1094.09 1974.45,1091.6 \n",
       "  \"/>\n",
       "<path clip-path=\"url(#clip650)\" d=\"M1672.82 1397.1 L1702.49 1397.1 L1702.49 1401.03 L1672.82 1401.03 L1672.82 1397.1 Z\" fill=\"#000000\" fill-rule=\"evenodd\" fill-opacity=\"1\" /><path clip-path=\"url(#clip650)\" d=\"M1722.59 1382.45 Q1718.98 1382.45 1717.15 1386.01 Q1715.34 1389.55 1715.34 1396.68 Q1715.34 1403.79 1717.15 1407.35 Q1718.98 1410.89 1722.59 1410.89 Q1726.22 1410.89 1728.03 1407.35 Q1729.86 1403.79 1729.86 1396.68 Q1729.86 1389.55 1728.03 1386.01 Q1726.22 1382.45 1722.59 1382.45 M1722.59 1378.74 Q1728.4 1378.74 1731.45 1383.35 Q1734.53 1387.93 1734.53 1396.68 Q1734.53 1405.41 1731.45 1410.01 Q1728.4 1414.6 1722.59 1414.6 Q1716.78 1414.6 1713.7 1410.01 Q1710.64 1405.41 1710.64 1396.68 Q1710.64 1387.93 1713.7 1383.35 Q1716.78 1378.74 1722.59 1378.74 Z\" fill=\"#000000\" fill-rule=\"evenodd\" fill-opacity=\"1\" /><path clip-path=\"url(#clip650)\" d=\"M1742.75 1408.05 L1747.63 1408.05 L1747.63 1413.93 L1742.75 1413.93 L1742.75 1408.05 Z\" fill=\"#000000\" fill-rule=\"evenodd\" fill-opacity=\"1\" /><path clip-path=\"url(#clip650)\" d=\"M1767.82 1382.45 Q1764.21 1382.45 1762.38 1386.01 Q1760.57 1389.55 1760.57 1396.68 Q1760.57 1403.79 1762.38 1407.35 Q1764.21 1410.89 1767.82 1410.89 Q1771.45 1410.89 1773.26 1407.35 Q1775.09 1403.79 1775.09 1396.68 Q1775.09 1389.55 1773.26 1386.01 Q1771.45 1382.45 1767.82 1382.45 M1767.82 1378.74 Q1773.63 1378.74 1776.68 1383.35 Q1779.76 1387.93 1779.76 1396.68 Q1779.76 1405.41 1776.68 1410.01 Q1773.63 1414.6 1767.82 1414.6 Q1762.01 1414.6 1758.93 1410.01 Q1755.87 1405.41 1755.87 1396.68 Q1755.87 1387.93 1758.93 1383.35 Q1762.01 1378.74 1767.82 1378.74 Z\" fill=\"#000000\" fill-rule=\"evenodd\" fill-opacity=\"1\" /><path clip-path=\"url(#clip650)\" d=\"M1797.98 1382.45 Q1794.37 1382.45 1792.54 1386.01 Q1790.73 1389.55 1790.73 1396.68 Q1790.73 1403.79 1792.54 1407.35 Q1794.37 1410.89 1797.98 1410.89 Q1801.61 1410.89 1803.42 1407.35 Q1805.25 1403.79 1805.25 1396.68 Q1805.25 1389.55 1803.42 1386.01 Q1801.61 1382.45 1797.98 1382.45 M1797.98 1378.74 Q1803.79 1378.74 1806.85 1383.35 Q1809.92 1387.93 1809.92 1396.68 Q1809.92 1405.41 1806.85 1410.01 Q1803.79 1414.6 1797.98 1414.6 Q1792.17 1414.6 1789.09 1410.01 Q1786.04 1405.41 1786.04 1396.68 Q1786.04 1387.93 1789.09 1383.35 Q1792.17 1378.74 1797.98 1378.74 Z\" fill=\"#000000\" fill-rule=\"evenodd\" fill-opacity=\"1\" /><path clip-path=\"url(#clip650)\" d=\"M1828.72 1394.78 Q1825.57 1394.78 1823.72 1396.94 Q1821.89 1399.09 1821.89 1402.84 Q1821.89 1406.57 1823.72 1408.74 Q1825.57 1410.89 1828.72 1410.89 Q1831.87 1410.89 1833.7 1408.74 Q1835.55 1406.57 1835.55 1402.84 Q1835.55 1399.09 1833.7 1396.94 Q1831.87 1394.78 1828.72 1394.78 M1838 1380.13 L1838 1384.39 Q1836.24 1383.56 1834.44 1383.12 Q1832.66 1382.68 1830.9 1382.68 Q1826.27 1382.68 1823.81 1385.8 Q1821.38 1388.93 1821.04 1395.25 Q1822.4 1393.23 1824.46 1392.17 Q1826.52 1391.08 1829 1391.08 Q1834.21 1391.08 1837.22 1394.25 Q1840.25 1397.4 1840.25 1402.84 Q1840.25 1408.16 1837.1 1411.38 Q1833.95 1414.6 1828.72 1414.6 Q1822.73 1414.6 1819.55 1410.01 Q1816.38 1405.41 1816.38 1396.68 Q1816.38 1388.49 1820.27 1383.63 Q1824.16 1378.74 1830.71 1378.74 Q1832.47 1378.74 1834.25 1379.09 Q1836.06 1379.44 1838 1380.13 Z\" fill=\"#000000\" fill-rule=\"evenodd\" fill-opacity=\"1\" /><path clip-path=\"url(#clip650)\" d=\"M1725.66 1351.34 L1755.33 1351.34 L1755.33 1355.27 L1725.66 1355.27 L1725.66 1351.34 Z\" fill=\"#000000\" fill-rule=\"evenodd\" fill-opacity=\"1\" /><path clip-path=\"url(#clip650)\" d=\"M1775.43 1336.69 Q1771.82 1336.69 1769.99 1340.25 Q1768.18 1343.79 1768.18 1350.92 Q1768.18 1358.03 1769.99 1361.59 Q1771.82 1365.13 1775.43 1365.13 Q1779.06 1365.13 1780.87 1361.59 Q1782.69 1358.03 1782.69 1350.92 Q1782.69 1343.79 1780.87 1340.25 Q1779.06 1336.69 1775.43 1336.69 M1775.43 1332.98 Q1781.24 1332.98 1784.29 1337.59 Q1787.37 1342.17 1787.37 1350.92 Q1787.37 1359.65 1784.29 1364.25 Q1781.24 1368.84 1775.43 1368.84 Q1769.62 1368.84 1766.54 1364.25 Q1763.48 1359.65 1763.48 1350.92 Q1763.48 1342.17 1766.54 1337.59 Q1769.62 1332.98 1775.43 1332.98 Z\" fill=\"#000000\" fill-rule=\"evenodd\" fill-opacity=\"1\" /><path clip-path=\"url(#clip650)\" d=\"M1795.59 1362.29 L1800.47 1362.29 L1800.47 1368.17 L1795.59 1368.17 L1795.59 1362.29 Z\" fill=\"#000000\" fill-rule=\"evenodd\" fill-opacity=\"1\" /><path clip-path=\"url(#clip650)\" d=\"M1820.66 1336.69 Q1817.05 1336.69 1815.22 1340.25 Q1813.41 1343.79 1813.41 1350.92 Q1813.41 1358.03 1815.22 1361.59 Q1817.05 1365.13 1820.66 1365.13 Q1824.29 1365.13 1826.1 1361.59 Q1827.93 1358.03 1827.93 1350.92 Q1827.93 1343.79 1826.1 1340.25 Q1824.29 1336.69 1820.66 1336.69 M1820.66 1332.98 Q1826.47 1332.98 1829.52 1337.59 Q1832.6 1342.17 1832.6 1350.92 Q1832.6 1359.65 1829.52 1364.25 Q1826.47 1368.84 1820.66 1368.84 Q1814.85 1368.84 1811.77 1364.25 Q1808.71 1359.65 1808.71 1350.92 Q1808.71 1342.17 1811.77 1337.59 Q1814.85 1332.98 1820.66 1332.98 Z\" fill=\"#000000\" fill-rule=\"evenodd\" fill-opacity=\"1\" /><path clip-path=\"url(#clip650)\" d=\"M1850.82 1336.69 Q1847.21 1336.69 1845.38 1340.25 Q1843.57 1343.79 1843.57 1350.92 Q1843.57 1358.03 1845.38 1361.59 Q1847.21 1365.13 1850.82 1365.13 Q1854.45 1365.13 1856.26 1361.59 Q1858.09 1358.03 1858.09 1350.92 Q1858.09 1343.79 1856.26 1340.25 Q1854.45 1336.69 1850.82 1336.69 M1850.82 1332.98 Q1856.63 1332.98 1859.68 1337.59 Q1862.76 1342.17 1862.76 1350.92 Q1862.76 1359.65 1859.68 1364.25 Q1856.63 1368.84 1850.82 1368.84 Q1845.01 1368.84 1841.93 1364.25 Q1838.87 1359.65 1838.87 1350.92 Q1838.87 1342.17 1841.93 1337.59 Q1845.01 1332.98 1850.82 1332.98 Z\" fill=\"#000000\" fill-rule=\"evenodd\" fill-opacity=\"1\" /><path clip-path=\"url(#clip650)\" d=\"M1883.83 1337.68 L1872.02 1356.13 L1883.83 1356.13 L1883.83 1337.68 M1882.6 1333.61 L1888.48 1333.61 L1888.48 1356.13 L1893.41 1356.13 L1893.41 1360.02 L1888.48 1360.02 L1888.48 1368.17 L1883.83 1368.17 L1883.83 1360.02 L1868.23 1360.02 L1868.23 1355.5 L1882.6 1333.61 Z\" fill=\"#000000\" fill-rule=\"evenodd\" fill-opacity=\"1\" /><path clip-path=\"url(#clip650)\" d=\"M1778.5 1305.58 L1808.17 1305.58 L1808.17 1309.51 L1778.5 1309.51 L1778.5 1305.58 Z\" fill=\"#000000\" fill-rule=\"evenodd\" fill-opacity=\"1\" /><path clip-path=\"url(#clip650)\" d=\"M1828.27 1290.93 Q1824.65 1290.93 1822.83 1294.49 Q1821.02 1298.03 1821.02 1305.16 Q1821.02 1312.27 1822.83 1315.83 Q1824.65 1319.37 1828.27 1319.37 Q1831.9 1319.37 1833.7 1315.83 Q1835.53 1312.27 1835.53 1305.16 Q1835.53 1298.03 1833.7 1294.49 Q1831.9 1290.93 1828.27 1290.93 M1828.27 1287.22 Q1834.08 1287.22 1837.13 1291.83 Q1840.21 1296.41 1840.21 1305.16 Q1840.21 1313.89 1837.13 1318.49 Q1834.08 1323.08 1828.27 1323.08 Q1822.45 1323.08 1819.38 1318.49 Q1816.32 1313.89 1816.32 1305.16 Q1816.32 1296.41 1819.38 1291.83 Q1822.45 1287.22 1828.27 1287.22 Z\" fill=\"#000000\" fill-rule=\"evenodd\" fill-opacity=\"1\" /><path clip-path=\"url(#clip650)\" d=\"M1848.43 1316.53 L1853.31 1316.53 L1853.31 1322.41 L1848.43 1322.41 L1848.43 1316.53 Z\" fill=\"#000000\" fill-rule=\"evenodd\" fill-opacity=\"1\" /><path clip-path=\"url(#clip650)\" d=\"M1873.5 1290.93 Q1869.89 1290.93 1868.06 1294.49 Q1866.25 1298.03 1866.25 1305.16 Q1866.25 1312.27 1868.06 1315.83 Q1869.89 1319.37 1873.5 1319.37 Q1877.13 1319.37 1878.94 1315.83 Q1880.76 1312.27 1880.76 1305.16 Q1880.76 1298.03 1878.94 1294.49 Q1877.13 1290.93 1873.5 1290.93 M1873.5 1287.22 Q1879.31 1287.22 1882.36 1291.83 Q1885.44 1296.41 1885.44 1305.16 Q1885.44 1313.89 1882.36 1318.49 Q1879.31 1323.08 1873.5 1323.08 Q1867.69 1323.08 1864.61 1318.49 Q1861.55 1313.89 1861.55 1305.16 Q1861.55 1296.41 1864.61 1291.83 Q1867.69 1287.22 1873.5 1287.22 Z\" fill=\"#000000\" fill-rule=\"evenodd\" fill-opacity=\"1\" /><path clip-path=\"url(#clip650)\" d=\"M1903.66 1290.93 Q1900.05 1290.93 1898.22 1294.49 Q1896.41 1298.03 1896.41 1305.16 Q1896.41 1312.27 1898.22 1315.83 Q1900.05 1319.37 1903.66 1319.37 Q1907.29 1319.37 1909.1 1315.83 Q1910.93 1312.27 1910.93 1305.16 Q1910.93 1298.03 1909.1 1294.49 Q1907.29 1290.93 1903.66 1290.93 M1903.66 1287.22 Q1909.47 1287.22 1912.52 1291.83 Q1915.6 1296.41 1915.6 1305.16 Q1915.6 1313.89 1912.52 1318.49 Q1909.47 1323.08 1903.66 1323.08 Q1897.85 1323.08 1894.77 1318.49 Q1891.71 1313.89 1891.71 1305.16 Q1891.71 1296.41 1894.77 1291.83 Q1897.85 1287.22 1903.66 1287.22 Z\" fill=\"#000000\" fill-rule=\"evenodd\" fill-opacity=\"1\" /><path clip-path=\"url(#clip650)\" d=\"M1927.85 1318.47 L1944.17 1318.47 L1944.17 1322.41 L1922.22 1322.41 L1922.22 1318.47 Q1924.88 1315.72 1929.47 1311.09 Q1934.07 1306.43 1935.26 1305.09 Q1937.5 1302.57 1938.38 1300.83 Q1939.28 1299.07 1939.28 1297.38 Q1939.28 1294.63 1937.34 1292.89 Q1935.42 1291.16 1932.32 1291.16 Q1930.12 1291.16 1927.66 1291.92 Q1925.23 1292.68 1922.45 1294.24 L1922.45 1289.51 Q1925.28 1288.38 1927.73 1287.8 Q1930.19 1287.22 1932.22 1287.22 Q1937.59 1287.22 1940.79 1289.91 Q1943.98 1292.59 1943.98 1297.08 Q1943.98 1299.21 1943.17 1301.13 Q1942.38 1303.03 1940.28 1305.62 Q1939.7 1306.3 1936.6 1309.51 Q1933.5 1312.71 1927.85 1318.47 Z\" fill=\"#000000\" fill-rule=\"evenodd\" fill-opacity=\"1\" /><path clip-path=\"url(#clip650)\" d=\"M1843.28 1245.17 Q1839.67 1245.17 1837.84 1248.73 Q1836.03 1252.27 1836.03 1259.4 Q1836.03 1266.51 1837.84 1270.07 Q1839.67 1273.61 1843.28 1273.61 Q1846.91 1273.61 1848.72 1270.07 Q1850.55 1266.51 1850.55 1259.4 Q1850.55 1252.27 1848.72 1248.73 Q1846.91 1245.17 1843.28 1245.17 M1843.28 1241.46 Q1849.09 1241.46 1852.15 1246.07 Q1855.22 1250.65 1855.22 1259.4 Q1855.22 1268.13 1852.15 1272.73 Q1849.09 1277.32 1843.28 1277.32 Q1837.47 1277.32 1834.39 1272.73 Q1831.34 1268.13 1831.34 1259.4 Q1831.34 1250.65 1834.39 1246.07 Q1837.47 1241.46 1843.28 1241.46 Z\" fill=\"#000000\" fill-rule=\"evenodd\" fill-opacity=\"1\" /><path clip-path=\"url(#clip650)\" d=\"M1863.44 1270.77 L1868.33 1270.77 L1868.33 1276.65 L1863.44 1276.65 L1863.44 1270.77 Z\" fill=\"#000000\" fill-rule=\"evenodd\" fill-opacity=\"1\" /><path clip-path=\"url(#clip650)\" d=\"M1888.51 1245.17 Q1884.9 1245.17 1883.07 1248.73 Q1881.27 1252.27 1881.27 1259.4 Q1881.27 1266.51 1883.07 1270.07 Q1884.9 1273.61 1888.51 1273.61 Q1892.15 1273.61 1893.95 1270.07 Q1895.78 1266.51 1895.78 1259.4 Q1895.78 1252.27 1893.95 1248.73 Q1892.15 1245.17 1888.51 1245.17 M1888.51 1241.46 Q1894.32 1241.46 1897.38 1246.07 Q1900.46 1250.65 1900.46 1259.4 Q1900.46 1268.13 1897.38 1272.73 Q1894.32 1277.32 1888.51 1277.32 Q1882.7 1277.32 1879.62 1272.73 Q1876.57 1268.13 1876.57 1259.4 Q1876.57 1250.65 1879.62 1246.07 Q1882.7 1241.46 1888.51 1241.46 Z\" fill=\"#000000\" fill-rule=\"evenodd\" fill-opacity=\"1\" /><path clip-path=\"url(#clip650)\" d=\"M1918.67 1245.17 Q1915.06 1245.17 1913.23 1248.73 Q1911.43 1252.27 1911.43 1259.4 Q1911.43 1266.51 1913.23 1270.07 Q1915.06 1273.61 1918.67 1273.61 Q1922.31 1273.61 1924.11 1270.07 Q1925.94 1266.51 1925.94 1259.4 Q1925.94 1252.27 1924.11 1248.73 Q1922.31 1245.17 1918.67 1245.17 M1918.67 1241.46 Q1924.48 1241.46 1927.54 1246.07 Q1930.62 1250.65 1930.62 1259.4 Q1930.62 1268.13 1927.54 1272.73 Q1924.48 1277.32 1918.67 1277.32 Q1912.86 1277.32 1909.78 1272.73 Q1906.73 1268.13 1906.73 1259.4 Q1906.73 1250.65 1909.78 1246.07 Q1912.86 1241.46 1918.67 1241.46 Z\" fill=\"#000000\" fill-rule=\"evenodd\" fill-opacity=\"1\" /><path clip-path=\"url(#clip650)\" d=\"M1948.84 1245.17 Q1945.22 1245.17 1943.4 1248.73 Q1941.59 1252.27 1941.59 1259.4 Q1941.59 1266.51 1943.4 1270.07 Q1945.22 1273.61 1948.84 1273.61 Q1952.47 1273.61 1954.28 1270.07 Q1956.1 1266.51 1956.1 1259.4 Q1956.1 1252.27 1954.28 1248.73 Q1952.47 1245.17 1948.84 1245.17 M1948.84 1241.46 Q1954.65 1241.46 1957.7 1246.07 Q1960.78 1250.65 1960.78 1259.4 Q1960.78 1268.13 1957.7 1272.73 Q1954.65 1277.32 1948.84 1277.32 Q1943.03 1277.32 1939.95 1272.73 Q1936.89 1268.13 1936.89 1259.4 Q1936.89 1250.65 1939.95 1246.07 Q1943.03 1241.46 1948.84 1241.46 Z\" fill=\"#000000\" fill-rule=\"evenodd\" fill-opacity=\"1\" /><path clip-path=\"url(#clip650)\" d=\"M1896.12 1199.41 Q1892.51 1199.41 1890.68 1202.97 Q1888.87 1206.51 1888.87 1213.64 Q1888.87 1220.75 1890.68 1224.31 Q1892.51 1227.85 1896.12 1227.85 Q1899.75 1227.85 1901.56 1224.31 Q1903.39 1220.75 1903.39 1213.64 Q1903.39 1206.51 1901.56 1202.97 Q1899.75 1199.41 1896.12 1199.41 M1896.12 1195.7 Q1901.93 1195.7 1904.99 1200.31 Q1908.06 1204.89 1908.06 1213.64 Q1908.06 1222.37 1904.99 1226.97 Q1901.93 1231.56 1896.12 1231.56 Q1890.31 1231.56 1887.23 1226.97 Q1884.17 1222.37 1884.17 1213.64 Q1884.17 1204.89 1887.23 1200.31 Q1890.31 1195.7 1896.12 1195.7 Z\" fill=\"#000000\" fill-rule=\"evenodd\" fill-opacity=\"1\" /><path clip-path=\"url(#clip650)\" d=\"M1916.28 1225.01 L1921.17 1225.01 L1921.17 1230.89 L1916.28 1230.89 L1916.28 1225.01 Z\" fill=\"#000000\" fill-rule=\"evenodd\" fill-opacity=\"1\" /><path clip-path=\"url(#clip650)\" d=\"M1941.35 1199.41 Q1937.74 1199.41 1935.91 1202.97 Q1934.11 1206.51 1934.11 1213.64 Q1934.11 1220.75 1935.91 1224.31 Q1937.74 1227.85 1941.35 1227.85 Q1944.98 1227.85 1946.79 1224.31 Q1948.62 1220.75 1948.62 1213.64 Q1948.62 1206.51 1946.79 1202.97 Q1944.98 1199.41 1941.35 1199.41 M1941.35 1195.7 Q1947.16 1195.7 1950.22 1200.31 Q1953.29 1204.89 1953.29 1213.64 Q1953.29 1222.37 1950.22 1226.97 Q1947.16 1231.56 1941.35 1231.56 Q1935.54 1231.56 1932.46 1226.97 Q1929.41 1222.37 1929.41 1213.64 Q1929.41 1204.89 1932.46 1200.31 Q1935.54 1195.7 1941.35 1195.7 Z\" fill=\"#000000\" fill-rule=\"evenodd\" fill-opacity=\"1\" /><path clip-path=\"url(#clip650)\" d=\"M1971.51 1199.41 Q1967.9 1199.41 1966.07 1202.97 Q1964.27 1206.51 1964.27 1213.64 Q1964.27 1220.75 1966.07 1224.31 Q1967.9 1227.85 1971.51 1227.85 Q1975.15 1227.85 1976.95 1224.31 Q1978.78 1220.75 1978.78 1213.64 Q1978.78 1206.51 1976.95 1202.97 Q1975.15 1199.41 1971.51 1199.41 M1971.51 1195.7 Q1977.32 1195.7 1980.38 1200.31 Q1983.46 1204.89 1983.46 1213.64 Q1983.46 1222.37 1980.38 1226.97 Q1977.32 1231.56 1971.51 1231.56 Q1965.7 1231.56 1962.62 1226.97 Q1959.57 1222.37 1959.57 1213.64 Q1959.57 1204.89 1962.62 1200.31 Q1965.7 1195.7 1971.51 1195.7 Z\" fill=\"#000000\" fill-rule=\"evenodd\" fill-opacity=\"1\" /><path clip-path=\"url(#clip650)\" d=\"M1995.7 1226.95 L2012.02 1226.95 L2012.02 1230.89 L1990.08 1230.89 L1990.08 1226.95 Q1992.74 1224.2 1997.32 1219.57 Q2001.93 1214.91 2003.11 1213.57 Q2005.35 1211.05 2006.23 1209.31 Q2007.14 1207.55 2007.14 1205.86 Q2007.14 1203.11 2005.19 1201.37 Q2003.27 1199.64 2000.17 1199.64 Q1997.97 1199.64 1995.52 1200.4 Q1993.09 1201.16 1990.31 1202.72 L1990.31 1197.99 Q1993.13 1196.86 1995.59 1196.28 Q1998.04 1195.7 2000.08 1195.7 Q2005.45 1195.7 2008.64 1198.39 Q2011.84 1201.07 2011.84 1205.56 Q2011.84 1207.69 2011.03 1209.61 Q2010.24 1211.51 2008.13 1214.1 Q2007.55 1214.78 2004.45 1217.99 Q2001.35 1221.19 1995.7 1226.95 Z\" fill=\"#000000\" fill-rule=\"evenodd\" fill-opacity=\"1\" /><path clip-path=\"url(#clip650)\" d=\"M1948.96 1153.65 Q1945.35 1153.65 1943.52 1157.21 Q1941.71 1160.75 1941.71 1167.88 Q1941.71 1174.99 1943.52 1178.55 Q1945.35 1182.09 1948.96 1182.09 Q1952.59 1182.09 1954.4 1178.55 Q1956.23 1174.99 1956.23 1167.88 Q1956.23 1160.75 1954.4 1157.21 Q1952.59 1153.65 1948.96 1153.65 M1948.96 1149.94 Q1954.77 1149.94 1957.82 1154.55 Q1960.9 1159.13 1960.9 1167.88 Q1960.9 1176.61 1957.82 1181.21 Q1954.77 1185.8 1948.96 1185.8 Q1943.15 1185.8 1940.07 1181.21 Q1937.01 1176.61 1937.01 1167.88 Q1937.01 1159.13 1940.07 1154.55 Q1943.15 1149.94 1948.96 1149.94 Z\" fill=\"#000000\" fill-rule=\"evenodd\" fill-opacity=\"1\" /><path clip-path=\"url(#clip650)\" d=\"M1969.12 1179.25 L1974 1179.25 L1974 1185.13 L1969.12 1185.13 L1969.12 1179.25 Z\" fill=\"#000000\" fill-rule=\"evenodd\" fill-opacity=\"1\" /><path clip-path=\"url(#clip650)\" d=\"M1994.19 1153.65 Q1990.58 1153.65 1988.75 1157.21 Q1986.94 1160.75 1986.94 1167.88 Q1986.94 1174.99 1988.75 1178.55 Q1990.58 1182.09 1994.19 1182.09 Q1997.82 1182.09 1999.63 1178.55 Q2001.46 1174.99 2001.46 1167.88 Q2001.46 1160.75 1999.63 1157.21 Q1997.82 1153.65 1994.19 1153.65 M1994.19 1149.94 Q2000 1149.94 2003.06 1154.55 Q2006.13 1159.13 2006.13 1167.88 Q2006.13 1176.61 2003.06 1181.21 Q2000 1185.8 1994.19 1185.8 Q1988.38 1185.8 1985.3 1181.21 Q1982.25 1176.61 1982.25 1167.88 Q1982.25 1159.13 1985.3 1154.55 Q1988.38 1149.94 1994.19 1149.94 Z\" fill=\"#000000\" fill-rule=\"evenodd\" fill-opacity=\"1\" /><path clip-path=\"url(#clip650)\" d=\"M2024.35 1153.65 Q2020.74 1153.65 2018.91 1157.21 Q2017.11 1160.75 2017.11 1167.88 Q2017.11 1174.99 2018.91 1178.55 Q2020.74 1182.09 2024.35 1182.09 Q2027.99 1182.09 2029.79 1178.55 Q2031.62 1174.99 2031.62 1167.88 Q2031.62 1160.75 2029.79 1157.21 Q2027.99 1153.65 2024.35 1153.65 M2024.35 1149.94 Q2030.16 1149.94 2033.22 1154.55 Q2036.3 1159.13 2036.3 1167.88 Q2036.3 1176.61 2033.22 1181.21 Q2030.16 1185.8 2024.35 1185.8 Q2018.54 1185.8 2015.46 1181.21 Q2012.41 1176.61 2012.41 1167.88 Q2012.41 1159.13 2015.46 1154.55 Q2018.54 1149.94 2024.35 1149.94 Z\" fill=\"#000000\" fill-rule=\"evenodd\" fill-opacity=\"1\" /><path clip-path=\"url(#clip650)\" d=\"M2057.36 1154.64 L2045.56 1173.09 L2057.36 1173.09 L2057.36 1154.64 M2056.13 1150.57 L2062.01 1150.57 L2062.01 1173.09 L2066.94 1173.09 L2066.94 1176.98 L2062.01 1176.98 L2062.01 1185.13 L2057.36 1185.13 L2057.36 1176.98 L2041.76 1176.98 L2041.76 1172.46 L2056.13 1150.57 Z\" fill=\"#000000\" fill-rule=\"evenodd\" fill-opacity=\"1\" /><path clip-path=\"url(#clip650)\" d=\"M2001.8 1107.89 Q1998.19 1107.89 1996.36 1111.45 Q1994.55 1114.99 1994.55 1122.12 Q1994.55 1129.23 1996.36 1132.79 Q1998.19 1136.33 2001.8 1136.33 Q2005.43 1136.33 2007.24 1132.79 Q2009.07 1129.23 2009.07 1122.12 Q2009.07 1114.99 2007.24 1111.45 Q2005.43 1107.89 2001.8 1107.89 M2001.8 1104.18 Q2007.61 1104.18 2010.66 1108.79 Q2013.74 1113.37 2013.74 1122.12 Q2013.74 1130.85 2010.66 1135.45 Q2007.61 1140.04 2001.8 1140.04 Q1995.99 1140.04 1992.91 1135.45 Q1989.85 1130.85 1989.85 1122.12 Q1989.85 1113.37 1992.91 1108.79 Q1995.99 1104.18 2001.8 1104.18 Z\" fill=\"#000000\" fill-rule=\"evenodd\" fill-opacity=\"1\" /><path clip-path=\"url(#clip650)\" d=\"M2021.96 1133.49 L2026.84 1133.49 L2026.84 1139.37 L2021.96 1139.37 L2021.96 1133.49 Z\" fill=\"#000000\" fill-rule=\"evenodd\" fill-opacity=\"1\" /><path clip-path=\"url(#clip650)\" d=\"M2047.03 1107.89 Q2043.42 1107.89 2041.59 1111.45 Q2039.78 1114.99 2039.78 1122.12 Q2039.78 1129.23 2041.59 1132.79 Q2043.42 1136.33 2047.03 1136.33 Q2050.66 1136.33 2052.47 1132.79 Q2054.3 1129.23 2054.3 1122.12 Q2054.3 1114.99 2052.47 1111.45 Q2050.66 1107.89 2047.03 1107.89 M2047.03 1104.18 Q2052.84 1104.18 2055.89 1108.79 Q2058.97 1113.37 2058.97 1122.12 Q2058.97 1130.85 2055.89 1135.45 Q2052.84 1140.04 2047.03 1140.04 Q2041.22 1140.04 2038.14 1135.45 Q2035.08 1130.85 2035.08 1122.12 Q2035.08 1113.37 2038.14 1108.79 Q2041.22 1104.18 2047.03 1104.18 Z\" fill=\"#000000\" fill-rule=\"evenodd\" fill-opacity=\"1\" /><path clip-path=\"url(#clip650)\" d=\"M2077.19 1107.89 Q2073.58 1107.89 2071.75 1111.45 Q2069.95 1114.99 2069.95 1122.12 Q2069.95 1129.23 2071.75 1132.79 Q2073.58 1136.33 2077.19 1136.33 Q2080.82 1136.33 2082.63 1132.79 Q2084.46 1129.23 2084.46 1122.12 Q2084.46 1114.99 2082.63 1111.45 Q2080.82 1107.89 2077.19 1107.89 M2077.19 1104.18 Q2083 1104.18 2086.06 1108.79 Q2089.13 1113.37 2089.13 1122.12 Q2089.13 1130.85 2086.06 1135.45 Q2083 1140.04 2077.19 1140.04 Q2071.38 1140.04 2068.3 1135.45 Q2065.25 1130.85 2065.25 1122.12 Q2065.25 1113.37 2068.3 1108.79 Q2071.38 1104.18 2077.19 1104.18 Z\" fill=\"#000000\" fill-rule=\"evenodd\" fill-opacity=\"1\" /><path clip-path=\"url(#clip650)\" d=\"M2107.93 1120.22 Q2104.78 1120.22 2102.93 1122.38 Q2101.1 1124.53 2101.1 1128.28 Q2101.1 1132.01 2102.93 1134.18 Q2104.78 1136.33 2107.93 1136.33 Q2111.08 1136.33 2112.91 1134.18 Q2114.76 1132.01 2114.76 1128.28 Q2114.76 1124.53 2112.91 1122.38 Q2111.08 1120.22 2107.93 1120.22 M2117.21 1105.57 L2117.21 1109.83 Q2115.45 1109 2113.65 1108.56 Q2111.87 1108.12 2110.11 1108.12 Q2105.48 1108.12 2103.02 1111.24 Q2100.59 1114.37 2100.25 1120.69 Q2101.61 1118.67 2103.67 1117.61 Q2105.73 1116.52 2108.21 1116.52 Q2113.42 1116.52 2116.43 1119.69 Q2119.46 1122.84 2119.46 1128.28 Q2119.46 1133.6 2116.31 1136.82 Q2113.16 1140.04 2107.93 1140.04 Q2101.94 1140.04 2098.76 1135.45 Q2095.59 1130.85 2095.59 1122.12 Q2095.59 1113.93 2099.48 1109.07 Q2103.37 1104.18 2109.92 1104.18 Q2111.68 1104.18 2113.46 1104.53 Q2115.27 1104.88 2117.21 1105.57 Z\" fill=\"#000000\" fill-rule=\"evenodd\" fill-opacity=\"1\" /><polyline clip-path=\"url(#clip652)\" style=\"stroke:#000000; stroke-linecap:round; stroke-linejoin:round; stroke-width:2; stroke-opacity:0.1; fill:none\" points=\"\n",
       "  898.229,1202.68 1313.69,842.881 2033.29,1050.61 \n",
       "  \"/>\n",
       "<polyline clip-path=\"url(#clip652)\" style=\"stroke:#000000; stroke-linecap:round; stroke-linejoin:round; stroke-width:2; stroke-opacity:0.1; fill:none\" points=\"\n",
       "  898.229,962.815 1313.69,603.014 2033.29,810.745 \n",
       "  \"/>\n",
       "<polyline clip-path=\"url(#clip652)\" style=\"stroke:#000000; stroke-linecap:round; stroke-linejoin:round; stroke-width:2; stroke-opacity:0.1; fill:none\" points=\"\n",
       "  898.229,722.947 1313.69,363.146 2033.29,570.877 \n",
       "  \"/>\n",
       "<polyline clip-path=\"url(#clip652)\" style=\"stroke:#000000; stroke-linecap:round; stroke-linejoin:round; stroke-width:2; stroke-opacity:0.1; fill:none\" points=\"\n",
       "  898.229,483.08 1313.69,123.279 2033.29,331.01 \n",
       "  \"/>\n",
       "<polyline clip-path=\"url(#clip650)\" style=\"stroke:#000000; stroke-linecap:round; stroke-linejoin:round; stroke-width:4; stroke-opacity:1; fill:none\" points=\"\n",
       "  898.229,1202.68 898.229,483.08 \n",
       "  \"/>\n",
       "<polyline clip-path=\"url(#clip650)\" style=\"stroke:#000000; stroke-linecap:round; stroke-linejoin:round; stroke-width:4; stroke-opacity:1; fill:none\" points=\"\n",
       "  898.229,1202.68 903.214,1198.36 \n",
       "  \"/>\n",
       "<polyline clip-path=\"url(#clip650)\" style=\"stroke:#000000; stroke-linecap:round; stroke-linejoin:round; stroke-width:4; stroke-opacity:1; fill:none\" points=\"\n",
       "  898.229,962.815 903.214,958.497 \n",
       "  \"/>\n",
       "<polyline clip-path=\"url(#clip650)\" style=\"stroke:#000000; stroke-linecap:round; stroke-linejoin:round; stroke-width:4; stroke-opacity:1; fill:none\" points=\"\n",
       "  898.229,722.947 903.214,718.63 \n",
       "  \"/>\n",
       "<polyline clip-path=\"url(#clip650)\" style=\"stroke:#000000; stroke-linecap:round; stroke-linejoin:round; stroke-width:4; stroke-opacity:1; fill:none\" points=\"\n",
       "  898.229,483.08 903.214,478.762 \n",
       "  \"/>\n",
       "<path clip-path=\"url(#clip650)\" d=\"M377.655 1209.58 L407.331 1209.58 L407.331 1213.52 L377.655 1213.52 L377.655 1209.58 Z\" fill=\"#000000\" fill-rule=\"evenodd\" fill-opacity=\"1\" /><path clip-path=\"url(#clip650)\" d=\"M421.451 1222.47 L437.77 1222.47 L437.77 1226.41 L415.826 1226.41 L415.826 1222.47 Q418.488 1219.72 423.071 1215.09 Q427.678 1210.44 428.858 1209.09 Q431.104 1206.57 431.983 1204.84 Q432.886 1203.08 432.886 1201.39 Q432.886 1198.63 430.942 1196.9 Q429.02 1195.16 425.919 1195.16 Q423.719 1195.16 421.266 1195.92 Q418.835 1196.69 416.057 1198.24 L416.057 1193.52 Q418.882 1192.38 421.335 1191.8 Q423.789 1191.22 425.826 1191.22 Q431.196 1191.22 434.391 1193.91 Q437.585 1196.59 437.585 1201.09 Q437.585 1203.22 436.775 1205.14 Q435.988 1207.03 433.881 1209.63 Q433.303 1210.3 430.201 1213.52 Q427.099 1216.71 421.451 1222.47 Z\" fill=\"#000000\" fill-rule=\"evenodd\" fill-opacity=\"1\" /><path clip-path=\"url(#clip650)\" d=\"M447.585 1220.53 L452.469 1220.53 L452.469 1226.41 L447.585 1226.41 L447.585 1220.53 Z\" fill=\"#000000\" fill-rule=\"evenodd\" fill-opacity=\"1\" /><path clip-path=\"url(#clip650)\" d=\"M475.502 1195.92 L463.696 1214.37 L475.502 1214.37 L475.502 1195.92 M474.275 1191.85 L480.154 1191.85 L480.154 1214.37 L485.085 1214.37 L485.085 1218.26 L480.154 1218.26 L480.154 1226.41 L475.502 1226.41 L475.502 1218.26 L459.9 1218.26 L459.9 1213.75 L474.275 1191.85 Z\" fill=\"#000000\" fill-rule=\"evenodd\" fill-opacity=\"1\" /><path clip-path=\"url(#clip650)\" d=\"M496.844 1222.47 L513.163 1222.47 L513.163 1226.41 L491.219 1226.41 L491.219 1222.47 Q493.881 1219.72 498.464 1215.09 Q503.071 1210.44 504.251 1209.09 Q506.497 1206.57 507.376 1204.84 Q508.279 1203.08 508.279 1201.39 Q508.279 1198.63 506.335 1196.9 Q504.413 1195.16 501.312 1195.16 Q499.113 1195.16 496.659 1195.92 Q494.228 1196.69 491.451 1198.24 L491.451 1193.52 Q494.275 1192.38 496.728 1191.8 Q499.182 1191.22 501.219 1191.22 Q506.589 1191.22 509.784 1193.91 Q512.978 1196.59 512.978 1201.09 Q512.978 1203.22 512.168 1205.14 Q511.381 1207.03 509.275 1209.63 Q508.696 1210.3 505.594 1213.52 Q502.492 1216.71 496.844 1222.47 Z\" fill=\"#000000\" fill-rule=\"evenodd\" fill-opacity=\"1\" /><path clip-path=\"url(#clip650)\" d=\"M532.978 1194.93 Q529.367 1194.93 527.538 1198.49 Q525.733 1202.03 525.733 1209.16 Q525.733 1216.27 527.538 1219.84 Q529.367 1223.38 532.978 1223.38 Q536.612 1223.38 538.418 1219.84 Q540.247 1216.27 540.247 1209.16 Q540.247 1202.03 538.418 1198.49 Q536.612 1194.93 532.978 1194.93 M532.978 1191.22 Q538.788 1191.22 541.844 1195.83 Q544.923 1200.41 544.923 1209.16 Q544.923 1217.89 541.844 1222.5 Q538.788 1227.08 532.978 1227.08 Q527.168 1227.08 524.089 1222.5 Q521.034 1217.89 521.034 1209.16 Q521.034 1200.41 524.089 1195.83 Q527.168 1191.22 532.978 1191.22 Z\" fill=\"#000000\" fill-rule=\"evenodd\" fill-opacity=\"1\" /><path clip-path=\"url(#clip650)\" d=\"M553.279 1225.69 L553.279 1221.43 Q555.038 1222.27 556.844 1222.71 Q558.649 1223.15 560.385 1223.15 Q565.015 1223.15 567.446 1220.04 Q569.899 1216.92 570.246 1210.58 Q568.904 1212.57 566.844 1213.63 Q564.784 1214.7 562.284 1214.7 Q557.098 1214.7 554.066 1211.57 Q551.057 1208.42 551.057 1202.98 Q551.057 1197.66 554.205 1194.44 Q557.353 1191.22 562.584 1191.22 Q568.58 1191.22 571.728 1195.83 Q574.899 1200.41 574.899 1209.16 Q574.899 1217.34 571.01 1222.22 Q567.145 1227.08 560.594 1227.08 Q558.834 1227.08 557.029 1226.73 Q555.223 1226.39 553.279 1225.69 M562.584 1211.04 Q565.733 1211.04 567.561 1208.89 Q569.413 1206.73 569.413 1202.98 Q569.413 1199.26 567.561 1197.1 Q565.733 1194.93 562.584 1194.93 Q559.436 1194.93 557.584 1197.1 Q555.756 1199.26 555.756 1202.98 Q555.756 1206.73 557.584 1208.89 Q559.436 1211.04 562.584 1211.04 Z\" fill=\"#000000\" fill-rule=\"evenodd\" fill-opacity=\"1\" /><path clip-path=\"url(#clip650)\" d=\"M597.469 1207.78 Q600.825 1208.49 602.7 1210.76 Q604.598 1213.03 604.598 1216.36 Q604.598 1221.48 601.08 1224.28 Q597.561 1227.08 591.08 1227.08 Q588.904 1227.08 586.589 1226.64 Q584.297 1226.22 581.844 1225.37 L581.844 1220.85 Q583.788 1221.99 586.103 1222.57 Q588.418 1223.15 590.941 1223.15 Q595.339 1223.15 597.631 1221.41 Q599.945 1219.67 599.945 1216.36 Q599.945 1213.31 597.793 1211.59 Q595.663 1209.86 591.844 1209.86 L587.816 1209.86 L587.816 1206.02 L592.029 1206.02 Q595.478 1206.02 597.307 1204.65 Q599.135 1203.26 599.135 1200.67 Q599.135 1198.01 597.237 1196.59 Q595.362 1195.16 591.844 1195.16 Q589.922 1195.16 587.723 1195.58 Q585.524 1195.99 582.885 1196.87 L582.885 1192.71 Q585.547 1191.97 587.862 1191.59 Q590.2 1191.22 592.26 1191.22 Q597.584 1191.22 600.686 1193.65 Q603.788 1196.06 603.788 1200.18 Q603.788 1203.05 602.144 1205.04 Q600.501 1207.01 597.469 1207.78 Z\" fill=\"#000000\" fill-rule=\"evenodd\" fill-opacity=\"1\" /><path clip-path=\"url(#clip650)\" d=\"M623.464 1194.93 Q619.853 1194.93 618.024 1198.49 Q616.218 1202.03 616.218 1209.16 Q616.218 1216.27 618.024 1219.84 Q619.853 1223.38 623.464 1223.38 Q627.098 1223.38 628.904 1219.84 Q630.732 1216.27 630.732 1209.16 Q630.732 1202.03 628.904 1198.49 Q627.098 1194.93 623.464 1194.93 M623.464 1191.22 Q629.274 1191.22 632.329 1195.83 Q635.408 1200.41 635.408 1209.16 Q635.408 1217.89 632.329 1222.5 Q629.274 1227.08 623.464 1227.08 Q617.654 1227.08 614.575 1222.5 Q611.519 1217.89 611.519 1209.16 Q611.519 1200.41 614.575 1195.83 Q617.654 1191.22 623.464 1191.22 Z\" fill=\"#000000\" fill-rule=\"evenodd\" fill-opacity=\"1\" /><path clip-path=\"url(#clip650)\" d=\"M656.473 1195.92 L644.667 1214.37 L656.473 1214.37 L656.473 1195.92 M655.246 1191.85 L661.126 1191.85 L661.126 1214.37 L666.056 1214.37 L666.056 1218.26 L661.126 1218.26 L661.126 1226.41 L656.473 1226.41 L656.473 1218.26 L640.871 1218.26 L640.871 1213.75 L655.246 1191.85 Z\" fill=\"#000000\" fill-rule=\"evenodd\" fill-opacity=\"1\" /><path clip-path=\"url(#clip650)\" d=\"M687.954 1207.78 Q691.311 1208.49 693.186 1210.76 Q695.084 1213.03 695.084 1216.36 Q695.084 1221.48 691.565 1224.28 Q688.047 1227.08 681.565 1227.08 Q679.389 1227.08 677.075 1226.64 Q674.783 1226.22 672.329 1225.37 L672.329 1220.85 Q674.274 1221.99 676.588 1222.57 Q678.903 1223.15 681.426 1223.15 Q685.825 1223.15 688.116 1221.41 Q690.431 1219.67 690.431 1216.36 Q690.431 1213.31 688.278 1211.59 Q686.149 1209.86 682.329 1209.86 L678.301 1209.86 L678.301 1206.02 L682.514 1206.02 Q685.963 1206.02 687.792 1204.65 Q689.621 1203.26 689.621 1200.67 Q689.621 1198.01 687.723 1196.59 Q685.848 1195.16 682.329 1195.16 Q680.408 1195.16 678.209 1195.58 Q676.01 1195.99 673.371 1196.87 L673.371 1192.71 Q676.033 1191.97 678.348 1191.59 Q680.686 1191.22 682.746 1191.22 Q688.07 1191.22 691.172 1193.65 Q694.274 1196.06 694.274 1200.18 Q694.274 1203.05 692.63 1205.04 Q690.987 1207.01 687.954 1207.78 Z\" fill=\"#000000\" fill-rule=\"evenodd\" fill-opacity=\"1\" /><path clip-path=\"url(#clip650)\" d=\"M732.121 1200.95 L721.542 1211.57 L732.121 1222.15 L729.366 1224.95 L718.741 1214.33 L708.116 1224.95 L705.385 1222.15 L715.94 1211.57 L705.385 1200.95 L708.116 1198.15 L718.741 1208.77 L729.366 1198.15 L732.121 1200.95 Z\" fill=\"#000000\" fill-rule=\"evenodd\" fill-opacity=\"1\" /><path clip-path=\"url(#clip650)\" d=\"M744.482 1222.47 L752.12 1222.47 L752.12 1196.11 L743.81 1197.78 L743.81 1193.52 L752.074 1191.85 L756.75 1191.85 L756.75 1222.47 L764.389 1222.47 L764.389 1226.41 L744.482 1226.41 L744.482 1222.47 Z\" fill=\"#000000\" fill-rule=\"evenodd\" fill-opacity=\"1\" /><path clip-path=\"url(#clip650)\" d=\"M783.833 1194.93 Q780.222 1194.93 778.393 1198.49 Q776.588 1202.03 776.588 1209.16 Q776.588 1216.27 778.393 1219.84 Q780.222 1223.38 783.833 1223.38 Q787.468 1223.38 789.273 1219.84 Q791.102 1216.27 791.102 1209.16 Q791.102 1202.03 789.273 1198.49 Q787.468 1194.93 783.833 1194.93 M783.833 1191.22 Q789.643 1191.22 792.699 1195.83 Q795.778 1200.41 795.778 1209.16 Q795.778 1217.89 792.699 1222.5 Q789.643 1227.08 783.833 1227.08 Q778.023 1227.08 774.944 1222.5 Q771.889 1217.89 771.889 1209.16 Q771.889 1200.41 774.944 1195.83 Q778.023 1191.22 783.833 1191.22 Z\" fill=\"#000000\" fill-rule=\"evenodd\" fill-opacity=\"1\" /><path clip-path=\"url(#clip650)\" d=\"M795.778 1185.33 L819.889 1185.33 L819.889 1188.52 L795.778 1188.52 L795.778 1185.33 Z\" fill=\"#000000\" fill-rule=\"evenodd\" fill-opacity=\"1\" /><path clip-path=\"url(#clip650)\" d=\"M831.362 1195.8 L844.621 1195.8 L844.621 1199 L826.792 1199 L826.792 1195.8 Q828.955 1193.56 832.679 1189.8 Q836.421 1186.02 837.38 1184.93 Q839.205 1182.88 839.92 1181.47 Q840.653 1180.04 840.653 1178.67 Q840.653 1176.43 839.073 1175.02 Q837.512 1173.61 834.992 1173.61 Q833.205 1173.61 831.212 1174.23 Q829.237 1174.85 826.98 1176.11 L826.98 1172.27 Q829.274 1171.35 831.268 1170.88 Q833.262 1170.41 834.917 1170.41 Q839.28 1170.41 841.876 1172.59 Q844.471 1174.77 844.471 1178.42 Q844.471 1180.15 843.813 1181.71 Q843.173 1183.26 841.462 1185.36 Q840.992 1185.91 838.471 1188.52 Q835.951 1191.12 831.362 1195.8 Z\" fill=\"#000000\" fill-rule=\"evenodd\" fill-opacity=\"1\" /><path clip-path=\"url(#clip650)\" d=\"M853.254 1195.8 L859.461 1195.8 L859.461 1174.38 L852.709 1175.73 L852.709 1172.27 L859.423 1170.92 L863.222 1170.92 L863.222 1195.8 L869.429 1195.8 L869.429 1199 L853.254 1199 L853.254 1195.8 Z\" fill=\"#000000\" fill-rule=\"evenodd\" fill-opacity=\"1\" /><path clip-path=\"url(#clip650)\" d=\"M377.956 969.714 L407.632 969.714 L407.632 973.649 L377.956 973.649 L377.956 969.714 Z\" fill=\"#000000\" fill-rule=\"evenodd\" fill-opacity=\"1\" /><path clip-path=\"url(#clip650)\" d=\"M427.724 970.13 Q424.391 970.13 422.469 971.913 Q420.571 973.695 420.571 976.82 Q420.571 979.945 422.469 981.727 Q424.391 983.51 427.724 983.51 Q431.057 983.51 432.979 981.727 Q434.9 979.922 434.9 976.82 Q434.9 973.695 432.979 971.913 Q431.081 970.13 427.724 970.13 M423.048 968.139 Q420.039 967.399 418.349 965.339 Q416.682 963.278 416.682 960.315 Q416.682 956.172 419.622 953.765 Q422.585 951.357 427.724 951.357 Q432.886 951.357 435.826 953.765 Q438.766 956.172 438.766 960.315 Q438.766 963.278 437.076 965.339 Q435.409 967.399 432.423 968.139 Q435.803 968.926 437.678 971.218 Q439.576 973.51 439.576 976.82 Q439.576 981.843 436.497 984.528 Q433.442 987.213 427.724 987.213 Q422.007 987.213 418.928 984.528 Q415.872 981.843 415.872 976.82 Q415.872 973.51 417.77 971.218 Q419.669 968.926 423.048 968.139 M421.335 960.755 Q421.335 963.44 423.002 964.945 Q424.692 966.45 427.724 966.45 Q430.733 966.45 432.423 964.945 Q434.136 963.44 434.136 960.755 Q434.136 958.07 432.423 956.565 Q430.733 955.061 427.724 955.061 Q424.692 955.061 423.002 956.565 Q421.335 958.07 421.335 960.755 Z\" fill=\"#000000\" fill-rule=\"evenodd\" fill-opacity=\"1\" /><path clip-path=\"url(#clip650)\" d=\"M447.886 980.663 L452.77 980.663 L452.77 986.542 L447.886 986.542 L447.886 980.663 Z\" fill=\"#000000\" fill-rule=\"evenodd\" fill-opacity=\"1\" /><path clip-path=\"url(#clip650)\" d=\"M472.955 955.061 Q469.344 955.061 467.516 958.626 Q465.71 962.167 465.71 969.297 Q465.71 976.403 467.516 979.968 Q469.344 983.51 472.955 983.51 Q476.59 983.51 478.395 979.968 Q480.224 976.403 480.224 969.297 Q480.224 962.167 478.395 958.626 Q476.59 955.061 472.955 955.061 M472.955 951.357 Q478.765 951.357 481.821 955.964 Q484.9 960.547 484.9 969.297 Q484.9 978.024 481.821 982.63 Q478.765 987.213 472.955 987.213 Q467.145 987.213 464.066 982.63 Q461.011 978.024 461.011 969.297 Q461.011 960.547 464.066 955.964 Q467.145 951.357 472.955 951.357 Z\" fill=\"#000000\" fill-rule=\"evenodd\" fill-opacity=\"1\" /><path clip-path=\"url(#clip650)\" d=\"M493.927 982.607 L501.566 982.607 L501.566 956.241 L493.256 957.908 L493.256 953.649 L501.52 951.982 L506.196 951.982 L506.196 982.607 L513.835 982.607 L513.835 986.542 L493.927 986.542 L493.927 982.607 Z\" fill=\"#000000\" fill-rule=\"evenodd\" fill-opacity=\"1\" /><path clip-path=\"url(#clip650)\" d=\"M533.858 967.399 Q530.71 967.399 528.858 969.551 Q527.029 971.704 527.029 975.454 Q527.029 979.181 528.858 981.357 Q530.71 983.51 533.858 983.51 Q537.006 983.51 538.835 981.357 Q540.686 979.181 540.686 975.454 Q540.686 971.704 538.835 969.551 Q537.006 967.399 533.858 967.399 M543.14 952.746 L543.14 957.005 Q541.381 956.172 539.575 955.732 Q537.793 955.292 536.034 955.292 Q531.404 955.292 528.95 958.417 Q526.52 961.542 526.173 967.862 Q527.538 965.848 529.599 964.783 Q531.659 963.695 534.136 963.695 Q539.344 963.695 542.353 966.866 Q545.385 970.014 545.385 975.454 Q545.385 980.778 542.237 983.996 Q539.089 987.213 533.858 987.213 Q527.862 987.213 524.691 982.63 Q521.52 978.024 521.52 969.297 Q521.52 961.102 525.409 956.241 Q529.298 951.357 535.849 951.357 Q537.608 951.357 539.39 951.704 Q541.196 952.052 543.14 952.746 Z\" fill=\"#000000\" fill-rule=\"evenodd\" fill-opacity=\"1\" /><path clip-path=\"url(#clip650)\" d=\"M564.02 967.399 Q560.872 967.399 559.02 969.551 Q557.191 971.704 557.191 975.454 Q557.191 979.181 559.02 981.357 Q560.872 983.51 564.02 983.51 Q567.168 983.51 568.996 981.357 Q570.848 979.181 570.848 975.454 Q570.848 971.704 568.996 969.551 Q567.168 967.399 564.02 967.399 M573.302 952.746 L573.302 957.005 Q571.543 956.172 569.737 955.732 Q567.955 955.292 566.196 955.292 Q561.566 955.292 559.112 958.417 Q556.682 961.542 556.335 967.862 Q557.7 965.848 559.76 964.783 Q561.821 963.695 564.297 963.695 Q569.506 963.695 572.515 966.866 Q575.547 970.014 575.547 975.454 Q575.547 980.778 572.399 983.996 Q569.251 987.213 564.02 987.213 Q558.024 987.213 554.853 982.63 Q551.682 978.024 551.682 969.297 Q551.682 961.102 555.571 956.241 Q559.459 951.357 566.01 951.357 Q567.77 951.357 569.552 951.704 Q571.358 952.052 573.302 952.746 Z\" fill=\"#000000\" fill-rule=\"evenodd\" fill-opacity=\"1\" /><path clip-path=\"url(#clip650)\" d=\"M594.182 967.399 Q591.033 967.399 589.182 969.551 Q587.353 971.704 587.353 975.454 Q587.353 979.181 589.182 981.357 Q591.033 983.51 594.182 983.51 Q597.33 983.51 599.158 981.357 Q601.01 979.181 601.01 975.454 Q601.01 971.704 599.158 969.551 Q597.33 967.399 594.182 967.399 M603.464 952.746 L603.464 957.005 Q601.705 956.172 599.899 955.732 Q598.117 955.292 596.357 955.292 Q591.728 955.292 589.274 958.417 Q586.844 961.542 586.496 967.862 Q587.862 965.848 589.922 964.783 Q591.982 963.695 594.459 963.695 Q599.668 963.695 602.677 966.866 Q605.709 970.014 605.709 975.454 Q605.709 980.778 602.561 983.996 Q599.413 987.213 594.182 987.213 Q588.186 987.213 585.015 982.63 Q581.844 978.024 581.844 969.297 Q581.844 961.102 585.732 956.241 Q589.621 951.357 596.172 951.357 Q597.932 951.357 599.714 951.704 Q601.519 952.052 603.464 952.746 Z\" fill=\"#000000\" fill-rule=\"evenodd\" fill-opacity=\"1\" /><path clip-path=\"url(#clip650)\" d=\"M626.612 956.056 L614.806 974.505 L626.612 974.505 L626.612 956.056 M625.385 951.982 L631.265 951.982 L631.265 974.505 L636.195 974.505 L636.195 978.394 L631.265 978.394 L631.265 986.542 L626.612 986.542 L626.612 978.394 L611.01 978.394 L611.01 973.88 L625.385 951.982 Z\" fill=\"#000000\" fill-rule=\"evenodd\" fill-opacity=\"1\" /><path clip-path=\"url(#clip650)\" d=\"M647.954 982.607 L664.274 982.607 L664.274 986.542 L642.329 986.542 L642.329 982.607 Q644.991 979.852 649.575 975.223 Q654.181 970.57 655.362 969.227 Q657.607 966.704 658.487 964.968 Q659.39 963.209 659.39 961.519 Q659.39 958.764 657.445 957.028 Q655.524 955.292 652.422 955.292 Q650.223 955.292 647.769 956.056 Q645.339 956.82 642.561 958.371 L642.561 953.649 Q645.385 952.515 647.839 951.936 Q650.292 951.357 652.329 951.357 Q657.7 951.357 660.894 954.042 Q664.089 956.727 664.089 961.218 Q664.089 963.348 663.278 965.269 Q662.491 967.167 660.385 969.76 Q659.806 970.431 656.704 973.649 Q653.603 976.843 647.954 982.607 Z\" fill=\"#000000\" fill-rule=\"evenodd\" fill-opacity=\"1\" /><path clip-path=\"url(#clip650)\" d=\"M678.116 982.607 L694.436 982.607 L694.436 986.542 L672.491 986.542 L672.491 982.607 Q675.153 979.852 679.737 975.223 Q684.343 970.57 685.524 969.227 Q687.769 966.704 688.649 964.968 Q689.551 963.209 689.551 961.519 Q689.551 958.764 687.607 957.028 Q685.686 955.292 682.584 955.292 Q680.385 955.292 677.931 956.056 Q675.501 956.82 672.723 958.371 L672.723 953.649 Q675.547 952.515 678.001 951.936 Q680.454 951.357 682.491 951.357 Q687.862 951.357 691.056 954.042 Q694.25 956.727 694.25 961.218 Q694.25 963.348 693.44 965.269 Q692.653 967.167 690.547 969.76 Q689.968 970.431 686.866 973.649 Q683.764 976.843 678.116 982.607 Z\" fill=\"#000000\" fill-rule=\"evenodd\" fill-opacity=\"1\" /><path clip-path=\"url(#clip650)\" d=\"M732.422 961.079 L721.843 971.704 L732.422 982.283 L729.667 985.084 L719.042 974.459 L708.417 985.084 L705.686 982.283 L716.241 971.704 L705.686 961.079 L708.417 958.278 L719.042 968.903 L729.667 958.278 L732.422 961.079 Z\" fill=\"#000000\" fill-rule=\"evenodd\" fill-opacity=\"1\" /><path clip-path=\"url(#clip650)\" d=\"M744.783 982.607 L752.421 982.607 L752.421 956.241 L744.111 957.908 L744.111 953.649 L752.375 951.982 L757.051 951.982 L757.051 982.607 L764.69 982.607 L764.69 986.542 L744.783 986.542 L744.783 982.607 Z\" fill=\"#000000\" fill-rule=\"evenodd\" fill-opacity=\"1\" /><path clip-path=\"url(#clip650)\" d=\"M784.134 955.061 Q780.523 955.061 778.694 958.626 Q776.889 962.167 776.889 969.297 Q776.889 976.403 778.694 979.968 Q780.523 983.51 784.134 983.51 Q787.768 983.51 789.574 979.968 Q791.403 976.403 791.403 969.297 Q791.403 962.167 789.574 958.626 Q787.768 955.061 784.134 955.061 M784.134 951.357 Q789.944 951.357 793 955.964 Q796.079 960.547 796.079 969.297 Q796.079 978.024 793 982.63 Q789.944 987.213 784.134 987.213 Q778.324 987.213 775.245 982.63 Q772.19 978.024 772.19 969.297 Q772.19 960.547 775.245 955.964 Q778.324 951.357 784.134 951.357 Z\" fill=\"#000000\" fill-rule=\"evenodd\" fill-opacity=\"1\" /><path clip-path=\"url(#clip650)\" d=\"M796.079 945.458 L820.19 945.458 L820.19 948.656 L796.079 948.656 L796.079 945.458 Z\" fill=\"#000000\" fill-rule=\"evenodd\" fill-opacity=\"1\" /><path clip-path=\"url(#clip650)\" d=\"M831.663 955.934 L844.922 955.934 L844.922 959.132 L827.093 959.132 L827.093 955.934 Q829.255 953.696 832.979 949.935 Q836.722 946.154 837.681 945.064 Q839.506 943.013 840.22 941.603 Q840.954 940.173 840.954 938.801 Q840.954 936.562 839.374 935.152 Q837.813 933.741 835.293 933.741 Q833.506 933.741 831.512 934.362 Q829.538 934.983 827.281 936.243 L827.281 932.406 Q829.575 931.484 831.569 931.014 Q833.562 930.544 835.218 930.544 Q839.581 930.544 842.176 932.726 Q844.772 934.907 844.772 938.556 Q844.772 940.286 844.114 941.847 Q843.474 943.39 841.763 945.496 Q841.292 946.042 838.772 948.656 Q836.252 951.251 831.663 955.934 Z\" fill=\"#000000\" fill-rule=\"evenodd\" fill-opacity=\"1\" /><path clip-path=\"url(#clip650)\" d=\"M856.169 955.934 L869.429 955.934 L869.429 959.132 L851.599 959.132 L851.599 955.934 Q853.762 953.696 857.486 949.935 Q861.229 946.154 862.188 945.064 Q864.012 943.013 864.727 941.603 Q865.46 940.173 865.46 938.801 Q865.46 936.562 863.881 935.152 Q862.32 933.741 859.799 933.741 Q858.013 933.741 856.019 934.362 Q854.044 934.983 851.787 936.243 L851.787 932.406 Q854.082 931.484 856.075 931.014 Q858.069 930.544 859.724 930.544 Q864.087 930.544 866.683 932.726 Q869.278 934.907 869.278 938.556 Q869.278 940.286 868.62 941.847 Q867.981 943.39 866.269 945.496 Q865.799 946.042 863.279 948.656 Q860.759 951.251 856.169 955.934 Z\" fill=\"#000000\" fill-rule=\"evenodd\" fill-opacity=\"1\" /><path clip-path=\"url(#clip650)\" d=\"M427.724 730.263 Q424.391 730.263 422.469 732.045 Q420.571 733.828 420.571 736.953 Q420.571 740.078 422.469 741.86 Q424.391 743.642 427.724 743.642 Q431.057 743.642 432.979 741.86 Q434.9 740.054 434.9 736.953 Q434.9 733.828 432.979 732.045 Q431.081 730.263 427.724 730.263 M423.048 728.272 Q420.039 727.531 418.349 725.471 Q416.682 723.411 416.682 720.448 Q416.682 716.305 419.622 713.897 Q422.585 711.49 427.724 711.49 Q432.886 711.49 435.826 713.897 Q438.766 716.305 438.766 720.448 Q438.766 723.411 437.076 725.471 Q435.409 727.531 432.423 728.272 Q435.803 729.059 437.678 731.351 Q439.576 733.642 439.576 736.953 Q439.576 741.976 436.497 744.661 Q433.442 747.346 427.724 747.346 Q422.007 747.346 418.928 744.661 Q415.872 741.976 415.872 736.953 Q415.872 733.642 417.77 731.351 Q419.669 729.059 423.048 728.272 M421.335 720.888 Q421.335 723.573 423.002 725.078 Q424.692 726.582 427.724 726.582 Q430.733 726.582 432.423 725.078 Q434.136 723.573 434.136 720.888 Q434.136 718.203 432.423 716.698 Q430.733 715.194 427.724 715.194 Q424.692 715.194 423.002 716.698 Q421.335 718.203 421.335 720.888 Z\" fill=\"#000000\" fill-rule=\"evenodd\" fill-opacity=\"1\" /><path clip-path=\"url(#clip650)\" d=\"M447.886 740.795 L452.77 740.795 L452.77 746.675 L447.886 746.675 L447.886 740.795 Z\" fill=\"#000000\" fill-rule=\"evenodd\" fill-opacity=\"1\" /><path clip-path=\"url(#clip650)\" d=\"M463.766 742.74 L471.404 742.74 L471.404 716.374 L463.094 718.041 L463.094 713.781 L471.358 712.115 L476.034 712.115 L476.034 742.74 L483.673 742.74 L483.673 746.675 L463.766 746.675 L463.766 742.74 Z\" fill=\"#000000\" fill-rule=\"evenodd\" fill-opacity=\"1\" /><path clip-path=\"url(#clip650)\" d=\"M491.937 712.115 L514.159 712.115 L514.159 714.106 L501.613 746.675 L496.728 746.675 L508.534 716.05 L491.937 716.05 L491.937 712.115 Z\" fill=\"#000000\" fill-rule=\"evenodd\" fill-opacity=\"1\" /><path clip-path=\"url(#clip650)\" d=\"M523.325 712.115 L541.682 712.115 L541.682 716.05 L527.608 716.05 L527.608 724.522 Q528.626 724.175 529.645 724.013 Q530.663 723.828 531.682 723.828 Q537.469 723.828 540.848 726.999 Q544.228 730.17 544.228 735.587 Q544.228 741.166 540.756 744.267 Q537.284 747.346 530.964 747.346 Q528.788 747.346 526.52 746.976 Q524.274 746.605 521.867 745.865 L521.867 741.166 Q523.95 742.3 526.173 742.855 Q528.395 743.411 530.872 743.411 Q534.876 743.411 537.214 741.304 Q539.552 739.198 539.552 735.587 Q539.552 731.976 537.214 729.869 Q534.876 727.763 530.872 727.763 Q528.997 727.763 527.122 728.18 Q525.27 728.596 523.325 729.476 L523.325 712.115 Z\" fill=\"#000000\" fill-rule=\"evenodd\" fill-opacity=\"1\" /><path clip-path=\"url(#clip650)\" d=\"M553.58 745.957 L553.58 741.698 Q555.339 742.531 557.145 742.971 Q558.95 743.411 560.686 743.411 Q565.316 743.411 567.746 740.309 Q570.2 737.184 570.547 730.842 Q569.205 732.832 567.145 733.897 Q565.084 734.962 562.584 734.962 Q557.399 734.962 554.367 731.837 Q551.358 728.689 551.358 723.249 Q551.358 717.925 554.506 714.707 Q557.654 711.49 562.885 711.49 Q568.881 711.49 572.029 716.096 Q575.2 720.68 575.2 729.43 Q575.2 737.601 571.311 742.485 Q567.446 747.346 560.895 747.346 Q559.135 747.346 557.33 746.999 Q555.524 746.652 553.58 745.957 M562.885 731.305 Q566.034 731.305 567.862 729.152 Q569.714 726.999 569.714 723.249 Q569.714 719.522 567.862 717.369 Q566.034 715.194 562.885 715.194 Q559.737 715.194 557.885 717.369 Q556.057 719.522 556.057 723.249 Q556.057 726.999 557.885 729.152 Q559.737 731.305 562.885 731.305 Z\" fill=\"#000000\" fill-rule=\"evenodd\" fill-opacity=\"1\" /><path clip-path=\"url(#clip650)\" d=\"M582.422 712.115 L604.644 712.115 L604.644 714.106 L592.098 746.675 L587.214 746.675 L599.019 716.05 L582.422 716.05 L582.422 712.115 Z\" fill=\"#000000\" fill-rule=\"evenodd\" fill-opacity=\"1\" /><path clip-path=\"url(#clip650)\" d=\"M613.811 712.115 L632.167 712.115 L632.167 716.05 L618.093 716.05 L618.093 724.522 Q619.112 724.175 620.13 724.013 Q621.149 723.828 622.167 723.828 Q627.954 723.828 631.334 726.999 Q634.714 730.17 634.714 735.587 Q634.714 741.166 631.242 744.267 Q627.769 747.346 621.45 747.346 Q619.274 747.346 617.005 746.976 Q614.76 746.605 612.353 745.865 L612.353 741.166 Q614.436 742.3 616.658 742.855 Q618.88 743.411 621.357 743.411 Q625.362 743.411 627.7 741.304 Q630.038 739.198 630.038 735.587 Q630.038 731.976 627.7 729.869 Q625.362 727.763 621.357 727.763 Q619.482 727.763 617.607 728.18 Q615.755 728.596 613.811 729.476 L613.811 712.115 Z\" fill=\"#000000\" fill-rule=\"evenodd\" fill-opacity=\"1\" /><path clip-path=\"url(#clip650)\" d=\"M653.927 730.263 Q650.593 730.263 648.672 732.045 Q646.774 733.828 646.774 736.953 Q646.774 740.078 648.672 741.86 Q650.593 743.642 653.927 743.642 Q657.26 743.642 659.181 741.86 Q661.102 740.054 661.102 736.953 Q661.102 733.828 659.181 732.045 Q657.283 730.263 653.927 730.263 M649.251 728.272 Q646.241 727.531 644.552 725.471 Q642.885 723.411 642.885 720.448 Q642.885 716.305 645.825 713.897 Q648.788 711.49 653.927 711.49 Q659.089 711.49 662.028 713.897 Q664.968 716.305 664.968 720.448 Q664.968 723.411 663.278 725.471 Q661.612 727.531 658.626 728.272 Q662.005 729.059 663.88 731.351 Q665.778 733.642 665.778 736.953 Q665.778 741.976 662.7 744.661 Q659.644 747.346 653.927 747.346 Q648.209 747.346 645.13 744.661 Q642.075 741.976 642.075 736.953 Q642.075 733.642 643.973 731.351 Q645.871 729.059 649.251 728.272 M647.538 720.888 Q647.538 723.573 649.204 725.078 Q650.894 726.582 653.927 726.582 Q656.936 726.582 658.626 725.078 Q660.339 723.573 660.339 720.888 Q660.339 718.203 658.626 716.698 Q656.936 715.194 653.927 715.194 Q650.894 715.194 649.204 716.698 Q647.538 718.203 647.538 720.888 Z\" fill=\"#000000\" fill-rule=\"evenodd\" fill-opacity=\"1\" /><path clip-path=\"url(#clip650)\" d=\"M678.116 742.74 L694.436 742.74 L694.436 746.675 L672.491 746.675 L672.491 742.74 Q675.153 739.985 679.737 735.355 Q684.343 730.703 685.524 729.36 Q687.769 726.837 688.649 725.101 Q689.551 723.342 689.551 721.652 Q689.551 718.897 687.607 717.161 Q685.686 715.425 682.584 715.425 Q680.385 715.425 677.931 716.189 Q675.501 716.953 672.723 718.504 L672.723 713.781 Q675.547 712.647 678.001 712.069 Q680.454 711.49 682.491 711.49 Q687.862 711.49 691.056 714.175 Q694.25 716.86 694.25 721.351 Q694.25 723.481 693.44 725.402 Q692.653 727.3 690.547 729.893 Q689.968 730.564 686.866 733.781 Q683.764 736.976 678.116 742.74 Z\" fill=\"#000000\" fill-rule=\"evenodd\" fill-opacity=\"1\" /><path clip-path=\"url(#clip650)\" d=\"M732.422 721.212 L721.843 731.837 L732.422 742.416 L729.667 745.216 L719.042 734.592 L708.417 745.216 L705.686 742.416 L716.241 731.837 L705.686 721.212 L708.417 718.411 L719.042 729.036 L729.667 718.411 L732.422 721.212 Z\" fill=\"#000000\" fill-rule=\"evenodd\" fill-opacity=\"1\" /><path clip-path=\"url(#clip650)\" d=\"M744.783 742.74 L752.421 742.74 L752.421 716.374 L744.111 718.041 L744.111 713.781 L752.375 712.115 L757.051 712.115 L757.051 742.74 L764.69 742.74 L764.69 746.675 L744.783 746.675 L744.783 742.74 Z\" fill=\"#000000\" fill-rule=\"evenodd\" fill-opacity=\"1\" /><path clip-path=\"url(#clip650)\" d=\"M784.134 715.194 Q780.523 715.194 778.694 718.758 Q776.889 722.3 776.889 729.43 Q776.889 736.536 778.694 740.101 Q780.523 743.642 784.134 743.642 Q787.768 743.642 789.574 740.101 Q791.403 736.536 791.403 729.43 Q791.403 722.3 789.574 718.758 Q787.768 715.194 784.134 715.194 M784.134 711.49 Q789.944 711.49 793 716.096 Q796.079 720.68 796.079 729.43 Q796.079 738.156 793 742.763 Q789.944 747.346 784.134 747.346 Q778.324 747.346 775.245 742.763 Q772.19 738.156 772.19 729.43 Q772.19 720.68 775.245 716.096 Q778.324 711.49 784.134 711.49 Z\" fill=\"#000000\" fill-rule=\"evenodd\" fill-opacity=\"1\" /><path clip-path=\"url(#clip650)\" d=\"M796.079 705.591 L820.19 705.591 L820.19 708.788 L796.079 708.788 L796.079 705.591 Z\" fill=\"#000000\" fill-rule=\"evenodd\" fill-opacity=\"1\" /><path clip-path=\"url(#clip650)\" d=\"M831.663 716.067 L844.922 716.067 L844.922 719.264 L827.093 719.264 L827.093 716.067 Q829.255 713.829 832.979 710.067 Q836.722 706.287 837.681 705.196 Q839.506 703.146 840.22 701.736 Q840.954 700.306 840.954 698.933 Q840.954 696.695 839.374 695.285 Q837.813 693.874 835.293 693.874 Q833.506 693.874 831.512 694.495 Q829.538 695.115 827.281 696.375 L827.281 692.539 Q829.575 691.617 831.569 691.147 Q833.562 690.677 835.218 690.677 Q839.581 690.677 842.176 692.858 Q844.772 695.04 844.772 698.689 Q844.772 700.419 844.114 701.98 Q843.474 703.522 841.763 705.629 Q841.292 706.174 838.772 708.788 Q836.252 711.384 831.663 716.067 Z\" fill=\"#000000\" fill-rule=\"evenodd\" fill-opacity=\"1\" /><path clip-path=\"url(#clip650)\" d=\"M856.169 716.067 L869.429 716.067 L869.429 719.264 L851.599 719.264 L851.599 716.067 Q853.762 713.829 857.486 710.067 Q861.229 706.287 862.188 705.196 Q864.012 703.146 864.727 701.736 Q865.46 700.306 865.46 698.933 Q865.46 696.695 863.881 695.285 Q862.32 693.874 859.799 693.874 Q858.013 693.874 856.019 694.495 Q854.044 695.115 851.787 696.375 L851.787 692.539 Q854.082 691.617 856.075 691.147 Q858.069 690.677 859.724 690.677 Q864.087 690.677 866.683 692.858 Q869.278 695.04 869.278 698.689 Q869.278 700.419 868.62 701.98 Q867.981 703.522 866.269 705.629 Q865.799 706.174 863.279 708.788 Q860.759 711.384 856.169 716.067 Z\" fill=\"#000000\" fill-rule=\"evenodd\" fill-opacity=\"1\" /><path clip-path=\"url(#clip650)\" d=\"M421.451 502.872 L437.77 502.872 L437.77 506.808 L415.826 506.808 L415.826 502.872 Q418.488 500.118 423.071 495.488 Q427.678 490.835 428.858 489.493 Q431.104 486.97 431.983 485.234 Q432.886 483.474 432.886 481.785 Q432.886 479.03 430.942 477.294 Q429.02 475.558 425.919 475.558 Q423.719 475.558 421.266 476.322 Q418.835 477.085 416.057 478.636 L416.057 473.914 Q418.882 472.78 421.335 472.201 Q423.789 471.623 425.826 471.623 Q431.196 471.623 434.391 474.308 Q437.585 476.993 437.585 481.484 Q437.585 483.613 436.775 485.534 Q435.988 487.433 433.881 490.025 Q433.303 490.697 430.201 493.914 Q427.099 497.109 421.451 502.872 Z\" fill=\"#000000\" fill-rule=\"evenodd\" fill-opacity=\"1\" /><path clip-path=\"url(#clip650)\" d=\"M447.585 500.928 L452.469 500.928 L452.469 506.808 L447.585 506.808 L447.585 500.928 Z\" fill=\"#000000\" fill-rule=\"evenodd\" fill-opacity=\"1\" /><path clip-path=\"url(#clip650)\" d=\"M475.502 476.322 L463.696 494.771 L475.502 494.771 L475.502 476.322 M474.275 472.248 L480.154 472.248 L480.154 494.771 L485.085 494.771 L485.085 498.659 L480.154 498.659 L480.154 506.808 L475.502 506.808 L475.502 498.659 L459.9 498.659 L459.9 494.146 L474.275 472.248 Z\" fill=\"#000000\" fill-rule=\"evenodd\" fill-opacity=\"1\" /><path clip-path=\"url(#clip650)\" d=\"M506.983 488.173 Q510.339 488.891 512.214 491.159 Q514.113 493.428 514.113 496.761 Q514.113 501.877 510.594 504.678 Q507.076 507.479 500.594 507.479 Q498.418 507.479 496.103 507.039 Q493.812 506.622 491.358 505.766 L491.358 501.252 Q493.302 502.386 495.617 502.965 Q497.932 503.544 500.455 503.544 Q504.853 503.544 507.145 501.808 Q509.46 500.071 509.46 496.761 Q509.46 493.706 507.307 491.993 Q505.177 490.257 501.358 490.257 L497.33 490.257 L497.33 486.414 L501.543 486.414 Q504.992 486.414 506.821 485.048 Q508.65 483.66 508.65 481.067 Q508.65 478.405 506.751 476.993 Q504.876 475.558 501.358 475.558 Q499.437 475.558 497.238 475.974 Q495.039 476.391 492.4 477.271 L492.4 473.104 Q495.062 472.363 497.376 471.993 Q499.714 471.623 501.775 471.623 Q507.099 471.623 510.2 474.053 Q513.302 476.46 513.302 480.581 Q513.302 483.451 511.659 485.442 Q510.015 487.409 506.983 488.173 Z\" fill=\"#000000\" fill-rule=\"evenodd\" fill-opacity=\"1\" /><path clip-path=\"url(#clip650)\" d=\"M533.557 487.664 Q530.409 487.664 528.557 489.817 Q526.728 491.97 526.728 495.72 Q526.728 499.446 528.557 501.622 Q530.409 503.775 533.557 503.775 Q536.705 503.775 538.534 501.622 Q540.386 499.446 540.386 495.72 Q540.386 491.97 538.534 489.817 Q536.705 487.664 533.557 487.664 M542.839 473.011 L542.839 477.271 Q541.08 476.437 539.274 475.998 Q537.492 475.558 535.733 475.558 Q531.103 475.558 528.649 478.683 Q526.219 481.808 525.872 488.127 Q527.237 486.113 529.298 485.048 Q531.358 483.96 533.835 483.96 Q539.043 483.96 542.052 487.132 Q545.085 490.28 545.085 495.72 Q545.085 501.044 541.936 504.261 Q538.788 507.479 533.557 507.479 Q527.562 507.479 524.39 502.896 Q521.219 498.289 521.219 489.562 Q521.219 481.368 525.108 476.507 Q528.997 471.623 535.548 471.623 Q537.307 471.623 539.089 471.97 Q540.895 472.317 542.839 473.011 Z\" fill=\"#000000\" fill-rule=\"evenodd\" fill-opacity=\"1\" /><path clip-path=\"url(#clip650)\" d=\"M563.14 490.396 Q559.807 490.396 557.885 492.178 Q555.987 493.96 555.987 497.085 Q555.987 500.21 557.885 501.993 Q559.807 503.775 563.14 503.775 Q566.473 503.775 568.395 501.993 Q570.316 500.187 570.316 497.085 Q570.316 493.96 568.395 492.178 Q566.496 490.396 563.14 490.396 M558.464 488.405 Q555.455 487.664 553.765 485.604 Q552.098 483.544 552.098 480.581 Q552.098 476.437 555.038 474.03 Q558.001 471.623 563.14 471.623 Q568.302 471.623 571.242 474.03 Q574.182 476.437 574.182 480.581 Q574.182 483.544 572.492 485.604 Q570.825 487.664 567.839 488.405 Q571.219 489.192 573.094 491.484 Q574.992 493.775 574.992 497.085 Q574.992 502.108 571.913 504.794 Q568.858 507.479 563.14 507.479 Q557.422 507.479 554.344 504.794 Q551.288 502.108 551.288 497.085 Q551.288 493.775 553.186 491.484 Q555.085 489.192 558.464 488.405 M556.751 481.021 Q556.751 483.706 558.418 485.21 Q560.108 486.715 563.14 486.715 Q566.149 486.715 567.839 485.21 Q569.552 483.706 569.552 481.021 Q569.552 478.335 567.839 476.831 Q566.149 475.326 563.14 475.326 Q560.108 475.326 558.418 476.831 Q556.751 478.335 556.751 481.021 Z\" fill=\"#000000\" fill-rule=\"evenodd\" fill-opacity=\"1\" /><path clip-path=\"url(#clip650)\" d=\"M593.881 487.664 Q590.732 487.664 588.881 489.817 Q587.052 491.97 587.052 495.72 Q587.052 499.446 588.881 501.622 Q590.732 503.775 593.881 503.775 Q597.029 503.775 598.857 501.622 Q600.709 499.446 600.709 495.72 Q600.709 491.97 598.857 489.817 Q597.029 487.664 593.881 487.664 M603.163 473.011 L603.163 477.271 Q601.404 476.437 599.598 475.998 Q597.816 475.558 596.057 475.558 Q591.427 475.558 588.973 478.683 Q586.543 481.808 586.195 488.127 Q587.561 486.113 589.621 485.048 Q591.682 483.96 594.158 483.96 Q599.367 483.96 602.376 487.132 Q605.408 490.28 605.408 495.72 Q605.408 501.044 602.26 504.261 Q599.112 507.479 593.881 507.479 Q587.885 507.479 584.714 502.896 Q581.543 498.289 581.543 489.562 Q581.543 481.368 585.432 476.507 Q589.32 471.623 595.871 471.623 Q597.631 471.623 599.413 471.97 Q601.219 472.317 603.163 473.011 Z\" fill=\"#000000\" fill-rule=\"evenodd\" fill-opacity=\"1\" /><path clip-path=\"url(#clip650)\" d=\"M614.274 502.872 L621.913 502.872 L621.913 476.507 L613.603 478.173 L613.603 473.914 L621.867 472.248 L626.542 472.248 L626.542 502.872 L634.181 502.872 L634.181 506.808 L614.274 506.808 L614.274 502.872 Z\" fill=\"#000000\" fill-rule=\"evenodd\" fill-opacity=\"1\" /><path clip-path=\"url(#clip650)\" d=\"M643.672 472.248 L662.028 472.248 L662.028 476.183 L647.954 476.183 L647.954 484.655 Q648.973 484.308 649.991 484.146 Q651.01 483.96 652.028 483.96 Q657.815 483.96 661.195 487.132 Q664.575 490.303 664.575 495.72 Q664.575 501.298 661.102 504.4 Q657.63 507.479 651.311 507.479 Q649.135 507.479 646.866 507.108 Q644.621 506.738 642.214 505.997 L642.214 501.298 Q644.297 502.433 646.519 502.988 Q648.741 503.544 651.218 503.544 Q655.223 503.544 657.561 501.437 Q659.899 499.331 659.899 495.72 Q659.899 492.109 657.561 490.002 Q655.223 487.896 651.218 487.896 Q649.343 487.896 647.468 488.312 Q645.616 488.729 643.672 489.609 L643.672 472.248 Z\" fill=\"#000000\" fill-rule=\"evenodd\" fill-opacity=\"1\" /><path clip-path=\"url(#clip650)\" d=\"M673.926 506.09 L673.926 501.831 Q675.686 502.664 677.491 503.104 Q679.297 503.544 681.033 503.544 Q685.663 503.544 688.093 500.442 Q690.547 497.317 690.894 490.974 Q689.551 492.965 687.491 494.03 Q685.431 495.095 682.931 495.095 Q677.746 495.095 674.713 491.97 Q671.704 488.822 671.704 483.382 Q671.704 478.058 674.852 474.84 Q678.001 471.623 683.232 471.623 Q689.227 471.623 692.375 476.229 Q695.547 480.812 695.547 489.562 Q695.547 497.734 691.658 502.618 Q687.792 507.479 681.241 507.479 Q679.482 507.479 677.676 507.132 Q675.871 506.784 673.926 506.09 M683.232 491.437 Q686.38 491.437 688.209 489.284 Q690.061 487.132 690.061 483.382 Q690.061 479.655 688.209 477.502 Q686.38 475.326 683.232 475.326 Q680.084 475.326 678.232 477.502 Q676.403 479.655 676.403 483.382 Q676.403 487.132 678.232 489.284 Q680.084 491.437 683.232 491.437 Z\" fill=\"#000000\" fill-rule=\"evenodd\" fill-opacity=\"1\" /><path clip-path=\"url(#clip650)\" d=\"M732.121 481.345 L721.542 491.97 L732.121 502.548 L729.366 505.349 L718.741 494.724 L708.116 505.349 L705.385 502.548 L715.94 491.97 L705.385 481.345 L708.116 478.544 L718.741 489.169 L729.366 478.544 L732.121 481.345 Z\" fill=\"#000000\" fill-rule=\"evenodd\" fill-opacity=\"1\" /><path clip-path=\"url(#clip650)\" d=\"M744.482 502.872 L752.12 502.872 L752.12 476.507 L743.81 478.173 L743.81 473.914 L752.074 472.248 L756.75 472.248 L756.75 502.872 L764.389 502.872 L764.389 506.808 L744.482 506.808 L744.482 502.872 Z\" fill=\"#000000\" fill-rule=\"evenodd\" fill-opacity=\"1\" /><path clip-path=\"url(#clip650)\" d=\"M783.833 475.326 Q780.222 475.326 778.393 478.891 Q776.588 482.433 776.588 489.562 Q776.588 496.669 778.393 500.233 Q780.222 503.775 783.833 503.775 Q787.468 503.775 789.273 500.233 Q791.102 496.669 791.102 489.562 Q791.102 482.433 789.273 478.891 Q787.468 475.326 783.833 475.326 M783.833 471.623 Q789.643 471.623 792.699 476.229 Q795.778 480.812 795.778 489.562 Q795.778 498.289 792.699 502.896 Q789.643 507.479 783.833 507.479 Q778.023 507.479 774.944 502.896 Q771.889 498.289 771.889 489.562 Q771.889 480.812 774.944 476.229 Q778.023 471.623 783.833 471.623 Z\" fill=\"#000000\" fill-rule=\"evenodd\" fill-opacity=\"1\" /><path clip-path=\"url(#clip650)\" d=\"M795.778 465.724 L819.889 465.724 L819.889 468.921 L795.778 468.921 L795.778 465.724 Z\" fill=\"#000000\" fill-rule=\"evenodd\" fill-opacity=\"1\" /><path clip-path=\"url(#clip650)\" d=\"M831.362 476.2 L844.621 476.2 L844.621 479.397 L826.792 479.397 L826.792 476.2 Q828.955 473.962 832.679 470.2 Q836.421 466.42 837.38 465.329 Q839.205 463.279 839.92 461.868 Q840.653 460.439 840.653 459.066 Q840.653 456.828 839.073 455.417 Q837.512 454.007 834.992 454.007 Q833.205 454.007 831.212 454.627 Q829.237 455.248 826.98 456.508 L826.98 452.671 Q829.274 451.75 831.268 451.28 Q833.262 450.809 834.917 450.809 Q839.28 450.809 841.876 452.991 Q844.471 455.173 844.471 458.821 Q844.471 460.552 843.813 462.113 Q843.173 463.655 841.462 465.761 Q840.992 466.307 838.471 468.921 Q835.951 471.517 831.362 476.2 Z\" fill=\"#000000\" fill-rule=\"evenodd\" fill-opacity=\"1\" /><path clip-path=\"url(#clip650)\" d=\"M853.254 476.2 L859.461 476.2 L859.461 454.778 L852.709 456.132 L852.709 452.671 L859.423 451.317 L863.222 451.317 L863.222 476.2 L869.429 476.2 L869.429 479.397 L853.254 479.397 L853.254 476.2 Z\" fill=\"#000000\" fill-rule=\"evenodd\" fill-opacity=\"1\" /><polyline clip-path=\"url(#clip652)\" style=\"stroke:#009af9; stroke-linecap:round; stroke-linejoin:round; stroke-width:4; stroke-opacity:1; fill:none\" points=\"\n",
       "  1599.95,640.997 1473.72,627.366 1346.33,627.672 1231.25,641.507 1141.18,667.538 1086.64,703.26 1074.57,745.636 1107.17,791.006 1181.32,835.381 1288.73,872.661 \n",
       "  1416.85,900.463 1550.57,916.557 1674.2,930.583 1773.61,912.107 1837.97,884.581 1860.89,844.853 1840.81,768.794 1787.49,698.532 1756.34,683.505 1755.96,683.37 \n",
       "  1755.58,683.218 1755.2,683.042 1754.81,682.878 1754.43,682.715 1754.05,682.554 1753.66,682.392 1753.28,682.231 1752.89,682.07 1752.51,681.909 1752.12,681.748 \n",
       "  1751.73,681.588 1751.34,681.425 1750.96,681.251 1750.57,681.103 1750.18,680.943 1749.79,680.788 1749.4,680.619 1749.01,680.459 1748.61,680.312 1748.22,680.157 \n",
       "  1747.83,679.993 1747.44,679.835 1747.04,679.675 1746.65,679.522 1746.25,679.364 1745.86,679.207 1745.46,679.058 1745.06,678.916 1711.97,667.648 1599.95,640.997 \n",
       "  \n",
       "  \"/>\n",
       "<path clip-path=\"url(#clip650)\" d=\"\n",
       "M637.899 1438.47 L867.728 1438.47 L867.728 1334.79 L637.899 1334.79  Z\n",
       "  \" fill=\"#ffffff\" fill-rule=\"evenodd\" fill-opacity=\"1\"/>\n",
       "<polyline clip-path=\"url(#clip650)\" style=\"stroke:#000000; stroke-linecap:round; stroke-linejoin:round; stroke-width:4; stroke-opacity:1; fill:none\" points=\"\n",
       "  637.899,1438.47 867.728,1438.47 867.728,1334.79 637.899,1334.79 637.899,1438.47 \n",
       "  \"/>\n",
       "<polyline clip-path=\"url(#clip650)\" style=\"stroke:#009af9; stroke-linecap:round; stroke-linejoin:round; stroke-width:4; stroke-opacity:1; fill:none\" points=\"\n",
       "  657.61,1386.63 775.876,1386.63 \n",
       "  \"/>\n",
       "<path clip-path=\"url(#clip650)\" d=\"M809.43 1406.32 Q807.624 1410.95 805.911 1412.36 Q804.198 1413.78 801.328 1413.78 L797.925 1413.78 L797.925 1410.21 L800.425 1410.21 Q802.184 1410.21 803.156 1409.38 Q804.129 1408.54 805.309 1405.44 L806.073 1403.5 L795.587 1377.99 L800.101 1377.99 L808.203 1398.27 L816.305 1377.99 L820.818 1377.99 L809.43 1406.32 Z\" fill=\"#000000\" fill-rule=\"evenodd\" fill-opacity=\"1\" /><path clip-path=\"url(#clip650)\" d=\"M828.11 1399.98 L835.749 1399.98 L835.749 1373.61 L827.439 1375.28 L827.439 1371.02 L835.703 1369.35 L840.379 1369.35 L840.379 1399.98 L848.017 1399.98 L848.017 1403.91 L828.11 1403.91 L828.11 1399.98 Z\" fill=\"#000000\" fill-rule=\"evenodd\" fill-opacity=\"1\" /></svg>\n"
      ]
     },
     "execution_count": 56,
     "metadata": {},
     "output_type": "execute_result"
    }
   ],
   "source": [
    "plot(ztraj[1,:], ztraj[2,:], ztraj[3,:])"
   ]
  },
  {
   "cell_type": "code",
   "execution_count": 74,
   "id": "1cdcea3b",
   "metadata": {},
   "outputs": [
    {
     "name": "stdout",
     "output_type": "stream",
     "text": [
      "0.00026612390119354454"
     ]
    },
    {
     "data": {
      "text/plain": [
       "2592"
      ]
     },
     "execution_count": 74,
     "metadata": {},
     "output_type": "execute_result"
    }
   ],
   "source": [
    "#parameters for the Earth Moon system \n",
    "\n",
    "μ = 1.215e-2 #gravitational parameter\n",
    "μ1 = 1-μ\n",
    "μ2 = μ\n",
    "\n",
    "pose_m1 = [-μ, 0, 0]\n",
    "pose_m2 = [1-μ, 0, 0]\n",
    "\n",
    "L = 3.850e5 #in km - distance between centers of m1 and m2\n",
    "V = 1.025 #in km/s - orbital velocity of m1\n",
    "T = 2.361e6 #in seconds - orbital period of m1 and m2\n",
    "\n",
    "h_s = 100 #time step for RK4 in seconds # original 10 seconds\n",
    "h_v = 100 #original 10 seconds\n",
    "\n",
    "time_scale = T/(2*pi)\n",
    "\n",
    "h_rk4 = h_s/time_scale #non dimensionalized time\n",
    "print(h_rk4)\n",
    "\n",
    "h_var = h_v/time_scale\n",
    "\n",
    "one_min = 60/h_s #number of timesteps for 1 minute\n",
    "min_day = 1440 #number of minutes this is a day\n",
    "num_days = 3 # 6 days original\n",
    "t_f=num_days*min_day \n",
    "N = Int(one_min*t_f) #time steps for duration"
   ]
  },
  {
   "cell_type": "code",
   "execution_count": 69,
   "id": "c0c4a026",
   "metadata": {},
   "outputs": [
    {
     "data": {
      "text/plain": [
       "potential_energy (generic function with 1 method)"
      ]
     },
     "execution_count": 69,
     "metadata": {},
     "output_type": "execute_result"
    }
   ],
   "source": [
    "function potential_energy(X)\n",
    "    \n",
    "     x = X[1]\n",
    "     y = X[2]\n",
    "     z = X[3]\n",
    "    \n",
    "    \n",
    "     r1 = sqrt((x+μ2)^2 + y^2 + z^2) \n",
    "     r2 = sqrt((x-μ1)^2 + y^2 + z^2)\n",
    "     #assuming m3 is unit mass\n",
    "    \n",
    "     U = (-μ1/r1)-(μ2/r2)-0.5*(μ1*μ2)\n",
    "    \n",
    "     return U\n",
    "end"
   ]
  },
  {
   "cell_type": "code",
   "execution_count": 70,
   "id": "40003070",
   "metadata": {},
   "outputs": [
    {
     "data": {
      "text/plain": [
       "effective_potential (generic function with 1 method)"
      ]
     },
     "execution_count": 70,
     "metadata": {},
     "output_type": "execute_result"
    }
   ],
   "source": [
    "function effective_potential(X)\n",
    "    \n",
    "     x = X[1]\n",
    "     y = X[2]\n",
    "     z = X[3]\n",
    "    \n",
    "    \n",
    "     #r1 = sqrt((x+μ2)^2 + y^2) \n",
    "     #r2 = sqrt((x-μ1)^2 + y^2)\n",
    "    \n",
    "    r1 = sqrt((x+μ2)^2 + y^2+z^2) \n",
    "    r2 = sqrt((x-μ1)^2 + y^2+z^2)\n",
    "     #assuming m3 is unit mass\n",
    "    \n",
    "    #U = (-μ1/r1)-(μ2/r2)-0.5*(x^2+y^2)\n",
    "    #U = (-μ1/r1)-(μ2/r2)-0.5*(μ1*x^2+μ2*y^2)\n",
    "    \n",
    "    U = (-μ1/r1)-(μ2/r2)-0.5*(μ1*r1^2+μ2*r2^2) # working\n",
    "    \n",
    "     return U\n",
    "end"
   ]
  },
  {
   "cell_type": "code",
   "execution_count": 71,
   "id": "5b29e2e3",
   "metadata": {},
   "outputs": [
    {
     "data": {
      "text/plain": [
       "three_body_prob_dynamics (generic function with 1 method)"
      ]
     },
     "execution_count": 71,
     "metadata": {},
     "output_type": "execute_result"
    }
   ],
   "source": [
    "#derivation for rotating\n",
    "function three_body_prob_dynamics(x)\n",
    "        \n",
    "    q = x[1:3]\n",
    "    v = x[4:6]\n",
    "    a = zeros(3)\n",
    "    \n",
    "    U_q = (ForwardDiff.gradient(_x -> effective_potential(_x), q))\n",
    "        \n",
    "    a[1] = 2*v[2] - U_q[1]\n",
    "    a[2] = -2*v[1] - U_q[2]\n",
    "    a[3] = -U_q[3]\n",
    "    \n",
    "    ẋ = [v; a] #x dot is velocity and acceleration\n",
    "    \n",
    "    return ẋ\n",
    "end\n"
   ]
  },
  {
   "cell_type": "code",
   "execution_count": 72,
   "id": "5253cef8",
   "metadata": {},
   "outputs": [
    {
     "data": {
      "text/plain": [
       "RK4_satellite_potential (generic function with 1 method)"
      ]
     },
     "execution_count": 72,
     "metadata": {},
     "output_type": "execute_result"
    }
   ],
   "source": [
    "function RK4_satellite_potential(x)\n",
    "\n",
    "    f1 = three_body_prob_dynamics(x)\n",
    "    f2 = three_body_prob_dynamics(x+0.5*h_rk4*f1)\n",
    "    f3 = three_body_prob_dynamics(x+0.5*h_rk4*f2)\n",
    "    f4 = three_body_prob_dynamics(x+h_rk4*f3)\n",
    "    \n",
    "    #forward in time\n",
    "    xnext = x+(h_rk4/6.0)*(f1+2*f2+2*f3+f4)\n",
    "    \n",
    "    #backward in time\n",
    "    #xnext = x-(h_rk4/6.0)*(f1+2*f2+2*f3+f4)\n",
    "    \n",
    "    return xnext\n",
    "    \n",
    "end"
   ]
  },
  {
   "cell_type": "code",
   "execution_count": null,
   "id": "1627c2ae",
   "metadata": {},
   "outputs": [],
   "source": [
    "points_num = size(ztraj)[2]"
   ]
  },
  {
   "cell_type": "code",
   "execution_count": null,
   "id": "66ef48e6",
   "metadata": {},
   "outputs": [],
   "source": [
    "unstable_manifolds = [zeros(6,N) for i = 1:points_num]"
   ]
  },
  {
   "cell_type": "code",
   "execution_count": 67,
   "id": "c20a657f",
   "metadata": {},
   "outputs": [
    {
     "data": {
      "text/plain": [
       "6-element Vector{Float64}:\n",
       " -2.9661934991311503\n",
       " -1.1102230246251565e-16\n",
       " -1.1102230246251565e-16\n",
       "  0.0\n",
       "  0.0\n",
       "  2.96619349913115"
      ]
     },
     "metadata": {},
     "output_type": "display_data"
    },
    {
     "data": {
      "text/plain": [
       "6-element Vector{Float64}:\n",
       " -2.952368883309114\n",
       "  4.336808689942018e-19\n",
       "  4.336808689942018e-19\n",
       "  1.6653345369377348e-16\n",
       "  1.6653345369377348e-16\n",
       "  2.9523688833091137"
      ]
     },
     "metadata": {},
     "output_type": "display_data"
    },
    {
     "data": {
      "text/plain": [
       "6-element Vector{Float64}:\n",
       " -2.9366937953613435\n",
       "  0.0\n",
       "  0.0\n",
       "  1.8041124150158794e-16\n",
       "  1.8041124150158794e-16\n",
       "  2.936693795361344"
      ]
     },
     "metadata": {},
     "output_type": "display_data"
    },
    {
     "data": {
      "text/plain": [
       "6-element Vector{Float64}:\n",
       " -2.9213348721462413\n",
       " -3.3306690738754696e-16\n",
       " -3.3306690738754696e-16\n",
       "  0.0\n",
       "  0.0\n",
       "  2.921334872146241"
      ]
     },
     "metadata": {},
     "output_type": "display_data"
    },
    {
     "data": {
      "text/plain": [
       "6-element Vector{Float64}:\n",
       " -2.90799050156825\n",
       "  0.0\n",
       "  0.0\n",
       "  0.0\n",
       "  0.0\n",
       "  2.9079905015682503"
      ]
     },
     "metadata": {},
     "output_type": "display_data"
    },
    {
     "data": {
      "text/plain": [
       "6-element Vector{Float64}:\n",
       " -2.8977285205627745\n",
       " -3.885780586188048e-16\n",
       " -3.885780586188048e-16\n",
       " -2.6020852139652106e-18\n",
       " -2.6020852139652106e-18\n",
       "  2.8977285205627745"
      ]
     },
     "metadata": {},
     "output_type": "display_data"
    },
    {
     "data": {
      "text/plain": [
       "6-element Vector{Float64}:\n",
       " -2.891057369720498\n",
       " -1.1102230246251565e-16\n",
       " -1.1102230246251565e-16\n",
       "  0.0\n",
       "  0.0\n",
       "  2.891057369720498"
      ]
     },
     "metadata": {},
     "output_type": "display_data"
    },
    {
     "data": {
      "text/plain": [
       "6-element Vector{Float64}:\n",
       " -2.888132833117979\n",
       "  6.776263578034403e-21\n",
       "  6.776263578034403e-21\n",
       "  1.6653345369377348e-16\n",
       "  1.6653345369377348e-16\n",
       "  2.888132833117979"
      ]
     },
     "metadata": {},
     "output_type": "display_data"
    },
    {
     "data": {
      "text/plain": [
       "6-element Vector{Float64}:\n",
       " -2.888973391095181\n",
       " -1.734723475976807e-18\n",
       " -1.734723475976807e-18\n",
       "  3.3306690738754696e-16\n",
       "  3.3306690738754696e-16\n",
       "  2.8889733910951803"
      ]
     },
     "metadata": {},
     "output_type": "display_data"
    },
    {
     "data": {
      "text/plain": [
       "6-element Vector{Float64}:\n",
       " -2.8935770596542145\n",
       " -8.673617379884035e-19\n",
       " -8.673617379884035e-19\n",
       "  1.6653345369377348e-16\n",
       "  1.6653345369377348e-16\n",
       "  2.893577059654215"
      ]
     },
     "metadata": {},
     "output_type": "display_data"
    },
    {
     "data": {
      "text/plain": [
       "6-element Vector{Float64}:\n",
       " -2.90188632733507\n",
       "  2.7755575615628914e-17\n",
       "  2.7755575615628914e-17\n",
       "  5.551115123125783e-17\n",
       "  5.551115123125783e-17\n",
       "  2.9018863273350695"
      ]
     },
     "metadata": {},
     "output_type": "display_data"
    },
    {
     "data": {
      "text/plain": [
       "6-element Vector{Float64}:\n",
       " -2.9136169507115772\n",
       " -5.551115123125783e-17\n",
       " -5.551115123125783e-17\n",
       "  6.938893903907228e-18\n",
       "  6.938893903907228e-18\n",
       "  2.9136169507115772"
      ]
     },
     "metadata": {},
     "output_type": "display_data"
    },
    {
     "data": {
      "text/plain": [
       "6-element Vector{Float64}:\n",
       " -2.928031048320513\n",
       " -1.734723475976807e-18\n",
       " -1.734723475976807e-18\n",
       "  2.7755575615628914e-16\n",
       "  2.7755575615628914e-16\n",
       "  2.928031048320513"
      ]
     },
     "metadata": {},
     "output_type": "display_data"
    },
    {
     "data": {
      "text/plain": [
       "6-element Vector{Float64}:\n",
       " -2.943775680686415\n",
       " -2.7755575615628914e-17\n",
       " -2.7755575615628914e-17\n",
       " -2.7755575615628914e-17\n",
       " -2.7755575615628914e-17\n",
       "  2.9437756806864144"
      ]
     },
     "metadata": {},
     "output_type": "display_data"
    },
    {
     "data": {
      "text/plain": [
       "6-element Vector{Float64}:\n",
       " -2.958907608937045\n",
       "  0.0\n",
       "  0.0\n",
       "  0.0\n",
       "  0.0\n",
       "  2.958907608937045"
      ]
     },
     "metadata": {},
     "output_type": "display_data"
    },
    {
     "data": {
      "text/plain": [
       "6-element Vector{Float64}:\n",
       " -2.971171246671849\n",
       " -1.1102230246251565e-16\n",
       " -1.1102230246251565e-16\n",
       " -2.6020852139652106e-18\n",
       " -2.6020852139652106e-18\n",
       "  2.97117124667185"
      ]
     },
     "metadata": {},
     "output_type": "display_data"
    },
    {
     "data": {
      "text/plain": [
       "6-element Vector{Float64}:\n",
       " -2.9784935416791973\n",
       " -1.6653345369377348e-16\n",
       " -1.6653345369377348e-16\n",
       "  8.673617379884035e-19\n",
       "  8.673617379884035e-19\n",
       "  2.9784935416791978"
      ]
     },
     "metadata": {},
     "output_type": "display_data"
    },
    {
     "data": {
      "text/plain": [
       "6-element Vector{Float64}:\n",
       " -2.9797150490051845\n",
       " -4.336808689942018e-19\n",
       " -4.336808689942018e-19\n",
       "  0.0\n",
       "  0.0\n",
       "  2.979715049005184"
      ]
     },
     "metadata": {},
     "output_type": "display_data"
    },
    {
     "data": {
      "text/plain": [
       "6-element Vector{Float64}:\n",
       " -2.978593904373195\n",
       " -1.0842021724855044e-19\n",
       " -1.0842021724855044e-19\n",
       "  1.1102230246251565e-16\n",
       "  1.1102230246251565e-16\n",
       "  2.9785939043731955"
      ]
     },
     "metadata": {},
     "output_type": "display_data"
    },
    {
     "data": {
      "text/plain": [
       "6-element Vector{Float64}:\n",
       " -2.978575702762847\n",
       "  0.0\n",
       "  0.0\n",
       "  3.469446951953614e-18\n",
       "  3.469446951953614e-18\n",
       "  2.9785757027628486"
      ]
     },
     "metadata": {},
     "output_type": "display_data"
    },
    {
     "data": {
      "text/plain": [
       "6-element Vector{Float64}:\n",
       " -2.978557387987143\n",
       "  0.0\n",
       "  0.0\n",
       "  2.6020852139652106e-18\n",
       "  2.6020852139652106e-18\n",
       "  2.978557387987143"
      ]
     },
     "metadata": {},
     "output_type": "display_data"
    },
    {
     "data": {
      "text/plain": [
       "6-element Vector{Float64}:\n",
       " -2.978538953888093\n",
       " -8.673617379884035e-19\n",
       " -8.673617379884035e-19\n",
       "  1.1102230246251565e-16\n",
       "  1.1102230246251565e-16\n",
       "  2.9785389538880933"
      ]
     },
     "metadata": {},
     "output_type": "display_data"
    },
    {
     "data": {
      "text/plain": [
       "6-element Vector{Float64}:\n",
       " -2.978520399716948\n",
       "  0.0\n",
       "  0.0\n",
       "  1.6653345369377348e-16\n",
       "  1.6653345369377348e-16\n",
       "  2.978520399716949"
      ]
     },
     "metadata": {},
     "output_type": "display_data"
    },
    {
     "data": {
      "text/plain": [
       "6-element Vector{Float64}:\n",
       " -2.9785017252748878\n",
       " -5.551115123125783e-17\n",
       " -5.551115123125783e-17\n",
       "  2.168404344971009e-19\n",
       "  2.168404344971009e-19\n",
       "  2.9785017252748887"
      ]
     },
     "metadata": {},
     "output_type": "display_data"
    },
    {
     "data": {
      "text/plain": [
       "6-element Vector{Float64}:\n",
       " -2.978482930509838\n",
       "  0.0\n",
       "  0.0\n",
       "  2.168404344971009e-19\n",
       "  2.168404344971009e-19\n",
       "  2.9784829305098377"
      ]
     },
     "metadata": {},
     "output_type": "display_data"
    },
    {
     "data": {
      "text/plain": [
       "6-element Vector{Float64}:\n",
       " -2.978464015425653\n",
       " -6.505213034913027e-19\n",
       " -6.505213034913027e-19\n",
       "  1.1102230246251565e-16\n",
       "  1.1102230246251565e-16\n",
       "  2.978464015425653"
      ]
     },
     "metadata": {},
     "output_type": "display_data"
    },
    {
     "data": {
      "text/plain": [
       "6-element Vector{Float64}:\n",
       " -2.978444980052223\n",
       " -1.1102230246251565e-16\n",
       " -1.1102230246251565e-16\n",
       "  1.734723475976807e-18\n",
       "  1.734723475976807e-18\n",
       "  2.978444980052223"
      ]
     },
     "metadata": {},
     "output_type": "display_data"
    },
    {
     "data": {
      "text/plain": [
       "6-element Vector{Float64}:\n",
       " -2.978425824433272\n",
       " -1.6653345369377348e-16\n",
       " -1.6653345369377348e-16\n",
       "  2.168404344971009e-19\n",
       "  2.168404344971009e-19\n",
       "  2.9784258244332715"
      ]
     },
     "metadata": {},
     "output_type": "display_data"
    },
    {
     "data": {
      "text/plain": [
       "6-element Vector{Float64}:\n",
       " -2.978406548620573\n",
       " -2.168404344971009e-19\n",
       " -2.168404344971009e-19\n",
       "  5.551115123125783e-17\n",
       "  5.551115123125783e-17\n",
       "  2.9784065486205735"
      ]
     },
     "metadata": {},
     "output_type": "display_data"
    },
    {
     "data": {
      "text/plain": [
       "6-element Vector{Float64}:\n",
       " -2.9783871526709675\n",
       " -2.168404344971009e-19\n",
       " -2.168404344971009e-19\n",
       "  1.6653345369377348e-16\n",
       "  1.6653345369377348e-16\n",
       "  2.9783871526709667"
      ]
     },
     "metadata": {},
     "output_type": "display_data"
    },
    {
     "data": {
      "text/plain": [
       "6-element Vector{Float64}:\n",
       " -2.978367636644581\n",
       " -1.1102230246251565e-16\n",
       " -1.1102230246251565e-16\n",
       "  3.469446951953614e-18\n",
       "  3.469446951953614e-18\n",
       "  2.978367636644581"
      ]
     },
     "metadata": {},
     "output_type": "display_data"
    },
    {
     "data": {
      "text/plain": [
       "6-element Vector{Float64}:\n",
       " -2.9783480006038143\n",
       " -3.3306690738754696e-16\n",
       " -3.3306690738754696e-16\n",
       " -1.734723475976807e-18\n",
       " -1.734723475976807e-18\n",
       "  2.9783480006038148"
      ]
     },
     "metadata": {},
     "output_type": "display_data"
    },
    {
     "data": {
      "text/plain": [
       "6-element Vector{Float64}:\n",
       " -2.9783282446126407\n",
       " -5.551115123125783e-17\n",
       " -5.551115123125783e-17\n",
       " -4.336808689942018e-19\n",
       " -4.336808689942018e-19\n",
       "  2.9783282446126402"
      ]
     },
     "metadata": {},
     "output_type": "display_data"
    },
    {
     "data": {
      "text/plain": [
       "6-element Vector{Float64}:\n",
       " -2.978308368736047\n",
       "  0.0\n",
       "  0.0\n",
       "  1.6653345369377348e-16\n",
       "  1.6653345369377348e-16\n",
       "  2.9783083687360477"
      ]
     },
     "metadata": {},
     "output_type": "display_data"
    },
    {
     "data": {
      "text/plain": [
       "6-element Vector{Float64}:\n",
       " -2.978288373039687\n",
       " -5.551115123125783e-17\n",
       " -5.551115123125783e-17\n",
       " -1.0842021724855044e-19\n",
       " -1.0842021724855044e-19\n",
       "  2.978288373039687"
      ]
     },
     "metadata": {},
     "output_type": "display_data"
    },
    {
     "data": {
      "text/plain": [
       "6-element Vector{Float64}:\n",
       " -2.978268257589476\n",
       "  2.168404344971009e-19\n",
       "  2.168404344971009e-19\n",
       "  1.1102230246251565e-16\n",
       "  1.1102230246251565e-16\n",
       "  2.9782682575894768"
      ]
     },
     "metadata": {},
     "output_type": "display_data"
    },
    {
     "data": {
      "text/plain": [
       "6-element Vector{Float64}:\n",
       " -2.9782480224511754\n",
       "  0.0\n",
       "  0.0\n",
       "  2.220446049250313e-16\n",
       "  2.220446049250313e-16\n",
       "  2.9782480224511754"
      ]
     },
     "metadata": {},
     "output_type": "display_data"
    },
    {
     "data": {
      "text/plain": [
       "6-element Vector{Float64}:\n",
       " -2.978227667689949\n",
       "  0.0\n",
       "  0.0\n",
       "  1.0408340855860843e-17\n",
       "  1.0408340855860843e-17\n",
       "  2.97822766768995"
      ]
     },
     "metadata": {},
     "output_type": "display_data"
    },
    {
     "data": {
      "text/plain": [
       "6-element Vector{Float64}:\n",
       " -2.9782071933696486\n",
       " -2.7755575615628914e-16\n",
       " -2.7755575615628914e-16\n",
       " -8.673617379884035e-19\n",
       " -8.673617379884035e-19\n",
       "  2.978207193369648"
      ]
     },
     "metadata": {},
     "output_type": "display_data"
    },
    {
     "data": {
      "text/plain": [
       "6-element Vector{Float64}:\n",
       " -2.9781865995518437\n",
       " -2.168404344971009e-18\n",
       " -2.168404344971009e-18\n",
       "  2.220446049250313e-16\n",
       "  2.220446049250313e-16\n",
       "  2.9781865995518455"
      ]
     },
     "metadata": {},
     "output_type": "display_data"
    },
    {
     "data": {
      "text/plain": [
       "6-element Vector{Float64}:\n",
       " -2.9781658862942066\n",
       "  0.0\n",
       "  0.0\n",
       "  0.0\n",
       "  0.0\n",
       "  2.978165886294207"
      ]
     },
     "metadata": {},
     "output_type": "display_data"
    },
    {
     "data": {
      "text/plain": [
       "6-element Vector{Float64}:\n",
       " -2.9781450536476757\n",
       " -1.6653345369377348e-16\n",
       " -1.6653345369377348e-16\n",
       " -2.168404344971009e-19\n",
       " -2.168404344971009e-19\n",
       "  2.9781450536476757"
      ]
     },
     "metadata": {},
     "output_type": "display_data"
    },
    {
     "data": {
      "text/plain": [
       "6-element Vector{Float64}:\n",
       " -2.9781241016511166\n",
       " -1.1102230246251565e-16\n",
       " -1.1102230246251565e-16\n",
       " -3.2526065174565133e-19\n",
       " -3.2526065174565133e-19\n",
       "  2.9781241016511166"
      ]
     },
     "metadata": {},
     "output_type": "display_data"
    },
    {
     "data": {
      "text/plain": [
       "6-element Vector{Float64}:\n",
       " -2.978103030319926\n",
       "  5.421010862427522e-20\n",
       "  5.421010862427522e-20\n",
       "  1.1102230246251565e-16\n",
       "  1.1102230246251565e-16\n",
       "  2.978103030319927"
      ]
     },
     "metadata": {},
     "output_type": "display_data"
    },
    {
     "data": {
      "text/plain": [
       "6-element Vector{Float64}:\n",
       " -2.978081839618281\n",
       " -1.1102230246251565e-16\n",
       " -1.1102230246251565e-16\n",
       "  0.0\n",
       "  0.0\n",
       "  2.978081839618282"
      ]
     },
     "metadata": {},
     "output_type": "display_data"
    },
    {
     "data": {
      "text/plain": [
       "6-element Vector{Float64}:\n",
       " -2.9780605293744644\n",
       "  0.0\n",
       "  0.0\n",
       "  0.0\n",
       "  0.0\n",
       "  2.978060529374463"
      ]
     },
     "metadata": {},
     "output_type": "display_data"
    },
    {
     "data": {
      "text/plain": [
       "6-element Vector{Float64}:\n",
       " -2.9780390989023395\n",
       " -2.220446049250313e-16\n",
       " -2.220446049250313e-16\n",
       "  3.469446951953614e-18\n",
       "  3.469446951953614e-18\n",
       "  2.9780390989023395"
      ]
     },
     "metadata": {},
     "output_type": "display_data"
    },
    {
     "data": {
      "text/plain": [
       "6-element Vector{Float64}:\n",
       " -2.9780175423000412\n",
       " -3.469446951953614e-18\n",
       " -3.469446951953614e-18\n",
       "  1.6653345369377348e-16\n",
       "  1.6653345369377348e-16\n",
       "  2.978017542300042"
      ]
     },
     "metadata": {},
     "output_type": "display_data"
    },
    {
     "data": {
      "text/plain": [
       "6-element Vector{Float64}:\n",
       " -2.975943132476128\n",
       " -6.505213034913027e-19\n",
       " -6.505213034913027e-19\n",
       "  0.0\n",
       "  0.0\n",
       "  2.9759431324761283"
      ]
     },
     "metadata": {},
     "output_type": "display_data"
    },
    {
     "data": {
      "text/plain": [
       "6-element Vector{Float64}:\n",
       " -2.9661934991311494\n",
       " -2.220446049250313e-16\n",
       " -2.220446049250313e-16\n",
       " -1.734723475976807e-18\n",
       " -1.734723475976807e-18\n",
       "  2.9661934991311494"
      ]
     },
     "metadata": {},
     "output_type": "display_data"
    }
   ],
   "source": [
    "for i=1:size(ztraj)[2]\n",
    "#for i=1:10\n",
    "    A = ForwardDiff.jacobian(_X -> non_linear_dynamics(_X), ztraj[1:6,i]) \n",
    "    stable = real(eigen(A).vectors)[:,1]\n",
    "    unstable = real(eigen(A).vectors)[:,1]\n",
    "    \n",
    "    x_unstable = ztraj[1:6, i] + unstable\n",
    "    \n",
    "    unstable_manifolds[i] = x_unstable\n",
    "    \n",
    "    for k=2:N-1\n",
    "        \n",
    "    end\n",
    "    #x_stable = ztraj[1:6, i] + stable\n",
    "    \n",
    "    \n",
    "end"
   ]
  },
  {
   "cell_type": "code",
   "execution_count": null,
   "id": "150f154c",
   "metadata": {},
   "outputs": [],
   "source": []
  }
 ],
 "metadata": {
  "kernelspec": {
   "display_name": "Julia 1.6.5",
   "language": "julia",
   "name": "julia-1.6"
  },
  "language_info": {
   "file_extension": ".jl",
   "mimetype": "application/julia",
   "name": "julia",
   "version": "1.6.5"
  }
 },
 "nbformat": 4,
 "nbformat_minor": 5
}
